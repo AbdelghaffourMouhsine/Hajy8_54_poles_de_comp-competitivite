{
 "cells": [
  {
   "cell_type": "code",
   "execution_count": 203,
   "id": "4f17c9bb-ff1e-43da-8985-cdf228c56e12",
   "metadata": {},
   "outputs": [
    {
     "data": {
      "text/html": [
       "<div>\n",
       "<style scoped>\n",
       "    .dataframe tbody tr th:only-of-type {\n",
       "        vertical-align: middle;\n",
       "    }\n",
       "\n",
       "    .dataframe tbody tr th {\n",
       "        vertical-align: top;\n",
       "    }\n",
       "\n",
       "    .dataframe thead th {\n",
       "        text-align: right;\n",
       "    }\n",
       "</style>\n",
       "<table border=\"1\" class=\"dataframe\">\n",
       "  <thead>\n",
       "    <tr style=\"text-align: right;\">\n",
       "      <th></th>\n",
       "      <th>Rang</th>\n",
       "      <th>poles</th>\n",
       "      <th>Domaines d’activité</th>\n",
       "      <th>Membres actifs</th>\n",
       "      <th>Informations générales</th>\n",
       "      <th>Contact</th>\n",
       "    </tr>\n",
       "  </thead>\n",
       "  <tbody>\n",
       "    <tr>\n",
       "      <th>0</th>\n",
       "      <td>1</td>\n",
       "      <td>Aerospace Valley</td>\n",
       "      <td>Aéronautique\\nEspace\\nDrones\\nSystèmes embarqués</td>\n",
       "      <td>Grandes entreprises : 58\\nPME : 592\\nRecherche...</td>\n",
       "      <td>Président : M. Bruno DARBOUX\\nDirecteur Généra...</td>\n",
       "      <td>Bâtiment B612 - 3 Rue Tarfaya\\n\\nCS 64403\\n\\n3...</td>\n",
       "    </tr>\n",
       "    <tr>\n",
       "      <th>1</th>\n",
       "      <td>2</td>\n",
       "      <td>Agri Sud-Ouest Innovation</td>\n",
       "      <td>Agri Sud-Ouest Innovation porte une stratégie ...</td>\n",
       "      <td>430 membres actifs, dont (extraction des membr...</td>\n",
       "      <td>Président : Cédric CABANES\\n\\nDirecteur Généra...</td>\n",
       "      <td>Agences : Toulouse, Bordeaux, Montpellier, Poi...</td>\n",
       "    </tr>\n",
       "    <tr>\n",
       "      <th>2</th>\n",
       "      <td>3</td>\n",
       "      <td>Alpha-RLH</td>\n",
       "      <td>Photonique-Laser\\n\\nÉlectronique-Hyperfréquences</td>\n",
       "      <td>Grandes entreprises : Grands groupes = 15 / ET...</td>\n",
       "      <td>Président : Jean-Pierre GIANNINI\\n\\nDirecteur ...</td>\n",
       "      <td>ALPHA-RLH - Institut d’Optique d’Aquitaine\\n\\n...</td>\n",
       "    </tr>\n",
       "    <tr>\n",
       "      <th>3</th>\n",
       "      <td>4</td>\n",
       "      <td>Aqua-Valley</td>\n",
       "      <td>Centré sur les interactions entre les changeme...</td>\n",
       "      <td>Nombre de membres : 246\\n\\nGrandes entreprises...</td>\n",
       "      <td>Président : Jean-Luc ERBETTA\\n\\nDirecteur géné...</td>\n",
       "      <td>Région Occitanie : Montpellier (34), Toulouse ...</td>\n",
       "    </tr>\n",
       "    <tr>\n",
       "      <th>4</th>\n",
       "      <td>5</td>\n",
       "      <td>Aquanova</td>\n",
       "      <td>La feuille de route innovation du pôle Aquanov...</td>\n",
       "      <td>Nombre de membres : 320\\n\\n263 entreprises don...</td>\n",
       "      <td>N.B : Ces informations sont temporaires dans l...</td>\n",
       "      <td>NaN</td>\n",
       "    </tr>\n",
       "    <tr>\n",
       "      <th>5</th>\n",
       "      <td>6</td>\n",
       "      <td>Aquimer</td>\n",
       "      <td>Pêche\\n\\nAquaculture\\n\\nTransformation des pro...</td>\n",
       "      <td>A ce jour, AQUIMER compte 205 établissements m...</td>\n",
       "      <td>Président : Jean-Loup Lesaffre : contact [@] p...</td>\n",
       "      <td>AQUIMER\\n\\n16 rue du Commandant Charcot CS1038...</td>\n",
       "    </tr>\n",
       "    <tr>\n",
       "      <th>6</th>\n",
       "      <td>7</td>\n",
       "      <td>ASTech Paris Region</td>\n",
       "      <td>Aéronautique\\n\\nEspace\\n\\nDéfense</td>\n",
       "      <td>AIR FRANCE INDUSTRIES \\nARIANEGROUP SAS\\nCCI P...</td>\n",
       "      <td>Présidente : Marie-Christine OGHLY\\n\\nDirecteu...</td>\n",
       "      <td>ASTech\\n\\n1-3 allée de Bruxelles - Aéroport de...</td>\n",
       "    </tr>\n",
       "    <tr>\n",
       "      <th>7</th>\n",
       "      <td>8</td>\n",
       "      <td>Atlanpole Biotherapies</td>\n",
       "      <td>Santé</td>\n",
       "      <td>Collège 1 (Entreprises) : 125\\nCollège 2 (Acad...</td>\n",
       "      <td>Président : Franck GRIMAUD – Valneva\\n\\nVice-p...</td>\n",
       "      <td>Tél : 02 40 25 13 99\\n\\ncontact[ @ ]atlanpoleb...</td>\n",
       "    </tr>\n",
       "    <tr>\n",
       "      <th>8</th>\n",
       "      <td>9</td>\n",
       "      <td>Avenia</td>\n",
       "      <td>Géothermie\\n\\nStockage souterrain (gaz naturel...</td>\n",
       "      <td>EDF, ARVERNE, TOTALENERGIES, ORANO, 45-8 ENERG...</td>\n",
       "      <td>Président : Jean-Loup Minebois (TEREGA)\\n\\nDir...</td>\n",
       "      <td>PÔLE AVENIA\\n\\nHélioparc - 2 Avenue Pierre ANG...</td>\n",
       "    </tr>\n",
       "    <tr>\n",
       "      <th>9</th>\n",
       "      <td>10</td>\n",
       "      <td>Axelera</td>\n",
       "      <td>Chimie\\n\\nEnvironnement</td>\n",
       "      <td>Grandes entreprises : 16 groupes et 36 filiale...</td>\n",
       "      <td>Président : Pierre-Yves BONDON\\n\\nDirecteur Gé...</td>\n",
       "      <td>AXELERA\\n\\nRond-point de l’échangeur - Les Lev...</td>\n",
       "    </tr>\n",
       "    <tr>\n",
       "      <th>10</th>\n",
       "      <td>11</td>\n",
       "      <td>Bioeconomy For Change (B4C)</td>\n",
       "      <td>Bioéconomie\\n\\nFood &amp; Feed\\n\\nBioénergies\\n\\nM...</td>\n",
       "      <td>Grandes entreprises : 53\\nPME : 244\\nRecherche...</td>\n",
       "      <td>Président : Michel MANGION\\n\\nDirecteur Généra...</td>\n",
       "      <td>Pôle de compétitivité Bioeconomy For Change (B...</td>\n",
       "    </tr>\n",
       "    <tr>\n",
       "      <th>11</th>\n",
       "      <td>12</td>\n",
       "      <td>Biovalley France</td>\n",
       "      <td>Thérapie Innovante\\n\\nDispositif médical\\n\\nE-...</td>\n",
       "      <td>Membres actifs : 185\\n4 (Associations et résea...</td>\n",
       "      <td>Président : Stephan JENN\\n\\nDéléguée Générale ...</td>\n",
       "      <td>BioValley France\\n\\n550 bd Gonthier d’Andernac...</td>\n",
       "    </tr>\n",
       "    <tr>\n",
       "      <th>12</th>\n",
       "      <td>13</td>\n",
       "      <td>Grand-Est</td>\n",
       "      <td>Bâtiment/ville durable\\n\\nMatériaux\\n\\nÉnergie...</td>\n",
       "      <td>Grandes entreprises : 10\\nETI : 22\\nPME : 65\\n...</td>\n",
       "      <td>Président : Cédric Simonin, p.simonin [@] buil...</td>\n",
       "      <td>Grand-Est</td>\n",
       "    </tr>\n",
       "    <tr>\n",
       "      <th>13</th>\n",
       "      <td>14</td>\n",
       "      <td>Cap Digital</td>\n",
       "      <td>Innovation numérique\\n\\nTransition numérique\\n...</td>\n",
       "      <td>Grandes entreprises : 70\\nPME : 850\\nRecherche...</td>\n",
       "      <td>Président : Charles Huot\\n\\nDélégué Général : ...</td>\n",
       "      <td>CAP DIGITAL\\n\\n14 rue Alexandre Parodi\\n\\n7501...</td>\n",
       "    </tr>\n",
       "    <tr>\n",
       "      <th>14</th>\n",
       "      <td>15</td>\n",
       "      <td>Capenergies</td>\n",
       "      <td>Le pôle se concentre sur 4 domaines d’action s...</td>\n",
       "      <td>Entreprises (PME, ETI, Groupe) : 325 dont 90 %...</td>\n",
       "      <td>Président : Christophe BOURMAUD\\n\\nDirectrice ...</td>\n",
       "      <td>Domaine du Petit Arbois, Avenue Louis Philiber...</td>\n",
       "    </tr>\n",
       "    <tr>\n",
       "      <th>15</th>\n",
       "      <td>16</td>\n",
       "      <td>CARA</td>\n",
       "      <td>Transports et Mobilités</td>\n",
       "      <td>Renault Trucks / Volvo Trucks\\nIVECO\\nMICHELIN...</td>\n",
       "      <td>Président : Gilles Le Carre\\n\\nDélégué Général...</td>\n",
       "      <td>CARA\\n\\n1 boulevard Edmond Michelet\\n\\n69008 L...</td>\n",
       "    </tr>\n",
       "    <tr>\n",
       "      <th>16</th>\n",
       "      <td>17</td>\n",
       "      <td>CIMES</td>\n",
       "      <td>Un pôle dédié à l’ingénierie mécanicienne, au ...</td>\n",
       "      <td>Michelin\\nConstellium\\nAubert &amp; Duval\\nHEF\\nHa...</td>\n",
       "      <td>Président : Jacques LE DOUCEN\\n\\nDirecteur Gén...</td>\n",
       "      <td>CIMES\\n\\nSiège social : CIMES Auvergne-Rhône -...</td>\n",
       "    </tr>\n",
       "    <tr>\n",
       "      <th>17</th>\n",
       "      <td>18</td>\n",
       "      <td>Clubster NSL</td>\n",
       "      <td>Agro-nutrition\\n\\nMedtech-Hospitech\\n\\nBiotech...</td>\n",
       "      <td>360 membres actifs, dont :\\nEntreprises : 70%\\...</td>\n",
       "      <td>Président : Jean-Claude CHARLES\\n\\nDirecteur G...</td>\n",
       "      <td>Clubster NSL\\n\\n310 Avenue Eugène Avinée Parc ...</td>\n",
       "    </tr>\n",
       "    <tr>\n",
       "      <th>18</th>\n",
       "      <td>19</td>\n",
       "      <td>Cosmetic Valley</td>\n",
       "      <td>Ingrédients dédiés à la parfumerie cosmétique\\...</td>\n",
       "      <td>TPE : 252\\nPME et ETI : 297\\nGrandes entrepris...</td>\n",
       "      <td>Directeur Général : Christophe MASSON \\n\\nResp...</td>\n",
       "      <td>Cosmetic Valley\\n\\n1 place de la cathédrale\\n\\...</td>\n",
       "    </tr>\n",
       "    <tr>\n",
       "      <th>19</th>\n",
       "      <td>20</td>\n",
       "      <td>Derbi</td>\n",
       "      <td>Production d’énergie renouvelable adaptée aux ...</td>\n",
       "      <td>Grandes entreprises / ETI : 26\\nPME : 40\\nMicr...</td>\n",
       "      <td>Président : André JOFFRE\\n\\nDirecteur général ...</td>\n",
       "      <td>Pôle de compétitivité DERBI\\n\\n52, avenue Paul...</td>\n",
       "    </tr>\n",
       "    <tr>\n",
       "      <th>20</th>\n",
       "      <td>21</td>\n",
       "      <td>EMC2</td>\n",
       "      <td>Aéronautique\\n\\nNaval\\n\\nDéfense\\n\\nSolutions ...</td>\n",
       "      <td>Grands groupes : 55\\nETI : 61\\nPME : 244\\nEtab...</td>\n",
       "      <td>Président : Stéphane Klein\\n\\nDirecteur Généra...</td>\n",
       "      <td>Pôle EMC2\\n\\nChemin du Chaffault – 44340 Bougu...</td>\n",
       "    </tr>\n",
       "    <tr>\n",
       "      <th>21</th>\n",
       "      <td>22</td>\n",
       "      <td>EuraMaterials</td>\n",
       "      <td>Matériaux durables : économie circulaire, perf...</td>\n",
       "      <td>171 membres dont 122 entreprises\\n37 acteurs d...</td>\n",
       "      <td>Président : Jean-François Dehouck\\n\\nDirecteur...</td>\n",
       "      <td>EuraMaterials\\n\\n41 rue des Métissages - CS703...</td>\n",
       "    </tr>\n",
       "    <tr>\n",
       "      <th>22</th>\n",
       "      <td>23</td>\n",
       "      <td>Eurobiomed</td>\n",
       "      <td>Médicament\\n\\nDispositif médical\\n\\nSolutions ...</td>\n",
       "      <td>Grandes entreprises : 14\\nPME : 298\\nRecherche...</td>\n",
       "      <td>Directrice Générale : Emilie ROYERE</td>\n",
       "      <td>Eurobiomed\\n\\n8 rue Sainte Barbe\\n\\n13001 MARS...</td>\n",
       "    </tr>\n",
       "    <tr>\n",
       "      <th>23</th>\n",
       "      <td>24</td>\n",
       "      <td>Finance Innovation</td>\n",
       "      <td>Assurance\\n\\nBanque\\n\\nFinance durable et soli...</td>\n",
       "      <td>Grandes entreprises : 115\\nPME : 63\\nTPE : 387...</td>\n",
       "      <td>Directeur Général : Maximilien NAYARADOU / max...</td>\n",
       "      <td>FINANCE INNOVATION\\n\\n28 Place de la Bourse\\n\\...</td>\n",
       "    </tr>\n",
       "    <tr>\n",
       "      <th>24</th>\n",
       "      <td>25</td>\n",
       "      <td>Hippolia</td>\n",
       "      <td>Présidente : Mme Laurence MEUNIER\\n\\nDirectric...</td>\n",
       "      <td>235 Membres</td>\n",
       "      <td>Présidente : Mme Laurence MEUNIER\\n\\nDirectric...</td>\n",
       "      <td>Pôle Hippolia\\n\\nMaison du cheval - Campus Eff...</td>\n",
       "    </tr>\n",
       "    <tr>\n",
       "      <th>25</th>\n",
       "      <td>26</td>\n",
       "      <td>i-TRANS</td>\n",
       "      <td>Ferroviaire\\n\\nAutomobile\\n\\nAéronautique\\n\\nE...</td>\n",
       "      <td>Grandes entreprises : 11\\nETI : 9\\nPME : 42\\nS...</td>\n",
       "      <td>Président : Bernard SCHAER\\n\\nDirecteur exécut...</td>\n",
       "      <td>iTrans\\n\\n180 rue Joseph Louis Lagrange\\n\\n593...</td>\n",
       "    </tr>\n",
       "    <tr>\n",
       "      <th>26</th>\n",
       "      <td>27</td>\n",
       "      <td>ID4MOBILITY</td>\n",
       "      <td>Automobile\\n\\nVéhicule spécifique\\n\\nOff-road ...</td>\n",
       "      <td>PME : 227\\nETI : 56\\nGrandes entreprises : 66\\...</td>\n",
       "      <td>Président : Vincent CHAILLOU\\n\\nDirecteur Géné...</td>\n",
       "      <td>ID4MOBILITY\\n\\n40 rue La Tour d'Auvergne\\n\\n44...</td>\n",
       "    </tr>\n",
       "    <tr>\n",
       "      <th>27</th>\n",
       "      <td>28</td>\n",
       "      <td>Images &amp; Réseaux</td>\n",
       "      <td>Technologies et usages du numérique</td>\n",
       "      <td>Entreprises (PME/ETI/Startups, grands groupes)...</td>\n",
       "      <td>Président : Vincent Marcatté\\n\\nDirecteur : Gu...</td>\n",
       "      <td>images &amp; Réseaux\\n\\n4 rue Ampère 22300 Lannion...</td>\n",
       "    </tr>\n",
       "    <tr>\n",
       "      <th>28</th>\n",
       "      <td>29</td>\n",
       "      <td>Innov'Alliance</td>\n",
       "      <td>Agriculture\\n\\nAlimentation\\n\\nCompléments ali...</td>\n",
       "      <td>Entreprises : 75 % dont startups 32  % et gran...</td>\n",
       "      <td>Président : Yves Faure\\n\\nDirecteur général : ...</td>\n",
       "      <td>Innov’Alliance Avignon (Siège social)\\n\\n100 r...</td>\n",
       "    </tr>\n",
       "    <tr>\n",
       "      <th>29</th>\n",
       "      <td>30</td>\n",
       "      <td>Lyonbiopôle</td>\n",
       "      <td>Médicaments à usage humain\\nMédicaments vétéri...</td>\n",
       "      <td>Grandes entreprises : 14\\nPME : 228\\nRecherche...</td>\n",
       "      <td>Président : Philippe SANS\\n\\nDirectrice Généra...</td>\n",
       "      <td>Lyonbiopôle\\n\\nBâtiment EKLAA\\n63 Avenue Tony ...</td>\n",
       "    </tr>\n",
       "    <tr>\n",
       "      <th>30</th>\n",
       "      <td>31</td>\n",
       "      <td>NextMove</td>\n",
       "      <td>Automobile\\n\\n&amp;\\n\\nMobilités</td>\n",
       "      <td>https://nextmove.fr/membres</td>\n",
       "      <td>Président : Philippe PREVEL\\n\\nDirecteur Génér...</td>\n",
       "      <td>Innovapôle 76\\n\\n50 rue Ettore Bugatti\\n\\n7680...</td>\n",
       "    </tr>\n",
       "    <tr>\n",
       "      <th>31</th>\n",
       "      <td>32</td>\n",
       "      <td>MEDICEN PARIS REGION</td>\n",
       "      <td>Innovation santé / Healthtech\\n\\nAnimation du ...</td>\n",
       "      <td>Grandes entreprises et ETI : 37\\nPMEs innovant...</td>\n",
       "      <td>Président : Christian DELEUZE\\n\\nDéléguée géné...</td>\n",
       "      <td>Medicen\\n\\n130, rue de Lourmel 75015 Paris\\n\\n...</td>\n",
       "    </tr>\n",
       "    <tr>\n",
       "      <th>32</th>\n",
       "      <td>33</td>\n",
       "      <td>Minalogic</td>\n",
       "      <td>MINALOGIC se positionne sur onze thématiques :...</td>\n",
       "      <td>500 membres\\n440 Entreprises\\n15 banques et in...</td>\n",
       "      <td>Président : Serge Veyres, STMicroelectronics\\n...</td>\n",
       "      <td>MINALOGIC\\n\\nMaison Minatec - 3, parvis Louis ...</td>\n",
       "    </tr>\n",
       "    <tr>\n",
       "      <th>33</th>\n",
       "      <td>34</td>\n",
       "      <td>PMT - Pôle des microtechniques</td>\n",
       "      <td>Le PMT a développé une approche Filières autou...</td>\n",
       "      <td>240 adhérents : 70% industriels + 20% services...</td>\n",
       "      <td>Président : Laurent DESCHAMPS\\n\\n0680895375 / ...</td>\n",
       "      <td>PMT - Pôle de compétitivité\\n\\nTEMIS Innovatio...</td>\n",
       "    </tr>\n",
       "    <tr>\n",
       "      <th>34</th>\n",
       "      <td>35</td>\n",
       "      <td>Nuclear Valley</td>\n",
       "      <td>Nucléaire Civil\\n\\nDéfense</td>\n",
       "      <td>EDF\\nFRAMATOME\\nORANO\\nCEA\\nANDRA</td>\n",
       "      <td>Président : Philippe FRANTZ\\n\\nDirectrice géné...</td>\n",
       "      <td>Siège de Nuclear Valley - Bourgogne Franche Co...</td>\n",
       "    </tr>\n",
       "    <tr>\n",
       "      <th>35</th>\n",
       "      <td>36</td>\n",
       "      <td>Optitec</td>\n",
       "      <td>Sécurité / défense &amp; grands instruments scient...</td>\n",
       "      <td>Entreprises : 128\\nLaboratoires académiques et...</td>\n",
       "      <td>Président : Gérard BERGINC\\n\\nDirecteur Généra...</td>\n",
       "      <td>OPTITEC - C/o LAM\\n\\nPACA\\n\\n38, rue Joliot-Cu...</td>\n",
       "    </tr>\n",
       "    <tr>\n",
       "      <th>36</th>\n",
       "      <td>37</td>\n",
       "      <td>Pôle Européen de la Céramique</td>\n",
       "      <td>Céramiques techniques\\n\\nCéramiques traditionn...</td>\n",
       "      <td>Grandes entreprises : 9\\nPME : 102\\nRecherche ...</td>\n",
       "      <td>Président : Éric MALES\\n\\nDirectrice Générale ...</td>\n",
       "      <td>Pôle Européen de la Céramique\\n\\n1 avenue d’Es...</td>\n",
       "    </tr>\n",
       "    <tr>\n",
       "      <th>37</th>\n",
       "      <td>38</td>\n",
       "      <td>Pôle Mer Bretagne Atlantique</td>\n",
       "      <td>Défense, sûreté et sécurité maritimes\\n\\nNaval...</td>\n",
       "      <td>41 grandes entreprises \\n242 PME\\n44 établisse...</td>\n",
       "      <td>Directeur : M. Poupon\\n\\n06.70.66.85.93\\n\\npat...</td>\n",
       "      <td>Pôle Mer Bretagne Atlantique\\n\\n525 Avenue Ale...</td>\n",
       "    </tr>\n",
       "    <tr>\n",
       "      <th>38</th>\n",
       "      <td>39</td>\n",
       "      <td>Pôle Mer Méditerranée</td>\n",
       "      <td>Bioressources\\n\\nEcotechnologies / Environneme...</td>\n",
       "      <td>Grandes entreprises : 76\\nPME : 218\\nRecherche...</td>\n",
       "      <td>Président : Laurent MOSER\\n\\nDirecteur : Frédé...</td>\n",
       "      <td>Pôle Mer Méditerranée\\n\\n93 rue Forum de la Mé...</td>\n",
       "    </tr>\n",
       "    <tr>\n",
       "      <th>39</th>\n",
       "      <td>40</td>\n",
       "      <td>Pôle S2E2</td>\n",
       "      <td>Réseaux électriques intelligents\\n\\nBâtiments ...</td>\n",
       "      <td>Grandes entreprises : 31\\nPME : 141\\nRecherche...</td>\n",
       "      <td>Président : Eric BEAUJEAN\\n\\nDirecteur : Jérôm...</td>\n",
       "      <td>PÔLE S2E2\\n\\n10 rue Thalès de Milet\\n\\n37100 T...</td>\n",
       "    </tr>\n",
       "    <tr>\n",
       "      <th>40</th>\n",
       "      <td>41</td>\n",
       "      <td>Pôle SCS – Solutions Communicantes Sécurisées</td>\n",
       "      <td>Microélectronique et Électronique\\n\\nCybersécu...</td>\n",
       "      <td>Grands groupes : AMADEUS, ST MICROELECTRONICS,...</td>\n",
       "      <td>Président : Docaposte, représentée par Fabien ...</td>\n",
       "      <td>Pôle SCS\\n\\nPlace Paul Borde 13790 Rousset\\n\\n...</td>\n",
       "    </tr>\n",
       "    <tr>\n",
       "      <th>41</th>\n",
       "      <td>42</td>\n",
       "      <td>Pôle TES</td>\n",
       "      <td>Santé : sanitaire et médico-social.\\n\\nAgricul...</td>\n",
       "      <td>Grandes entreprises : 11\\nPME : 69\\nEnseigneme...</td>\n",
       "      <td>Président : Jacques BELIN\\n\\nDirecteur : Magal...</td>\n",
       "      <td>Le Pôle TES\\n\\nBâtiment Érable, Campus EffiSci...</td>\n",
       "    </tr>\n",
       "    <tr>\n",
       "      <th>42</th>\n",
       "      <td>43</td>\n",
       "      <td>Pôle Véhicule du futur</td>\n",
       "      <td>Automobile\\n\\nTransports terrestres\\n\\nMobilit...</td>\n",
       "      <td>Grandes entreprises : 170\\nPME : 248\\nRecherch...</td>\n",
       "      <td>Président : Thierry TOURNIER\\n\\nDirecteur géné...</td>\n",
       "      <td>Pôle Véhicule du Futur - Secrétariat\\n\\n40 rue...</td>\n",
       "    </tr>\n",
       "    <tr>\n",
       "      <th>43</th>\n",
       "      <td>44</td>\n",
       "      <td>Qualitropic</td>\n",
       "      <td>Qualitropic met en avant 3 grandes filières de...</td>\n",
       "      <td>https://www.entreprises.gouv.fr/files/files/en...</td>\n",
       "      <td>Président : Xavier Bocquillet\\n\\nDirecteur : J...</td>\n",
       "      <td>Qualitropic\\n\\n5 rue André Lardy - Bâtiment B,...</td>\n",
       "    </tr>\n",
       "    <tr>\n",
       "      <th>44</th>\n",
       "      <td>45</td>\n",
       "      <td>Polymeris</td>\n",
       "      <td>Mobilité\\n\\nMédical et Santé\\n\\nEmballage\\n\\nI...</td>\n",
       "      <td>Industriel : 296\\nRecherche et Formation : 50\\...</td>\n",
       "      <td>Président : Joël VIRY\\n\\nDirecteur Général : P...</td>\n",
       "      <td>Polymeris\\n\\nMaison des entreprises\\n\\n180 rue...</td>\n",
       "    </tr>\n",
       "    <tr>\n",
       "      <th>45</th>\n",
       "      <td>46</td>\n",
       "      <td>Safe</td>\n",
       "      <td>Aéronautique\\n\\nSpatial\\n\\nSécurité\\n\\nDéfense</td>\n",
       "      <td>Le pôle SAFE fédère un réseau de 500 adhérents...</td>\n",
       "      <td>Président : Riadh CAMMOUN\\n\\nDirecteur Général...</td>\n",
       "      <td>SAFE\\n\\nDomaine du petit Arbois - Bâtiment Hen...</td>\n",
       "    </tr>\n",
       "    <tr>\n",
       "      <th>46</th>\n",
       "      <td>47</td>\n",
       "      <td>Team2</td>\n",
       "      <td>Grâce à son expertise et son réseau de partena...</td>\n",
       "      <td>e pôle réunit un écosystème de 200 membres com...</td>\n",
       "      <td>Président : Frédéric Heymans\\n\\nDirectrice Gén...</td>\n",
       "      <td>TEAM2\\n\\n84 bis rue Paul Bert\\n\\n62 300 Lens\\n...</td>\n",
       "    </tr>\n",
       "    <tr>\n",
       "      <th>47</th>\n",
       "      <td>48</td>\n",
       "      <td>Systematic</td>\n",
       "      <td>Deep Tech</td>\n",
       "      <td>ATOS / Bull\\nCEA\\nCNRS\\nINRIA\\nMediane Systeme...</td>\n",
       "      <td>Email = prenom.nom [@] systematic-paris-region...</td>\n",
       "      <td>Systematic\\n\\nSite Nano Innov – Bât 863\\n\\n2 b...</td>\n",
       "    </tr>\n",
       "    <tr>\n",
       "      <th>48</th>\n",
       "      <td>49</td>\n",
       "      <td>Techtera</td>\n",
       "      <td>Techtera couvre toutes les activités de l’indu...</td>\n",
       "      <td>269 membres répartis comme suit :\\n\\n230 entre...</td>\n",
       "      <td>Président : Philippe SANIAL\\n\\nDéléguée Généra...</td>\n",
       "      <td>TECHTERA\\n\\n91 bis chemin des Mouilles\\n\\n6913...</td>\n",
       "    </tr>\n",
       "    <tr>\n",
       "      <th>49</th>\n",
       "      <td>50</td>\n",
       "      <td>Valorial</td>\n",
       "      <td>Agriculture / Agroalimentaire</td>\n",
       "      <td>Grandes entreprises : 45 adhérents\\nPME &amp; TPE ...</td>\n",
       "      <td>Président : Eric PHILIPPE\\n\\nDirecteur : Jean-...</td>\n",
       "      <td>VALORIAL\\n\\n8, rue Jules Maillard de la Gourne...</td>\n",
       "    </tr>\n",
       "    <tr>\n",
       "      <th>50</th>\n",
       "      <td>51</td>\n",
       "      <td>Tenerrdis</td>\n",
       "      <td>Solaire\\n\\nHydroélectricité\\n\\nBiomasse/Biogaz...</td>\n",
       "      <td>Grandes entreprises : 18\\nETI/PME/TPE : 174\\nR...</td>\n",
       "      <td>Président : Julien Français\\n\\nDéléguée Généra...</td>\n",
       "      <td>Tenerrdis\\n\\nPolytec\\n\\n19, rue des berges\\n\\n...</td>\n",
       "    </tr>\n",
       "    <tr>\n",
       "      <th>51</th>\n",
       "      <td>52</td>\n",
       "      <td>Vegepolys Valley</td>\n",
       "      <td>Agriculture et IAA : le végétal</td>\n",
       "      <td>Plus de 600 membres \\nhttps://www.vegepolys-va...</td>\n",
       "      <td>Président : Flavie Delattre\\n\\nDirecteur : Gin...</td>\n",
       "      <td>VEGEPOLYS VALLEY\\n\\nMAISON DU VEGETAL\\n\\n26 ru...</td>\n",
       "    </tr>\n",
       "    <tr>\n",
       "      <th>52</th>\n",
       "      <td>53</td>\n",
       "      <td>Xylofutur</td>\n",
       "      <td>Xylofutur articule l’innovation autour de troi...</td>\n",
       "      <td>Total : 262\\nGrandes entreprises : 12\\nTPE-PME...</td>\n",
       "      <td>Président : Frédéric CARTERET\\n\\nDirecteur : M...</td>\n",
       "      <td>Xylofutur\\n\\nCampus Bordeaux Sciences Agro\\n\\n...</td>\n",
       "    </tr>\n",
       "    <tr>\n",
       "      <th>53</th>\n",
       "      <td>54</td>\n",
       "      <td>Vitagora</td>\n",
       "      <td>Agroalimentaire\\n\\nAgriculture</td>\n",
       "      <td>Grandes entreprises : 47\\nPME/ETI : 299\\nReche...</td>\n",
       "      <td>Président : Pierre Guez\\n\\nDéléguée Générale :...</td>\n",
       "      <td>VITAGORA\\n\\n16 rue de l’Hôpital\\n\\n21000 Dijon...</td>\n",
       "    </tr>\n",
       "  </tbody>\n",
       "</table>\n",
       "</div>"
      ],
      "text/plain": [
       "    Rang                                          poles  \\\n",
       "0      1                               Aerospace Valley   \n",
       "1      2                      Agri Sud-Ouest Innovation   \n",
       "2      3                                      Alpha-RLH   \n",
       "3      4                                    Aqua-Valley   \n",
       "4      5                                       Aquanova   \n",
       "5      6                                        Aquimer   \n",
       "6      7                            ASTech Paris Region   \n",
       "7      8                         Atlanpole Biotherapies   \n",
       "8      9                                         Avenia   \n",
       "9     10                                        Axelera   \n",
       "10    11                    Bioeconomy For Change (B4C)   \n",
       "11    12                               Biovalley France   \n",
       "12    13                                      Grand-Est   \n",
       "13    14                                    Cap Digital   \n",
       "14    15                                    Capenergies   \n",
       "15    16                                           CARA   \n",
       "16    17                                          CIMES   \n",
       "17    18                                   Clubster NSL   \n",
       "18    19                                Cosmetic Valley   \n",
       "19    20                                          Derbi   \n",
       "20    21                                           EMC2   \n",
       "21    22                                  EuraMaterials   \n",
       "22    23                                     Eurobiomed   \n",
       "23    24                             Finance Innovation   \n",
       "24    25                                       Hippolia   \n",
       "25    26                                        i-TRANS   \n",
       "26    27                                    ID4MOBILITY   \n",
       "27    28                               Images & Réseaux   \n",
       "28    29                                 Innov'Alliance   \n",
       "29    30                                    Lyonbiopôle   \n",
       "30    31                                       NextMove   \n",
       "31    32                           MEDICEN PARIS REGION   \n",
       "32    33                                      Minalogic   \n",
       "33    34                 PMT - Pôle des microtechniques   \n",
       "34    35                                 Nuclear Valley   \n",
       "35    36                                        Optitec   \n",
       "36    37                  Pôle Européen de la Céramique   \n",
       "37    38                   Pôle Mer Bretagne Atlantique   \n",
       "38    39                          Pôle Mer Méditerranée   \n",
       "39    40                                      Pôle S2E2   \n",
       "40    41  Pôle SCS – Solutions Communicantes Sécurisées   \n",
       "41    42                                       Pôle TES   \n",
       "42    43                         Pôle Véhicule du futur   \n",
       "43    44                                    Qualitropic   \n",
       "44    45                                      Polymeris   \n",
       "45    46                                           Safe   \n",
       "46    47                                          Team2   \n",
       "47    48                                     Systematic   \n",
       "48    49                                       Techtera   \n",
       "49    50                                       Valorial   \n",
       "50    51                                      Tenerrdis   \n",
       "51    52                               Vegepolys Valley   \n",
       "52    53                                      Xylofutur   \n",
       "53    54                                       Vitagora   \n",
       "\n",
       "                                  Domaines d’activité  \\\n",
       "0    Aéronautique\\nEspace\\nDrones\\nSystèmes embarqués   \n",
       "1   Agri Sud-Ouest Innovation porte une stratégie ...   \n",
       "2    Photonique-Laser\\n\\nÉlectronique-Hyperfréquences   \n",
       "3   Centré sur les interactions entre les changeme...   \n",
       "4   La feuille de route innovation du pôle Aquanov...   \n",
       "5   Pêche\\n\\nAquaculture\\n\\nTransformation des pro...   \n",
       "6                   Aéronautique\\n\\nEspace\\n\\nDéfense   \n",
       "7                                               Santé   \n",
       "8   Géothermie\\n\\nStockage souterrain (gaz naturel...   \n",
       "9                             Chimie\\n\\nEnvironnement   \n",
       "10  Bioéconomie\\n\\nFood & Feed\\n\\nBioénergies\\n\\nM...   \n",
       "11  Thérapie Innovante\\n\\nDispositif médical\\n\\nE-...   \n",
       "12  Bâtiment/ville durable\\n\\nMatériaux\\n\\nÉnergie...   \n",
       "13  Innovation numérique\\n\\nTransition numérique\\n...   \n",
       "14  Le pôle se concentre sur 4 domaines d’action s...   \n",
       "15                           Transports et Mobilités    \n",
       "16  Un pôle dédié à l’ingénierie mécanicienne, au ...   \n",
       "17  Agro-nutrition\\n\\nMedtech-Hospitech\\n\\nBiotech...   \n",
       "18  Ingrédients dédiés à la parfumerie cosmétique\\...   \n",
       "19  Production d’énergie renouvelable adaptée aux ...   \n",
       "20  Aéronautique\\n\\nNaval\\n\\nDéfense\\n\\nSolutions ...   \n",
       "21  Matériaux durables : économie circulaire, perf...   \n",
       "22  Médicament\\n\\nDispositif médical\\n\\nSolutions ...   \n",
       "23  Assurance\\n\\nBanque\\n\\nFinance durable et soli...   \n",
       "24  Présidente : Mme Laurence MEUNIER\\n\\nDirectric...   \n",
       "25  Ferroviaire\\n\\nAutomobile\\n\\nAéronautique\\n\\nE...   \n",
       "26  Automobile\\n\\nVéhicule spécifique\\n\\nOff-road ...   \n",
       "27                Technologies et usages du numérique   \n",
       "28  Agriculture\\n\\nAlimentation\\n\\nCompléments ali...   \n",
       "29  Médicaments à usage humain\\nMédicaments vétéri...   \n",
       "30                       Automobile\\n\\n&\\n\\nMobilités   \n",
       "31  Innovation santé / Healthtech\\n\\nAnimation du ...   \n",
       "32  MINALOGIC se positionne sur onze thématiques :...   \n",
       "33  Le PMT a développé une approche Filières autou...   \n",
       "34                         Nucléaire Civil\\n\\nDéfense   \n",
       "35  Sécurité / défense & grands instruments scient...   \n",
       "36  Céramiques techniques\\n\\nCéramiques traditionn...   \n",
       "37  Défense, sûreté et sécurité maritimes\\n\\nNaval...   \n",
       "38  Bioressources\\n\\nEcotechnologies / Environneme...   \n",
       "39  Réseaux électriques intelligents\\n\\nBâtiments ...   \n",
       "40  Microélectronique et Électronique\\n\\nCybersécu...   \n",
       "41  Santé : sanitaire et médico-social.\\n\\nAgricul...   \n",
       "42  Automobile\\n\\nTransports terrestres\\n\\nMobilit...   \n",
       "43  Qualitropic met en avant 3 grandes filières de...   \n",
       "44  Mobilité\\n\\nMédical et Santé\\n\\nEmballage\\n\\nI...   \n",
       "45     Aéronautique\\n\\nSpatial\\n\\nSécurité\\n\\nDéfense   \n",
       "46  Grâce à son expertise et son réseau de partena...   \n",
       "47                                          Deep Tech   \n",
       "48  Techtera couvre toutes les activités de l’indu...   \n",
       "49                      Agriculture / Agroalimentaire   \n",
       "50  Solaire\\n\\nHydroélectricité\\n\\nBiomasse/Biogaz...   \n",
       "51                    Agriculture et IAA : le végétal   \n",
       "52  Xylofutur articule l’innovation autour de troi...   \n",
       "53                     Agroalimentaire\\n\\nAgriculture   \n",
       "\n",
       "                                       Membres actifs  \\\n",
       "0   Grandes entreprises : 58\\nPME : 592\\nRecherche...   \n",
       "1   430 membres actifs, dont (extraction des membr...   \n",
       "2   Grandes entreprises : Grands groupes = 15 / ET...   \n",
       "3   Nombre de membres : 246\\n\\nGrandes entreprises...   \n",
       "4   Nombre de membres : 320\\n\\n263 entreprises don...   \n",
       "5   A ce jour, AQUIMER compte 205 établissements m...   \n",
       "6   AIR FRANCE INDUSTRIES \\nARIANEGROUP SAS\\nCCI P...   \n",
       "7   Collège 1 (Entreprises) : 125\\nCollège 2 (Acad...   \n",
       "8   EDF, ARVERNE, TOTALENERGIES, ORANO, 45-8 ENERG...   \n",
       "9   Grandes entreprises : 16 groupes et 36 filiale...   \n",
       "10  Grandes entreprises : 53\\nPME : 244\\nRecherche...   \n",
       "11  Membres actifs : 185\\n4 (Associations et résea...   \n",
       "12  Grandes entreprises : 10\\nETI : 22\\nPME : 65\\n...   \n",
       "13  Grandes entreprises : 70\\nPME : 850\\nRecherche...   \n",
       "14  Entreprises (PME, ETI, Groupe) : 325 dont 90 %...   \n",
       "15  Renault Trucks / Volvo Trucks\\nIVECO\\nMICHELIN...   \n",
       "16  Michelin\\nConstellium\\nAubert & Duval\\nHEF\\nHa...   \n",
       "17  360 membres actifs, dont :\\nEntreprises : 70%\\...   \n",
       "18  TPE : 252\\nPME et ETI : 297\\nGrandes entrepris...   \n",
       "19  Grandes entreprises / ETI : 26\\nPME : 40\\nMicr...   \n",
       "20  Grands groupes : 55\\nETI : 61\\nPME : 244\\nEtab...   \n",
       "21  171 membres dont 122 entreprises\\n37 acteurs d...   \n",
       "22  Grandes entreprises : 14\\nPME : 298\\nRecherche...   \n",
       "23  Grandes entreprises : 115\\nPME : 63\\nTPE : 387...   \n",
       "24                                       235 Membres    \n",
       "25  Grandes entreprises : 11\\nETI : 9\\nPME : 42\\nS...   \n",
       "26  PME : 227\\nETI : 56\\nGrandes entreprises : 66\\...   \n",
       "27  Entreprises (PME/ETI/Startups, grands groupes)...   \n",
       "28  Entreprises : 75 % dont startups 32  % et gran...   \n",
       "29  Grandes entreprises : 14\\nPME : 228\\nRecherche...   \n",
       "30                        https://nextmove.fr/membres   \n",
       "31  Grandes entreprises et ETI : 37\\nPMEs innovant...   \n",
       "32  500 membres\\n440 Entreprises\\n15 banques et in...   \n",
       "33  240 adhérents : 70% industriels + 20% services...   \n",
       "34                  EDF\\nFRAMATOME\\nORANO\\nCEA\\nANDRA   \n",
       "35  Entreprises : 128\\nLaboratoires académiques et...   \n",
       "36  Grandes entreprises : 9\\nPME : 102\\nRecherche ...   \n",
       "37  41 grandes entreprises \\n242 PME\\n44 établisse...   \n",
       "38  Grandes entreprises : 76\\nPME : 218\\nRecherche...   \n",
       "39  Grandes entreprises : 31\\nPME : 141\\nRecherche...   \n",
       "40  Grands groupes : AMADEUS, ST MICROELECTRONICS,...   \n",
       "41  Grandes entreprises : 11\\nPME : 69\\nEnseigneme...   \n",
       "42  Grandes entreprises : 170\\nPME : 248\\nRecherch...   \n",
       "43  https://www.entreprises.gouv.fr/files/files/en...   \n",
       "44  Industriel : 296\\nRecherche et Formation : 50\\...   \n",
       "45  Le pôle SAFE fédère un réseau de 500 adhérents...   \n",
       "46  e pôle réunit un écosystème de 200 membres com...   \n",
       "47  ATOS / Bull\\nCEA\\nCNRS\\nINRIA\\nMediane Systeme...   \n",
       "48  269 membres répartis comme suit :\\n\\n230 entre...   \n",
       "49  Grandes entreprises : 45 adhérents\\nPME & TPE ...   \n",
       "50  Grandes entreprises : 18\\nETI/PME/TPE : 174\\nR...   \n",
       "51  Plus de 600 membres \\nhttps://www.vegepolys-va...   \n",
       "52  Total : 262\\nGrandes entreprises : 12\\nTPE-PME...   \n",
       "53  Grandes entreprises : 47\\nPME/ETI : 299\\nReche...   \n",
       "\n",
       "                               Informations générales  \\\n",
       "0   Président : M. Bruno DARBOUX\\nDirecteur Généra...   \n",
       "1   Président : Cédric CABANES\\n\\nDirecteur Généra...   \n",
       "2   Président : Jean-Pierre GIANNINI\\n\\nDirecteur ...   \n",
       "3   Président : Jean-Luc ERBETTA\\n\\nDirecteur géné...   \n",
       "4   N.B : Ces informations sont temporaires dans l...   \n",
       "5   Président : Jean-Loup Lesaffre : contact [@] p...   \n",
       "6   Présidente : Marie-Christine OGHLY\\n\\nDirecteu...   \n",
       "7   Président : Franck GRIMAUD – Valneva\\n\\nVice-p...   \n",
       "8   Président : Jean-Loup Minebois (TEREGA)\\n\\nDir...   \n",
       "9   Président : Pierre-Yves BONDON\\n\\nDirecteur Gé...   \n",
       "10  Président : Michel MANGION\\n\\nDirecteur Généra...   \n",
       "11  Président : Stephan JENN\\n\\nDéléguée Générale ...   \n",
       "12  Président : Cédric Simonin, p.simonin [@] buil...   \n",
       "13  Président : Charles Huot\\n\\nDélégué Général : ...   \n",
       "14  Président : Christophe BOURMAUD\\n\\nDirectrice ...   \n",
       "15  Président : Gilles Le Carre\\n\\nDélégué Général...   \n",
       "16  Président : Jacques LE DOUCEN\\n\\nDirecteur Gén...   \n",
       "17  Président : Jean-Claude CHARLES\\n\\nDirecteur G...   \n",
       "18  Directeur Général : Christophe MASSON \\n\\nResp...   \n",
       "19  Président : André JOFFRE\\n\\nDirecteur général ...   \n",
       "20  Président : Stéphane Klein\\n\\nDirecteur Généra...   \n",
       "21  Président : Jean-François Dehouck\\n\\nDirecteur...   \n",
       "22                Directrice Générale : Emilie ROYERE   \n",
       "23  Directeur Général : Maximilien NAYARADOU / max...   \n",
       "24  Présidente : Mme Laurence MEUNIER\\n\\nDirectric...   \n",
       "25  Président : Bernard SCHAER\\n\\nDirecteur exécut...   \n",
       "26  Président : Vincent CHAILLOU\\n\\nDirecteur Géné...   \n",
       "27  Président : Vincent Marcatté\\n\\nDirecteur : Gu...   \n",
       "28  Président : Yves Faure\\n\\nDirecteur général : ...   \n",
       "29  Président : Philippe SANS\\n\\nDirectrice Généra...   \n",
       "30  Président : Philippe PREVEL\\n\\nDirecteur Génér...   \n",
       "31  Président : Christian DELEUZE\\n\\nDéléguée géné...   \n",
       "32  Président : Serge Veyres, STMicroelectronics\\n...   \n",
       "33  Président : Laurent DESCHAMPS\\n\\n0680895375 / ...   \n",
       "34  Président : Philippe FRANTZ\\n\\nDirectrice géné...   \n",
       "35  Président : Gérard BERGINC\\n\\nDirecteur Généra...   \n",
       "36  Président : Éric MALES\\n\\nDirectrice Générale ...   \n",
       "37  Directeur : M. Poupon\\n\\n06.70.66.85.93\\n\\npat...   \n",
       "38  Président : Laurent MOSER\\n\\nDirecteur : Frédé...   \n",
       "39  Président : Eric BEAUJEAN\\n\\nDirecteur : Jérôm...   \n",
       "40  Président : Docaposte, représentée par Fabien ...   \n",
       "41  Président : Jacques BELIN\\n\\nDirecteur : Magal...   \n",
       "42  Président : Thierry TOURNIER\\n\\nDirecteur géné...   \n",
       "43  Président : Xavier Bocquillet\\n\\nDirecteur : J...   \n",
       "44  Président : Joël VIRY\\n\\nDirecteur Général : P...   \n",
       "45  Président : Riadh CAMMOUN\\n\\nDirecteur Général...   \n",
       "46  Président : Frédéric Heymans\\n\\nDirectrice Gén...   \n",
       "47  Email = prenom.nom [@] systematic-paris-region...   \n",
       "48  Président : Philippe SANIAL\\n\\nDéléguée Généra...   \n",
       "49  Président : Eric PHILIPPE\\n\\nDirecteur : Jean-...   \n",
       "50  Président : Julien Français\\n\\nDéléguée Généra...   \n",
       "51  Président : Flavie Delattre\\n\\nDirecteur : Gin...   \n",
       "52  Président : Frédéric CARTERET\\n\\nDirecteur : M...   \n",
       "53  Président : Pierre Guez\\n\\nDéléguée Générale :...   \n",
       "\n",
       "                                              Contact  \n",
       "0   Bâtiment B612 - 3 Rue Tarfaya\\n\\nCS 64403\\n\\n3...  \n",
       "1   Agences : Toulouse, Bordeaux, Montpellier, Poi...  \n",
       "2   ALPHA-RLH - Institut d’Optique d’Aquitaine\\n\\n...  \n",
       "3   Région Occitanie : Montpellier (34), Toulouse ...  \n",
       "4                                                 NaN  \n",
       "5   AQUIMER\\n\\n16 rue du Commandant Charcot CS1038...  \n",
       "6   ASTech\\n\\n1-3 allée de Bruxelles - Aéroport de...  \n",
       "7   Tél : 02 40 25 13 99\\n\\ncontact[ @ ]atlanpoleb...  \n",
       "8   PÔLE AVENIA\\n\\nHélioparc - 2 Avenue Pierre ANG...  \n",
       "9   AXELERA\\n\\nRond-point de l’échangeur - Les Lev...  \n",
       "10  Pôle de compétitivité Bioeconomy For Change (B...  \n",
       "11  BioValley France\\n\\n550 bd Gonthier d’Andernac...  \n",
       "12                                          Grand-Est  \n",
       "13  CAP DIGITAL\\n\\n14 rue Alexandre Parodi\\n\\n7501...  \n",
       "14  Domaine du Petit Arbois, Avenue Louis Philiber...  \n",
       "15  CARA\\n\\n1 boulevard Edmond Michelet\\n\\n69008 L...  \n",
       "16  CIMES\\n\\nSiège social : CIMES Auvergne-Rhône -...  \n",
       "17  Clubster NSL\\n\\n310 Avenue Eugène Avinée Parc ...  \n",
       "18  Cosmetic Valley\\n\\n1 place de la cathédrale\\n\\...  \n",
       "19  Pôle de compétitivité DERBI\\n\\n52, avenue Paul...  \n",
       "20  Pôle EMC2\\n\\nChemin du Chaffault – 44340 Bougu...  \n",
       "21  EuraMaterials\\n\\n41 rue des Métissages - CS703...  \n",
       "22  Eurobiomed\\n\\n8 rue Sainte Barbe\\n\\n13001 MARS...  \n",
       "23  FINANCE INNOVATION\\n\\n28 Place de la Bourse\\n\\...  \n",
       "24  Pôle Hippolia\\n\\nMaison du cheval - Campus Eff...  \n",
       "25  iTrans\\n\\n180 rue Joseph Louis Lagrange\\n\\n593...  \n",
       "26  ID4MOBILITY\\n\\n40 rue La Tour d'Auvergne\\n\\n44...  \n",
       "27  images & Réseaux\\n\\n4 rue Ampère 22300 Lannion...  \n",
       "28  Innov’Alliance Avignon (Siège social)\\n\\n100 r...  \n",
       "29  Lyonbiopôle\\n\\nBâtiment EKLAA\\n63 Avenue Tony ...  \n",
       "30  Innovapôle 76\\n\\n50 rue Ettore Bugatti\\n\\n7680...  \n",
       "31  Medicen\\n\\n130, rue de Lourmel 75015 Paris\\n\\n...  \n",
       "32  MINALOGIC\\n\\nMaison Minatec - 3, parvis Louis ...  \n",
       "33  PMT - Pôle de compétitivité\\n\\nTEMIS Innovatio...  \n",
       "34  Siège de Nuclear Valley - Bourgogne Franche Co...  \n",
       "35  OPTITEC - C/o LAM\\n\\nPACA\\n\\n38, rue Joliot-Cu...  \n",
       "36  Pôle Européen de la Céramique\\n\\n1 avenue d’Es...  \n",
       "37  Pôle Mer Bretagne Atlantique\\n\\n525 Avenue Ale...  \n",
       "38  Pôle Mer Méditerranée\\n\\n93 rue Forum de la Mé...  \n",
       "39  PÔLE S2E2\\n\\n10 rue Thalès de Milet\\n\\n37100 T...  \n",
       "40  Pôle SCS\\n\\nPlace Paul Borde 13790 Rousset\\n\\n...  \n",
       "41  Le Pôle TES\\n\\nBâtiment Érable, Campus EffiSci...  \n",
       "42  Pôle Véhicule du Futur - Secrétariat\\n\\n40 rue...  \n",
       "43  Qualitropic\\n\\n5 rue André Lardy - Bâtiment B,...  \n",
       "44  Polymeris\\n\\nMaison des entreprises\\n\\n180 rue...  \n",
       "45  SAFE\\n\\nDomaine du petit Arbois - Bâtiment Hen...  \n",
       "46  TEAM2\\n\\n84 bis rue Paul Bert\\n\\n62 300 Lens\\n...  \n",
       "47  Systematic\\n\\nSite Nano Innov – Bât 863\\n\\n2 b...  \n",
       "48  TECHTERA\\n\\n91 bis chemin des Mouilles\\n\\n6913...  \n",
       "49  VALORIAL\\n\\n8, rue Jules Maillard de la Gourne...  \n",
       "50  Tenerrdis\\n\\nPolytec\\n\\n19, rue des berges\\n\\n...  \n",
       "51  VEGEPOLYS VALLEY\\n\\nMAISON DU VEGETAL\\n\\n26 ru...  \n",
       "52  Xylofutur\\n\\nCampus Bordeaux Sciences Agro\\n\\n...  \n",
       "53  VITAGORA\\n\\n16 rue de l’Hôpital\\n\\n21000 Dijon...  "
      ]
     },
     "execution_count": 203,
     "metadata": {},
     "output_type": "execute_result"
    }
   ],
   "source": [
    "import pandas as pd\n",
    "\n",
    "df = pd.read_excel('54 poles de compétitivité 11_11_2024 19h00min.xlsx')\n",
    "df"
   ]
  },
  {
   "cell_type": "code",
   "execution_count": 205,
   "id": "76b44b10-c6e1-4274-b50b-878d4b65278a",
   "metadata": {},
   "outputs": [
    {
     "data": {
      "text/html": [
       "<div>\n",
       "<style scoped>\n",
       "    .dataframe tbody tr th:only-of-type {\n",
       "        vertical-align: middle;\n",
       "    }\n",
       "\n",
       "    .dataframe tbody tr th {\n",
       "        vertical-align: top;\n",
       "    }\n",
       "\n",
       "    .dataframe thead th {\n",
       "        text-align: right;\n",
       "    }\n",
       "</style>\n",
       "<table border=\"1\" class=\"dataframe\">\n",
       "  <thead>\n",
       "    <tr style=\"text-align: right;\">\n",
       "      <th></th>\n",
       "      <th>Rang</th>\n",
       "      <th>poles</th>\n",
       "      <th>Domaines d’activité</th>\n",
       "      <th>Membres actifs</th>\n",
       "      <th>Informations générales</th>\n",
       "      <th>Contact</th>\n",
       "      <th>profile_name</th>\n",
       "    </tr>\n",
       "  </thead>\n",
       "  <tbody>\n",
       "    <tr>\n",
       "      <th>0</th>\n",
       "      <td>1</td>\n",
       "      <td>Aerospace Valley</td>\n",
       "      <td>Aéronautique\\nEspace\\nDrones\\nSystèmes embarqués</td>\n",
       "      <td>Grandes entreprises : 58\\nPME : 592\\nRecherche...</td>\n",
       "      <td>Président : M. Bruno DARBOUX\\nDirecteur Généra...</td>\n",
       "      <td>Bâtiment B612 - 3 Rue Tarfaya\\n\\nCS 64403\\n\\n3...</td>\n",
       "      <td>Président : M. Bruno DARBOUX</td>\n",
       "    </tr>\n",
       "    <tr>\n",
       "      <th>1</th>\n",
       "      <td>1</td>\n",
       "      <td>Aerospace Valley</td>\n",
       "      <td>Aéronautique\\nEspace\\nDrones\\nSystèmes embarqués</td>\n",
       "      <td>Grandes entreprises : 58\\nPME : 592\\nRecherche...</td>\n",
       "      <td>Président : M. Bruno DARBOUX\\nDirecteur Généra...</td>\n",
       "      <td>Bâtiment B612 - 3 Rue Tarfaya\\n\\nCS 64403\\n\\n3...</td>\n",
       "      <td>Directeur Général : M. Eric GIRAUD</td>\n",
       "    </tr>\n",
       "    <tr>\n",
       "      <th>2</th>\n",
       "      <td>1</td>\n",
       "      <td>Aerospace Valley</td>\n",
       "      <td>Aéronautique\\nEspace\\nDrones\\nSystèmes embarqués</td>\n",
       "      <td>Grandes entreprises : 58\\nPME : 592\\nRecherche...</td>\n",
       "      <td>Président : M. Bruno DARBOUX\\nDirecteur Généra...</td>\n",
       "      <td>Bâtiment B612 - 3 Rue Tarfaya\\n\\nCS 64403\\n\\n3...</td>\n",
       "      <td>Communication : Mme Agnès BARDIER</td>\n",
       "    </tr>\n",
       "    <tr>\n",
       "      <th>3</th>\n",
       "      <td>1</td>\n",
       "      <td>Aerospace Valley</td>\n",
       "      <td>Aéronautique\\nEspace\\nDrones\\nSystèmes embarqués</td>\n",
       "      <td>Grandes entreprises : 58\\nPME : 592\\nRecherche...</td>\n",
       "      <td>Président : M. Bruno DARBOUX\\nDirecteur Généra...</td>\n",
       "      <td>Bâtiment B612 - 3 Rue Tarfaya\\n\\nCS 64403\\n\\n3...</td>\n",
       "      <td>Directrice déléguée à l’animation, la communic...</td>\n",
       "    </tr>\n",
       "    <tr>\n",
       "      <th>4</th>\n",
       "      <td>2</td>\n",
       "      <td>Agri Sud-Ouest Innovation</td>\n",
       "      <td>Agri Sud-Ouest Innovation porte une stratégie ...</td>\n",
       "      <td>430 membres actifs, dont (extraction des membr...</td>\n",
       "      <td>Président : Cédric CABANES\\n\\nDirecteur Généra...</td>\n",
       "      <td>Agences : Toulouse, Bordeaux, Montpellier, Poi...</td>\n",
       "      <td>Président : Cédric CABANES</td>\n",
       "    </tr>\n",
       "    <tr>\n",
       "      <th>...</th>\n",
       "      <td>...</td>\n",
       "      <td>...</td>\n",
       "      <td>...</td>\n",
       "      <td>...</td>\n",
       "      <td>...</td>\n",
       "      <td>...</td>\n",
       "      <td>...</td>\n",
       "    </tr>\n",
       "    <tr>\n",
       "      <th>239</th>\n",
       "      <td>54</td>\n",
       "      <td>Vitagora</td>\n",
       "      <td>Agroalimentaire\\n\\nAgriculture</td>\n",
       "      <td>Grandes entreprises : 47\\nPME/ETI : 299\\nReche...</td>\n",
       "      <td>Président : Pierre Guez\\n\\nDéléguée Générale :...</td>\n",
       "      <td>VITAGORA\\n\\n16 rue de l’Hôpital\\n\\n21000 Dijon...</td>\n",
       "      <td>Président : Pierre Guez</td>\n",
       "    </tr>\n",
       "    <tr>\n",
       "      <th>240</th>\n",
       "      <td>54</td>\n",
       "      <td>Vitagora</td>\n",
       "      <td>Agroalimentaire\\n\\nAgriculture</td>\n",
       "      <td>Grandes entreprises : 47\\nPME/ETI : 299\\nReche...</td>\n",
       "      <td>Président : Pierre Guez\\n\\nDéléguée Générale :...</td>\n",
       "      <td>VITAGORA\\n\\n16 rue de l’Hôpital\\n\\n21000 Dijon...</td>\n",
       "      <td>Déléguée Générale : Christophe Breuillet</td>\n",
       "    </tr>\n",
       "    <tr>\n",
       "      <th>241</th>\n",
       "      <td>54</td>\n",
       "      <td>Vitagora</td>\n",
       "      <td>Agroalimentaire\\n\\nAgriculture</td>\n",
       "      <td>Grandes entreprises : 47\\nPME/ETI : 299\\nReche...</td>\n",
       "      <td>Président : Pierre Guez\\n\\nDéléguée Générale :...</td>\n",
       "      <td>VITAGORA\\n\\n16 rue de l’Hôpital\\n\\n21000 Dijon...</td>\n",
       "      <td>Responsable Innovation &amp; Ecosystèmes : Elodie ...</td>\n",
       "    </tr>\n",
       "    <tr>\n",
       "      <th>242</th>\n",
       "      <td>54</td>\n",
       "      <td>Vitagora</td>\n",
       "      <td>Agroalimentaire\\n\\nAgriculture</td>\n",
       "      <td>Grandes entreprises : 47\\nPME/ETI : 299\\nReche...</td>\n",
       "      <td>Président : Pierre Guez\\n\\nDéléguée Générale :...</td>\n",
       "      <td>VITAGORA\\n\\n16 rue de l’Hôpital\\n\\n21000 Dijon...</td>\n",
       "      <td>Responsable Communication : Marthe Jewell</td>\n",
       "    </tr>\n",
       "    <tr>\n",
       "      <th>243</th>\n",
       "      <td>54</td>\n",
       "      <td>Vitagora</td>\n",
       "      <td>Agroalimentaire\\n\\nAgriculture</td>\n",
       "      <td>Grandes entreprises : 47\\nPME/ETI : 299\\nReche...</td>\n",
       "      <td>Président : Pierre Guez\\n\\nDéléguée Générale :...</td>\n",
       "      <td>VITAGORA\\n\\n16 rue de l’Hôpital\\n\\n21000 Dijon...</td>\n",
       "      <td>Head of International Development : Ming Li</td>\n",
       "    </tr>\n",
       "  </tbody>\n",
       "</table>\n",
       "<p>244 rows × 7 columns</p>\n",
       "</div>"
      ],
      "text/plain": [
       "     Rang                      poles  \\\n",
       "0       1           Aerospace Valley   \n",
       "1       1           Aerospace Valley   \n",
       "2       1           Aerospace Valley   \n",
       "3       1           Aerospace Valley   \n",
       "4       2  Agri Sud-Ouest Innovation   \n",
       "..    ...                        ...   \n",
       "239    54                   Vitagora   \n",
       "240    54                   Vitagora   \n",
       "241    54                   Vitagora   \n",
       "242    54                   Vitagora   \n",
       "243    54                   Vitagora   \n",
       "\n",
       "                                   Domaines d’activité  \\\n",
       "0     Aéronautique\\nEspace\\nDrones\\nSystèmes embarqués   \n",
       "1     Aéronautique\\nEspace\\nDrones\\nSystèmes embarqués   \n",
       "2     Aéronautique\\nEspace\\nDrones\\nSystèmes embarqués   \n",
       "3     Aéronautique\\nEspace\\nDrones\\nSystèmes embarqués   \n",
       "4    Agri Sud-Ouest Innovation porte une stratégie ...   \n",
       "..                                                 ...   \n",
       "239                     Agroalimentaire\\n\\nAgriculture   \n",
       "240                     Agroalimentaire\\n\\nAgriculture   \n",
       "241                     Agroalimentaire\\n\\nAgriculture   \n",
       "242                     Agroalimentaire\\n\\nAgriculture   \n",
       "243                     Agroalimentaire\\n\\nAgriculture   \n",
       "\n",
       "                                        Membres actifs  \\\n",
       "0    Grandes entreprises : 58\\nPME : 592\\nRecherche...   \n",
       "1    Grandes entreprises : 58\\nPME : 592\\nRecherche...   \n",
       "2    Grandes entreprises : 58\\nPME : 592\\nRecherche...   \n",
       "3    Grandes entreprises : 58\\nPME : 592\\nRecherche...   \n",
       "4    430 membres actifs, dont (extraction des membr...   \n",
       "..                                                 ...   \n",
       "239  Grandes entreprises : 47\\nPME/ETI : 299\\nReche...   \n",
       "240  Grandes entreprises : 47\\nPME/ETI : 299\\nReche...   \n",
       "241  Grandes entreprises : 47\\nPME/ETI : 299\\nReche...   \n",
       "242  Grandes entreprises : 47\\nPME/ETI : 299\\nReche...   \n",
       "243  Grandes entreprises : 47\\nPME/ETI : 299\\nReche...   \n",
       "\n",
       "                                Informations générales  \\\n",
       "0    Président : M. Bruno DARBOUX\\nDirecteur Généra...   \n",
       "1    Président : M. Bruno DARBOUX\\nDirecteur Généra...   \n",
       "2    Président : M. Bruno DARBOUX\\nDirecteur Généra...   \n",
       "3    Président : M. Bruno DARBOUX\\nDirecteur Généra...   \n",
       "4    Président : Cédric CABANES\\n\\nDirecteur Généra...   \n",
       "..                                                 ...   \n",
       "239  Président : Pierre Guez\\n\\nDéléguée Générale :...   \n",
       "240  Président : Pierre Guez\\n\\nDéléguée Générale :...   \n",
       "241  Président : Pierre Guez\\n\\nDéléguée Générale :...   \n",
       "242  Président : Pierre Guez\\n\\nDéléguée Générale :...   \n",
       "243  Président : Pierre Guez\\n\\nDéléguée Générale :...   \n",
       "\n",
       "                                               Contact  \\\n",
       "0    Bâtiment B612 - 3 Rue Tarfaya\\n\\nCS 64403\\n\\n3...   \n",
       "1    Bâtiment B612 - 3 Rue Tarfaya\\n\\nCS 64403\\n\\n3...   \n",
       "2    Bâtiment B612 - 3 Rue Tarfaya\\n\\nCS 64403\\n\\n3...   \n",
       "3    Bâtiment B612 - 3 Rue Tarfaya\\n\\nCS 64403\\n\\n3...   \n",
       "4    Agences : Toulouse, Bordeaux, Montpellier, Poi...   \n",
       "..                                                 ...   \n",
       "239  VITAGORA\\n\\n16 rue de l’Hôpital\\n\\n21000 Dijon...   \n",
       "240  VITAGORA\\n\\n16 rue de l’Hôpital\\n\\n21000 Dijon...   \n",
       "241  VITAGORA\\n\\n16 rue de l’Hôpital\\n\\n21000 Dijon...   \n",
       "242  VITAGORA\\n\\n16 rue de l’Hôpital\\n\\n21000 Dijon...   \n",
       "243  VITAGORA\\n\\n16 rue de l’Hôpital\\n\\n21000 Dijon...   \n",
       "\n",
       "                                          profile_name  \n",
       "0                         Président : M. Bruno DARBOUX  \n",
       "1                   Directeur Général : M. Eric GIRAUD  \n",
       "2                    Communication : Mme Agnès BARDIER  \n",
       "3    Directrice déléguée à l’animation, la communic...  \n",
       "4                           Président : Cédric CABANES  \n",
       "..                                                 ...  \n",
       "239                            Président : Pierre Guez  \n",
       "240           Déléguée Générale : Christophe Breuillet  \n",
       "241  Responsable Innovation & Ecosystèmes : Elodie ...  \n",
       "242          Responsable Communication : Marthe Jewell  \n",
       "243        Head of International Development : Ming Li  \n",
       "\n",
       "[244 rows x 7 columns]"
      ]
     },
     "execution_count": 205,
     "metadata": {},
     "output_type": "execute_result"
    }
   ],
   "source": [
    "def extract_profiles(str_profiles):\n",
    "    list_ps = [p.strip() for p in str_profiles.split('\\n') if p.strip() != '']\n",
    "    new_list_ps = []\n",
    "    last_p = ''\n",
    "    for p in list_ps:\n",
    "        if p[0] == p[0].upper() and p[0].isalpha() :\n",
    "            if last_p != '':\n",
    "                new_list_ps.append(last_p)\n",
    "            last_p = p\n",
    "        else:\n",
    "            last_p = f'{last_p} {p}'\n",
    "            \n",
    "    new_list_ps.append(last_p)\n",
    "    return new_list_ps\n",
    "\n",
    "df['profile_name'] = df['Informations générales'].apply(extract_profiles)\n",
    "\n",
    "df_exploded = df.explode('profile_name')\n",
    "\n",
    "df_exploded = df_exploded.reset_index(drop=True)\n",
    "df_exploded"
   ]
  },
  {
   "cell_type": "code",
   "execution_count": 207,
   "id": "76211d03-449c-4ea9-869a-0e9365c667c2",
   "metadata": {},
   "outputs": [
    {
     "data": {
      "text/html": [
       "<div>\n",
       "<style scoped>\n",
       "    .dataframe tbody tr th:only-of-type {\n",
       "        vertical-align: middle;\n",
       "    }\n",
       "\n",
       "    .dataframe tbody tr th {\n",
       "        vertical-align: top;\n",
       "    }\n",
       "\n",
       "    .dataframe thead th {\n",
       "        text-align: right;\n",
       "    }\n",
       "</style>\n",
       "<table border=\"1\" class=\"dataframe\">\n",
       "  <thead>\n",
       "    <tr style=\"text-align: right;\">\n",
       "      <th></th>\n",
       "      <th>Rang</th>\n",
       "      <th>poles</th>\n",
       "      <th>Domaines d’activité</th>\n",
       "      <th>Membres actifs</th>\n",
       "      <th>Informations générales</th>\n",
       "      <th>Contact</th>\n",
       "      <th>profile_name</th>\n",
       "      <th>profile_role</th>\n",
       "    </tr>\n",
       "  </thead>\n",
       "  <tbody>\n",
       "    <tr>\n",
       "      <th>0</th>\n",
       "      <td>1</td>\n",
       "      <td>Aerospace Valley</td>\n",
       "      <td>Aéronautique\\nEspace\\nDrones\\nSystèmes embarqués</td>\n",
       "      <td>Grandes entreprises : 58\\nPME : 592\\nRecherche...</td>\n",
       "      <td>Président : M. Bruno DARBOUX\\nDirecteur Généra...</td>\n",
       "      <td>Bâtiment B612 - 3 Rue Tarfaya\\n\\nCS 64403\\n\\n3...</td>\n",
       "      <td>M. Bruno DARBOUX</td>\n",
       "      <td>Président</td>\n",
       "    </tr>\n",
       "    <tr>\n",
       "      <th>1</th>\n",
       "      <td>1</td>\n",
       "      <td>Aerospace Valley</td>\n",
       "      <td>Aéronautique\\nEspace\\nDrones\\nSystèmes embarqués</td>\n",
       "      <td>Grandes entreprises : 58\\nPME : 592\\nRecherche...</td>\n",
       "      <td>Président : M. Bruno DARBOUX\\nDirecteur Généra...</td>\n",
       "      <td>Bâtiment B612 - 3 Rue Tarfaya\\n\\nCS 64403\\n\\n3...</td>\n",
       "      <td>M. Eric GIRAUD</td>\n",
       "      <td>Directeur Général</td>\n",
       "    </tr>\n",
       "    <tr>\n",
       "      <th>2</th>\n",
       "      <td>1</td>\n",
       "      <td>Aerospace Valley</td>\n",
       "      <td>Aéronautique\\nEspace\\nDrones\\nSystèmes embarqués</td>\n",
       "      <td>Grandes entreprises : 58\\nPME : 592\\nRecherche...</td>\n",
       "      <td>Président : M. Bruno DARBOUX\\nDirecteur Généra...</td>\n",
       "      <td>Bâtiment B612 - 3 Rue Tarfaya\\n\\nCS 64403\\n\\n3...</td>\n",
       "      <td>Mme Agnès BARDIER</td>\n",
       "      <td>Communication</td>\n",
       "    </tr>\n",
       "    <tr>\n",
       "      <th>3</th>\n",
       "      <td>1</td>\n",
       "      <td>Aerospace Valley</td>\n",
       "      <td>Aéronautique\\nEspace\\nDrones\\nSystèmes embarqués</td>\n",
       "      <td>Grandes entreprises : 58\\nPME : 592\\nRecherche...</td>\n",
       "      <td>Président : M. Bruno DARBOUX\\nDirecteur Généra...</td>\n",
       "      <td>Bâtiment B612 - 3 Rue Tarfaya\\n\\nCS 64403\\n\\n3...</td>\n",
       "      <td>bardier[ @ ]aerospace-valley.com</td>\n",
       "      <td>Directrice déléguée à l’animation, la communic...</td>\n",
       "    </tr>\n",
       "    <tr>\n",
       "      <th>4</th>\n",
       "      <td>2</td>\n",
       "      <td>Agri Sud-Ouest Innovation</td>\n",
       "      <td>Agri Sud-Ouest Innovation porte une stratégie ...</td>\n",
       "      <td>430 membres actifs, dont (extraction des membr...</td>\n",
       "      <td>Président : Cédric CABANES\\n\\nDirecteur Généra...</td>\n",
       "      <td>Agences : Toulouse, Bordeaux, Montpellier, Poi...</td>\n",
       "      <td>Cédric CABANES</td>\n",
       "      <td>Président</td>\n",
       "    </tr>\n",
       "    <tr>\n",
       "      <th>...</th>\n",
       "      <td>...</td>\n",
       "      <td>...</td>\n",
       "      <td>...</td>\n",
       "      <td>...</td>\n",
       "      <td>...</td>\n",
       "      <td>...</td>\n",
       "      <td>...</td>\n",
       "      <td>...</td>\n",
       "    </tr>\n",
       "    <tr>\n",
       "      <th>239</th>\n",
       "      <td>54</td>\n",
       "      <td>Vitagora</td>\n",
       "      <td>Agroalimentaire\\n\\nAgriculture</td>\n",
       "      <td>Grandes entreprises : 47\\nPME/ETI : 299\\nReche...</td>\n",
       "      <td>Président : Pierre Guez\\n\\nDéléguée Générale :...</td>\n",
       "      <td>VITAGORA\\n\\n16 rue de l’Hôpital\\n\\n21000 Dijon...</td>\n",
       "      <td>Pierre Guez</td>\n",
       "      <td>Président</td>\n",
       "    </tr>\n",
       "    <tr>\n",
       "      <th>240</th>\n",
       "      <td>54</td>\n",
       "      <td>Vitagora</td>\n",
       "      <td>Agroalimentaire\\n\\nAgriculture</td>\n",
       "      <td>Grandes entreprises : 47\\nPME/ETI : 299\\nReche...</td>\n",
       "      <td>Président : Pierre Guez\\n\\nDéléguée Générale :...</td>\n",
       "      <td>VITAGORA\\n\\n16 rue de l’Hôpital\\n\\n21000 Dijon...</td>\n",
       "      <td>Christophe Breuillet</td>\n",
       "      <td>Déléguée Générale</td>\n",
       "    </tr>\n",
       "    <tr>\n",
       "      <th>241</th>\n",
       "      <td>54</td>\n",
       "      <td>Vitagora</td>\n",
       "      <td>Agroalimentaire\\n\\nAgriculture</td>\n",
       "      <td>Grandes entreprises : 47\\nPME/ETI : 299\\nReche...</td>\n",
       "      <td>Président : Pierre Guez\\n\\nDéléguée Générale :...</td>\n",
       "      <td>VITAGORA\\n\\n16 rue de l’Hôpital\\n\\n21000 Dijon...</td>\n",
       "      <td>Elodie Da Silva</td>\n",
       "      <td>Responsable Innovation &amp; Ecosystèmes</td>\n",
       "    </tr>\n",
       "    <tr>\n",
       "      <th>242</th>\n",
       "      <td>54</td>\n",
       "      <td>Vitagora</td>\n",
       "      <td>Agroalimentaire\\n\\nAgriculture</td>\n",
       "      <td>Grandes entreprises : 47\\nPME/ETI : 299\\nReche...</td>\n",
       "      <td>Président : Pierre Guez\\n\\nDéléguée Générale :...</td>\n",
       "      <td>VITAGORA\\n\\n16 rue de l’Hôpital\\n\\n21000 Dijon...</td>\n",
       "      <td>Marthe Jewell</td>\n",
       "      <td>Responsable Communication</td>\n",
       "    </tr>\n",
       "    <tr>\n",
       "      <th>243</th>\n",
       "      <td>54</td>\n",
       "      <td>Vitagora</td>\n",
       "      <td>Agroalimentaire\\n\\nAgriculture</td>\n",
       "      <td>Grandes entreprises : 47\\nPME/ETI : 299\\nReche...</td>\n",
       "      <td>Président : Pierre Guez\\n\\nDéléguée Générale :...</td>\n",
       "      <td>VITAGORA\\n\\n16 rue de l’Hôpital\\n\\n21000 Dijon...</td>\n",
       "      <td>Ming Li</td>\n",
       "      <td>Head of International Development</td>\n",
       "    </tr>\n",
       "  </tbody>\n",
       "</table>\n",
       "<p>244 rows × 8 columns</p>\n",
       "</div>"
      ],
      "text/plain": [
       "     Rang                      poles  \\\n",
       "0       1           Aerospace Valley   \n",
       "1       1           Aerospace Valley   \n",
       "2       1           Aerospace Valley   \n",
       "3       1           Aerospace Valley   \n",
       "4       2  Agri Sud-Ouest Innovation   \n",
       "..    ...                        ...   \n",
       "239    54                   Vitagora   \n",
       "240    54                   Vitagora   \n",
       "241    54                   Vitagora   \n",
       "242    54                   Vitagora   \n",
       "243    54                   Vitagora   \n",
       "\n",
       "                                   Domaines d’activité  \\\n",
       "0     Aéronautique\\nEspace\\nDrones\\nSystèmes embarqués   \n",
       "1     Aéronautique\\nEspace\\nDrones\\nSystèmes embarqués   \n",
       "2     Aéronautique\\nEspace\\nDrones\\nSystèmes embarqués   \n",
       "3     Aéronautique\\nEspace\\nDrones\\nSystèmes embarqués   \n",
       "4    Agri Sud-Ouest Innovation porte une stratégie ...   \n",
       "..                                                 ...   \n",
       "239                     Agroalimentaire\\n\\nAgriculture   \n",
       "240                     Agroalimentaire\\n\\nAgriculture   \n",
       "241                     Agroalimentaire\\n\\nAgriculture   \n",
       "242                     Agroalimentaire\\n\\nAgriculture   \n",
       "243                     Agroalimentaire\\n\\nAgriculture   \n",
       "\n",
       "                                        Membres actifs  \\\n",
       "0    Grandes entreprises : 58\\nPME : 592\\nRecherche...   \n",
       "1    Grandes entreprises : 58\\nPME : 592\\nRecherche...   \n",
       "2    Grandes entreprises : 58\\nPME : 592\\nRecherche...   \n",
       "3    Grandes entreprises : 58\\nPME : 592\\nRecherche...   \n",
       "4    430 membres actifs, dont (extraction des membr...   \n",
       "..                                                 ...   \n",
       "239  Grandes entreprises : 47\\nPME/ETI : 299\\nReche...   \n",
       "240  Grandes entreprises : 47\\nPME/ETI : 299\\nReche...   \n",
       "241  Grandes entreprises : 47\\nPME/ETI : 299\\nReche...   \n",
       "242  Grandes entreprises : 47\\nPME/ETI : 299\\nReche...   \n",
       "243  Grandes entreprises : 47\\nPME/ETI : 299\\nReche...   \n",
       "\n",
       "                                Informations générales  \\\n",
       "0    Président : M. Bruno DARBOUX\\nDirecteur Généra...   \n",
       "1    Président : M. Bruno DARBOUX\\nDirecteur Généra...   \n",
       "2    Président : M. Bruno DARBOUX\\nDirecteur Généra...   \n",
       "3    Président : M. Bruno DARBOUX\\nDirecteur Généra...   \n",
       "4    Président : Cédric CABANES\\n\\nDirecteur Généra...   \n",
       "..                                                 ...   \n",
       "239  Président : Pierre Guez\\n\\nDéléguée Générale :...   \n",
       "240  Président : Pierre Guez\\n\\nDéléguée Générale :...   \n",
       "241  Président : Pierre Guez\\n\\nDéléguée Générale :...   \n",
       "242  Président : Pierre Guez\\n\\nDéléguée Générale :...   \n",
       "243  Président : Pierre Guez\\n\\nDéléguée Générale :...   \n",
       "\n",
       "                                               Contact  \\\n",
       "0    Bâtiment B612 - 3 Rue Tarfaya\\n\\nCS 64403\\n\\n3...   \n",
       "1    Bâtiment B612 - 3 Rue Tarfaya\\n\\nCS 64403\\n\\n3...   \n",
       "2    Bâtiment B612 - 3 Rue Tarfaya\\n\\nCS 64403\\n\\n3...   \n",
       "3    Bâtiment B612 - 3 Rue Tarfaya\\n\\nCS 64403\\n\\n3...   \n",
       "4    Agences : Toulouse, Bordeaux, Montpellier, Poi...   \n",
       "..                                                 ...   \n",
       "239  VITAGORA\\n\\n16 rue de l’Hôpital\\n\\n21000 Dijon...   \n",
       "240  VITAGORA\\n\\n16 rue de l’Hôpital\\n\\n21000 Dijon...   \n",
       "241  VITAGORA\\n\\n16 rue de l’Hôpital\\n\\n21000 Dijon...   \n",
       "242  VITAGORA\\n\\n16 rue de l’Hôpital\\n\\n21000 Dijon...   \n",
       "243  VITAGORA\\n\\n16 rue de l’Hôpital\\n\\n21000 Dijon...   \n",
       "\n",
       "                         profile_name  \\\n",
       "0                    M. Bruno DARBOUX   \n",
       "1                      M. Eric GIRAUD   \n",
       "2                   Mme Agnès BARDIER   \n",
       "3    bardier[ @ ]aerospace-valley.com   \n",
       "4                      Cédric CABANES   \n",
       "..                                ...   \n",
       "239                       Pierre Guez   \n",
       "240              Christophe Breuillet   \n",
       "241                   Elodie Da Silva   \n",
       "242                     Marthe Jewell   \n",
       "243                           Ming Li   \n",
       "\n",
       "                                          profile_role  \n",
       "0                                            Président  \n",
       "1                                    Directeur Général  \n",
       "2                                        Communication  \n",
       "3    Directrice déléguée à l’animation, la communic...  \n",
       "4                                            Président  \n",
       "..                                                 ...  \n",
       "239                                          Président  \n",
       "240                                  Déléguée Générale  \n",
       "241               Responsable Innovation & Ecosystèmes  \n",
       "242                          Responsable Communication  \n",
       "243                  Head of International Development  \n",
       "\n",
       "[244 rows x 8 columns]"
      ]
     },
     "execution_count": 207,
     "metadata": {},
     "output_type": "execute_result"
    }
   ],
   "source": [
    "def extract_profile_role(profile_name):\n",
    "    return ':'.join(profile_name.split(':')[:1]).strip()\n",
    "    \n",
    "df_exploded['profile_role'] = df_exploded['profile_name'].apply(extract_profile_role)\n",
    "\n",
    "def extract_profile_name(profile_name):\n",
    "    return ':'.join(profile_name.split(':')[1:]).strip()\n",
    "    \n",
    "df_exploded['profile_name'] = df_exploded['profile_name'].apply(extract_profile_name)\n",
    "\n",
    "df_exploded"
   ]
  },
  {
   "cell_type": "code",
   "execution_count": 213,
   "id": "069c61cf-2e82-4545-beec-aeaf6adfd6a2",
   "metadata": {},
   "outputs": [],
   "source": [
    "df_exploded = df_exploded[['Rang', 'profile_name', 'profile_role', 'poles', 'Domaines d’activité', 'Membres actifs',\n",
    "       'Informations générales', 'Contact']]\n",
    "\n",
    "# df_exploded.to_excel('54 poles de compétitivité 12_11_2024 11h20min avec profile_name et profile_role.xlsx', index=False)"
   ]
  },
  {
   "cell_type": "code",
   "execution_count": 256,
   "id": "adfce60b-eaf5-47a2-bbc9-649372ff67e4",
   "metadata": {},
   "outputs": [
    {
     "data": {
      "text/plain": [
       "['Bâtiment B612 - 3 Rue Tarfaya',\n",
       " 'CS 64403',\n",
       " '31405 TOULOUSE cedex 4',\n",
       " '+33 5 61 14 80 30 / contact[ @ ]aerospace-valley.com']"
      ]
     },
     "metadata": {},
     "output_type": "display_data"
    },
    {
     "name": "stdout",
     "output_type": "stream",
     "text": [
      "^^^^^^^^^^^^^^^^^^^^^^^^^^^^^^^^^^^^^^^^^^^^^^^^^^^^^^^^^^^^^^^^^^^^^^^^^^^^^^^^^^^^^^^^^^^^^^^^^^^^\n"
     ]
    },
    {
     "data": {
      "text/plain": [
       "'+33 5 61 14 80 30'"
      ]
     },
     "metadata": {},
     "output_type": "display_data"
    },
    {
     "data": {
      "text/plain": [
       "'contact[ @ ]aerospace-valley.com'"
      ]
     },
     "metadata": {},
     "output_type": "display_data"
    },
    {
     "name": "stdout",
     "output_type": "stream",
     "text": [
      "******************************************************************************************************************************************************\n"
     ]
    },
    {
     "data": {
      "text/plain": [
       "['Bâtiment B612 - 3 Rue Tarfaya',\n",
       " 'CS 64403',\n",
       " '31405 TOULOUSE cedex 4',\n",
       " '+33 5 61 14 80 30 / contact[ @ ]aerospace-valley.com']"
      ]
     },
     "metadata": {},
     "output_type": "display_data"
    },
    {
     "name": "stdout",
     "output_type": "stream",
     "text": [
      "^^^^^^^^^^^^^^^^^^^^^^^^^^^^^^^^^^^^^^^^^^^^^^^^^^^^^^^^^^^^^^^^^^^^^^^^^^^^^^^^^^^^^^^^^^^^^^^^^^^^\n"
     ]
    },
    {
     "data": {
      "text/plain": [
       "'+33 5 61 14 80 30'"
      ]
     },
     "metadata": {},
     "output_type": "display_data"
    },
    {
     "data": {
      "text/plain": [
       "'contact[ @ ]aerospace-valley.com'"
      ]
     },
     "metadata": {},
     "output_type": "display_data"
    },
    {
     "name": "stdout",
     "output_type": "stream",
     "text": [
      "******************************************************************************************************************************************************\n"
     ]
    },
    {
     "data": {
      "text/plain": [
       "['Bâtiment B612 - 3 Rue Tarfaya',\n",
       " 'CS 64403',\n",
       " '31405 TOULOUSE cedex 4',\n",
       " '+33 5 61 14 80 30 / contact[ @ ]aerospace-valley.com']"
      ]
     },
     "metadata": {},
     "output_type": "display_data"
    },
    {
     "name": "stdout",
     "output_type": "stream",
     "text": [
      "^^^^^^^^^^^^^^^^^^^^^^^^^^^^^^^^^^^^^^^^^^^^^^^^^^^^^^^^^^^^^^^^^^^^^^^^^^^^^^^^^^^^^^^^^^^^^^^^^^^^\n"
     ]
    },
    {
     "data": {
      "text/plain": [
       "'+33 5 61 14 80 30'"
      ]
     },
     "metadata": {},
     "output_type": "display_data"
    },
    {
     "data": {
      "text/plain": [
       "'contact[ @ ]aerospace-valley.com'"
      ]
     },
     "metadata": {},
     "output_type": "display_data"
    },
    {
     "name": "stdout",
     "output_type": "stream",
     "text": [
      "******************************************************************************************************************************************************\n"
     ]
    },
    {
     "data": {
      "text/plain": [
       "['Bâtiment B612 - 3 Rue Tarfaya',\n",
       " 'CS 64403',\n",
       " '31405 TOULOUSE cedex 4',\n",
       " '+33 5 61 14 80 30 / contact[ @ ]aerospace-valley.com']"
      ]
     },
     "metadata": {},
     "output_type": "display_data"
    },
    {
     "name": "stdout",
     "output_type": "stream",
     "text": [
      "^^^^^^^^^^^^^^^^^^^^^^^^^^^^^^^^^^^^^^^^^^^^^^^^^^^^^^^^^^^^^^^^^^^^^^^^^^^^^^^^^^^^^^^^^^^^^^^^^^^^\n"
     ]
    },
    {
     "data": {
      "text/plain": [
       "'+33 5 61 14 80 30'"
      ]
     },
     "metadata": {},
     "output_type": "display_data"
    },
    {
     "data": {
      "text/plain": [
       "'contact[ @ ]aerospace-valley.com'"
      ]
     },
     "metadata": {},
     "output_type": "display_data"
    },
    {
     "name": "stdout",
     "output_type": "stream",
     "text": [
      "******************************************************************************************************************************************************\n"
     ]
    },
    {
     "data": {
      "text/plain": [
       "['Agences : Toulouse, Bordeaux, Montpellier, Poitiers',\n",
       " 'Adresse du siège (Toulouse) : 8 Chemin de la Crouzette CS 52128 – Auzeville-Tolosane',\n",
       " '31321 CASTANET-TOLOSAN CEDEX',\n",
       " '+33(0)5 61 32 13 60',\n",
       " 'Contact Communication : communication[ @ ]agrisudouest.com',\n",
       " 'Contacts Projets et Europe : contact[ @ ]agrisudouest.com']"
      ]
     },
     "metadata": {},
     "output_type": "display_data"
    },
    {
     "name": "stdout",
     "output_type": "stream",
     "text": [
      "^^^^^^^^^^^^^^^^^^^^^^^^^^^^^^^^^^^^^^^^^^^^^^^^^^^^^^^^^^^^^^^^^^^^^^^^^^^^^^^^^^^^^^^^^^^^^^^^^^^^\n"
     ]
    },
    {
     "data": {
      "text/plain": [
       "'+33(0)5 61 32 13 60'"
      ]
     },
     "metadata": {},
     "output_type": "display_data"
    },
    {
     "data": {
      "text/plain": [
       "'Contact Communication : communication[ @ ]agrisudouest.com / Contacts Projets et Europe : contact[ @ ]agrisudouest.com'"
      ]
     },
     "metadata": {},
     "output_type": "display_data"
    },
    {
     "name": "stdout",
     "output_type": "stream",
     "text": [
      "******************************************************************************************************************************************************\n"
     ]
    },
    {
     "data": {
      "text/plain": [
       "['Agences : Toulouse, Bordeaux, Montpellier, Poitiers',\n",
       " 'Adresse du siège (Toulouse) : 8 Chemin de la Crouzette CS 52128 – Auzeville-Tolosane',\n",
       " '31321 CASTANET-TOLOSAN CEDEX',\n",
       " '+33(0)5 61 32 13 60',\n",
       " 'Contact Communication : communication[ @ ]agrisudouest.com',\n",
       " 'Contacts Projets et Europe : contact[ @ ]agrisudouest.com']"
      ]
     },
     "metadata": {},
     "output_type": "display_data"
    },
    {
     "name": "stdout",
     "output_type": "stream",
     "text": [
      "^^^^^^^^^^^^^^^^^^^^^^^^^^^^^^^^^^^^^^^^^^^^^^^^^^^^^^^^^^^^^^^^^^^^^^^^^^^^^^^^^^^^^^^^^^^^^^^^^^^^\n"
     ]
    },
    {
     "data": {
      "text/plain": [
       "'+33(0)5 61 32 13 60'"
      ]
     },
     "metadata": {},
     "output_type": "display_data"
    },
    {
     "data": {
      "text/plain": [
       "'Contact Communication : communication[ @ ]agrisudouest.com / Contacts Projets et Europe : contact[ @ ]agrisudouest.com'"
      ]
     },
     "metadata": {},
     "output_type": "display_data"
    },
    {
     "name": "stdout",
     "output_type": "stream",
     "text": [
      "******************************************************************************************************************************************************\n"
     ]
    },
    {
     "data": {
      "text/plain": [
       "['Agences : Toulouse, Bordeaux, Montpellier, Poitiers',\n",
       " 'Adresse du siège (Toulouse) : 8 Chemin de la Crouzette CS 52128 – Auzeville-Tolosane',\n",
       " '31321 CASTANET-TOLOSAN CEDEX',\n",
       " '+33(0)5 61 32 13 60',\n",
       " 'Contact Communication : communication[ @ ]agrisudouest.com',\n",
       " 'Contacts Projets et Europe : contact[ @ ]agrisudouest.com']"
      ]
     },
     "metadata": {},
     "output_type": "display_data"
    },
    {
     "name": "stdout",
     "output_type": "stream",
     "text": [
      "^^^^^^^^^^^^^^^^^^^^^^^^^^^^^^^^^^^^^^^^^^^^^^^^^^^^^^^^^^^^^^^^^^^^^^^^^^^^^^^^^^^^^^^^^^^^^^^^^^^^\n"
     ]
    },
    {
     "data": {
      "text/plain": [
       "'+33(0)5 61 32 13 60'"
      ]
     },
     "metadata": {},
     "output_type": "display_data"
    },
    {
     "data": {
      "text/plain": [
       "'Contact Communication : communication[ @ ]agrisudouest.com / Contacts Projets et Europe : contact[ @ ]agrisudouest.com'"
      ]
     },
     "metadata": {},
     "output_type": "display_data"
    },
    {
     "name": "stdout",
     "output_type": "stream",
     "text": [
      "******************************************************************************************************************************************************\n"
     ]
    },
    {
     "data": {
      "text/plain": [
       "['Agences : Toulouse, Bordeaux, Montpellier, Poitiers',\n",
       " 'Adresse du siège (Toulouse) : 8 Chemin de la Crouzette CS 52128 – Auzeville-Tolosane',\n",
       " '31321 CASTANET-TOLOSAN CEDEX',\n",
       " '+33(0)5 61 32 13 60',\n",
       " 'Contact Communication : communication[ @ ]agrisudouest.com',\n",
       " 'Contacts Projets et Europe : contact[ @ ]agrisudouest.com']"
      ]
     },
     "metadata": {},
     "output_type": "display_data"
    },
    {
     "name": "stdout",
     "output_type": "stream",
     "text": [
      "^^^^^^^^^^^^^^^^^^^^^^^^^^^^^^^^^^^^^^^^^^^^^^^^^^^^^^^^^^^^^^^^^^^^^^^^^^^^^^^^^^^^^^^^^^^^^^^^^^^^\n"
     ]
    },
    {
     "data": {
      "text/plain": [
       "'+33(0)5 61 32 13 60'"
      ]
     },
     "metadata": {},
     "output_type": "display_data"
    },
    {
     "data": {
      "text/plain": [
       "'Contact Communication : communication[ @ ]agrisudouest.com / Contacts Projets et Europe : contact[ @ ]agrisudouest.com'"
      ]
     },
     "metadata": {},
     "output_type": "display_data"
    },
    {
     "name": "stdout",
     "output_type": "stream",
     "text": [
      "******************************************************************************************************************************************************\n"
     ]
    },
    {
     "data": {
      "text/plain": [
       "['Agences : Toulouse, Bordeaux, Montpellier, Poitiers',\n",
       " 'Adresse du siège (Toulouse) : 8 Chemin de la Crouzette CS 52128 – Auzeville-Tolosane',\n",
       " '31321 CASTANET-TOLOSAN CEDEX',\n",
       " '+33(0)5 61 32 13 60',\n",
       " 'Contact Communication : communication[ @ ]agrisudouest.com',\n",
       " 'Contacts Projets et Europe : contact[ @ ]agrisudouest.com']"
      ]
     },
     "metadata": {},
     "output_type": "display_data"
    },
    {
     "name": "stdout",
     "output_type": "stream",
     "text": [
      "^^^^^^^^^^^^^^^^^^^^^^^^^^^^^^^^^^^^^^^^^^^^^^^^^^^^^^^^^^^^^^^^^^^^^^^^^^^^^^^^^^^^^^^^^^^^^^^^^^^^\n"
     ]
    },
    {
     "data": {
      "text/plain": [
       "'+33(0)5 61 32 13 60'"
      ]
     },
     "metadata": {},
     "output_type": "display_data"
    },
    {
     "data": {
      "text/plain": [
       "'Contact Communication : communication[ @ ]agrisudouest.com / Contacts Projets et Europe : contact[ @ ]agrisudouest.com'"
      ]
     },
     "metadata": {},
     "output_type": "display_data"
    },
    {
     "name": "stdout",
     "output_type": "stream",
     "text": [
      "******************************************************************************************************************************************************\n"
     ]
    },
    {
     "data": {
      "text/plain": [
       "['Agences : Toulouse, Bordeaux, Montpellier, Poitiers',\n",
       " 'Adresse du siège (Toulouse) : 8 Chemin de la Crouzette CS 52128 – Auzeville-Tolosane',\n",
       " '31321 CASTANET-TOLOSAN CEDEX',\n",
       " '+33(0)5 61 32 13 60',\n",
       " 'Contact Communication : communication[ @ ]agrisudouest.com',\n",
       " 'Contacts Projets et Europe : contact[ @ ]agrisudouest.com']"
      ]
     },
     "metadata": {},
     "output_type": "display_data"
    },
    {
     "name": "stdout",
     "output_type": "stream",
     "text": [
      "^^^^^^^^^^^^^^^^^^^^^^^^^^^^^^^^^^^^^^^^^^^^^^^^^^^^^^^^^^^^^^^^^^^^^^^^^^^^^^^^^^^^^^^^^^^^^^^^^^^^\n"
     ]
    },
    {
     "data": {
      "text/plain": [
       "'+33(0)5 61 32 13 60'"
      ]
     },
     "metadata": {},
     "output_type": "display_data"
    },
    {
     "data": {
      "text/plain": [
       "'Contact Communication : communication[ @ ]agrisudouest.com / Contacts Projets et Europe : contact[ @ ]agrisudouest.com'"
      ]
     },
     "metadata": {},
     "output_type": "display_data"
    },
    {
     "name": "stdout",
     "output_type": "stream",
     "text": [
      "******************************************************************************************************************************************************\n"
     ]
    },
    {
     "data": {
      "text/plain": [
       "['ALPHA-RLH - Institut d’Optique d’Aquitaine',\n",
       " 'Rue François Mitterrand',\n",
       " '33400 TALENCE',\n",
       " 'Tél : +33 (0)5 57 01 74 50',\n",
       " 'contact@alpha-rlh.com']"
      ]
     },
     "metadata": {},
     "output_type": "display_data"
    },
    {
     "name": "stdout",
     "output_type": "stream",
     "text": [
      "^^^^^^^^^^^^^^^^^^^^^^^^^^^^^^^^^^^^^^^^^^^^^^^^^^^^^^^^^^^^^^^^^^^^^^^^^^^^^^^^^^^^^^^^^^^^^^^^^^^^\n"
     ]
    },
    {
     "data": {
      "text/plain": [
       "'Tél : +33 (0)5 57 01 74 50'"
      ]
     },
     "metadata": {},
     "output_type": "display_data"
    },
    {
     "data": {
      "text/plain": [
       "'contact@alpha-rlh.com'"
      ]
     },
     "metadata": {},
     "output_type": "display_data"
    },
    {
     "name": "stdout",
     "output_type": "stream",
     "text": [
      "******************************************************************************************************************************************************\n"
     ]
    },
    {
     "data": {
      "text/plain": [
       "['ALPHA-RLH - Institut d’Optique d’Aquitaine',\n",
       " 'Rue François Mitterrand',\n",
       " '33400 TALENCE',\n",
       " 'Tél : +33 (0)5 57 01 74 50',\n",
       " 'contact@alpha-rlh.com']"
      ]
     },
     "metadata": {},
     "output_type": "display_data"
    },
    {
     "name": "stdout",
     "output_type": "stream",
     "text": [
      "^^^^^^^^^^^^^^^^^^^^^^^^^^^^^^^^^^^^^^^^^^^^^^^^^^^^^^^^^^^^^^^^^^^^^^^^^^^^^^^^^^^^^^^^^^^^^^^^^^^^\n"
     ]
    },
    {
     "data": {
      "text/plain": [
       "'Tél : +33 (0)5 57 01 74 50'"
      ]
     },
     "metadata": {},
     "output_type": "display_data"
    },
    {
     "data": {
      "text/plain": [
       "'contact@alpha-rlh.com'"
      ]
     },
     "metadata": {},
     "output_type": "display_data"
    },
    {
     "name": "stdout",
     "output_type": "stream",
     "text": [
      "******************************************************************************************************************************************************\n"
     ]
    },
    {
     "data": {
      "text/plain": [
       "['ALPHA-RLH - Institut d’Optique d’Aquitaine',\n",
       " 'Rue François Mitterrand',\n",
       " '33400 TALENCE',\n",
       " 'Tél : +33 (0)5 57 01 74 50',\n",
       " 'contact@alpha-rlh.com']"
      ]
     },
     "metadata": {},
     "output_type": "display_data"
    },
    {
     "name": "stdout",
     "output_type": "stream",
     "text": [
      "^^^^^^^^^^^^^^^^^^^^^^^^^^^^^^^^^^^^^^^^^^^^^^^^^^^^^^^^^^^^^^^^^^^^^^^^^^^^^^^^^^^^^^^^^^^^^^^^^^^^\n"
     ]
    },
    {
     "data": {
      "text/plain": [
       "'Tél : +33 (0)5 57 01 74 50'"
      ]
     },
     "metadata": {},
     "output_type": "display_data"
    },
    {
     "data": {
      "text/plain": [
       "'contact@alpha-rlh.com'"
      ]
     },
     "metadata": {},
     "output_type": "display_data"
    },
    {
     "name": "stdout",
     "output_type": "stream",
     "text": [
      "******************************************************************************************************************************************************\n"
     ]
    },
    {
     "data": {
      "text/plain": [
       "['ALPHA-RLH - Institut d’Optique d’Aquitaine',\n",
       " 'Rue François Mitterrand',\n",
       " '33400 TALENCE',\n",
       " 'Tél : +33 (0)5 57 01 74 50',\n",
       " 'contact@alpha-rlh.com']"
      ]
     },
     "metadata": {},
     "output_type": "display_data"
    },
    {
     "name": "stdout",
     "output_type": "stream",
     "text": [
      "^^^^^^^^^^^^^^^^^^^^^^^^^^^^^^^^^^^^^^^^^^^^^^^^^^^^^^^^^^^^^^^^^^^^^^^^^^^^^^^^^^^^^^^^^^^^^^^^^^^^\n"
     ]
    },
    {
     "data": {
      "text/plain": [
       "'Tél : +33 (0)5 57 01 74 50'"
      ]
     },
     "metadata": {},
     "output_type": "display_data"
    },
    {
     "data": {
      "text/plain": [
       "'contact@alpha-rlh.com'"
      ]
     },
     "metadata": {},
     "output_type": "display_data"
    },
    {
     "name": "stdout",
     "output_type": "stream",
     "text": [
      "******************************************************************************************************************************************************\n"
     ]
    },
    {
     "data": {
      "text/plain": [
       "['ALPHA-RLH - Institut d’Optique d’Aquitaine',\n",
       " 'Rue François Mitterrand',\n",
       " '33400 TALENCE',\n",
       " 'Tél : +33 (0)5 57 01 74 50',\n",
       " 'contact@alpha-rlh.com']"
      ]
     },
     "metadata": {},
     "output_type": "display_data"
    },
    {
     "name": "stdout",
     "output_type": "stream",
     "text": [
      "^^^^^^^^^^^^^^^^^^^^^^^^^^^^^^^^^^^^^^^^^^^^^^^^^^^^^^^^^^^^^^^^^^^^^^^^^^^^^^^^^^^^^^^^^^^^^^^^^^^^\n"
     ]
    },
    {
     "data": {
      "text/plain": [
       "'Tél : +33 (0)5 57 01 74 50'"
      ]
     },
     "metadata": {},
     "output_type": "display_data"
    },
    {
     "data": {
      "text/plain": [
       "'contact@alpha-rlh.com'"
      ]
     },
     "metadata": {},
     "output_type": "display_data"
    },
    {
     "name": "stdout",
     "output_type": "stream",
     "text": [
      "******************************************************************************************************************************************************\n"
     ]
    },
    {
     "data": {
      "text/plain": [
       "['Région Occitanie : Montpellier (34), Toulouse (31)',\n",
       " 'Région Sud : Antenne Ea éco-entreprises - Aix en Provence (13)']"
      ]
     },
     "metadata": {},
     "output_type": "display_data"
    },
    {
     "name": "stdout",
     "output_type": "stream",
     "text": [
      "^^^^^^^^^^^^^^^^^^^^^^^^^^^^^^^^^^^^^^^^^^^^^^^^^^^^^^^^^^^^^^^^^^^^^^^^^^^^^^^^^^^^^^^^^^^^^^^^^^^^\n"
     ]
    },
    {
     "data": {
      "text/plain": [
       "''"
      ]
     },
     "metadata": {},
     "output_type": "display_data"
    },
    {
     "data": {
      "text/plain": [
       "''"
      ]
     },
     "metadata": {},
     "output_type": "display_data"
    },
    {
     "name": "stdout",
     "output_type": "stream",
     "text": [
      "******************************************************************************************************************************************************\n"
     ]
    },
    {
     "data": {
      "text/plain": [
       "['Région Occitanie : Montpellier (34), Toulouse (31)',\n",
       " 'Région Sud : Antenne Ea éco-entreprises - Aix en Provence (13)']"
      ]
     },
     "metadata": {},
     "output_type": "display_data"
    },
    {
     "name": "stdout",
     "output_type": "stream",
     "text": [
      "^^^^^^^^^^^^^^^^^^^^^^^^^^^^^^^^^^^^^^^^^^^^^^^^^^^^^^^^^^^^^^^^^^^^^^^^^^^^^^^^^^^^^^^^^^^^^^^^^^^^\n"
     ]
    },
    {
     "data": {
      "text/plain": [
       "''"
      ]
     },
     "metadata": {},
     "output_type": "display_data"
    },
    {
     "data": {
      "text/plain": [
       "''"
      ]
     },
     "metadata": {},
     "output_type": "display_data"
    },
    {
     "name": "stdout",
     "output_type": "stream",
     "text": [
      "******************************************************************************************************************************************************\n"
     ]
    },
    {
     "data": {
      "text/plain": [
       "['Région Occitanie : Montpellier (34), Toulouse (31)',\n",
       " 'Région Sud : Antenne Ea éco-entreprises - Aix en Provence (13)']"
      ]
     },
     "metadata": {},
     "output_type": "display_data"
    },
    {
     "name": "stdout",
     "output_type": "stream",
     "text": [
      "^^^^^^^^^^^^^^^^^^^^^^^^^^^^^^^^^^^^^^^^^^^^^^^^^^^^^^^^^^^^^^^^^^^^^^^^^^^^^^^^^^^^^^^^^^^^^^^^^^^^\n"
     ]
    },
    {
     "data": {
      "text/plain": [
       "''"
      ]
     },
     "metadata": {},
     "output_type": "display_data"
    },
    {
     "data": {
      "text/plain": [
       "''"
      ]
     },
     "metadata": {},
     "output_type": "display_data"
    },
    {
     "name": "stdout",
     "output_type": "stream",
     "text": [
      "******************************************************************************************************************************************************\n"
     ]
    },
    {
     "data": {
      "text/plain": [
       "['Région Occitanie : Montpellier (34), Toulouse (31)',\n",
       " 'Région Sud : Antenne Ea éco-entreprises - Aix en Provence (13)']"
      ]
     },
     "metadata": {},
     "output_type": "display_data"
    },
    {
     "name": "stdout",
     "output_type": "stream",
     "text": [
      "^^^^^^^^^^^^^^^^^^^^^^^^^^^^^^^^^^^^^^^^^^^^^^^^^^^^^^^^^^^^^^^^^^^^^^^^^^^^^^^^^^^^^^^^^^^^^^^^^^^^\n"
     ]
    },
    {
     "data": {
      "text/plain": [
       "''"
      ]
     },
     "metadata": {},
     "output_type": "display_data"
    },
    {
     "data": {
      "text/plain": [
       "''"
      ]
     },
     "metadata": {},
     "output_type": "display_data"
    },
    {
     "name": "stdout",
     "output_type": "stream",
     "text": [
      "******************************************************************************************************************************************************\n"
     ]
    },
    {
     "data": {
      "text/plain": [
       "['Région Occitanie : Montpellier (34), Toulouse (31)',\n",
       " 'Région Sud : Antenne Ea éco-entreprises - Aix en Provence (13)']"
      ]
     },
     "metadata": {},
     "output_type": "display_data"
    },
    {
     "name": "stdout",
     "output_type": "stream",
     "text": [
      "^^^^^^^^^^^^^^^^^^^^^^^^^^^^^^^^^^^^^^^^^^^^^^^^^^^^^^^^^^^^^^^^^^^^^^^^^^^^^^^^^^^^^^^^^^^^^^^^^^^^\n"
     ]
    },
    {
     "data": {
      "text/plain": [
       "''"
      ]
     },
     "metadata": {},
     "output_type": "display_data"
    },
    {
     "data": {
      "text/plain": [
       "''"
      ]
     },
     "metadata": {},
     "output_type": "display_data"
    },
    {
     "name": "stdout",
     "output_type": "stream",
     "text": [
      "******************************************************************************************************************************************************\n"
     ]
    },
    {
     "data": {
      "text/plain": [
       "['nan']"
      ]
     },
     "metadata": {},
     "output_type": "display_data"
    },
    {
     "name": "stdout",
     "output_type": "stream",
     "text": [
      "^^^^^^^^^^^^^^^^^^^^^^^^^^^^^^^^^^^^^^^^^^^^^^^^^^^^^^^^^^^^^^^^^^^^^^^^^^^^^^^^^^^^^^^^^^^^^^^^^^^^\n"
     ]
    },
    {
     "data": {
      "text/plain": [
       "''"
      ]
     },
     "metadata": {},
     "output_type": "display_data"
    },
    {
     "data": {
      "text/plain": [
       "''"
      ]
     },
     "metadata": {},
     "output_type": "display_data"
    },
    {
     "name": "stdout",
     "output_type": "stream",
     "text": [
      "******************************************************************************************************************************************************\n"
     ]
    },
    {
     "data": {
      "text/plain": [
       "['nan']"
      ]
     },
     "metadata": {},
     "output_type": "display_data"
    },
    {
     "name": "stdout",
     "output_type": "stream",
     "text": [
      "^^^^^^^^^^^^^^^^^^^^^^^^^^^^^^^^^^^^^^^^^^^^^^^^^^^^^^^^^^^^^^^^^^^^^^^^^^^^^^^^^^^^^^^^^^^^^^^^^^^^\n"
     ]
    },
    {
     "data": {
      "text/plain": [
       "''"
      ]
     },
     "metadata": {},
     "output_type": "display_data"
    },
    {
     "data": {
      "text/plain": [
       "''"
      ]
     },
     "metadata": {},
     "output_type": "display_data"
    },
    {
     "name": "stdout",
     "output_type": "stream",
     "text": [
      "******************************************************************************************************************************************************\n"
     ]
    },
    {
     "data": {
      "text/plain": [
       "['nan']"
      ]
     },
     "metadata": {},
     "output_type": "display_data"
    },
    {
     "name": "stdout",
     "output_type": "stream",
     "text": [
      "^^^^^^^^^^^^^^^^^^^^^^^^^^^^^^^^^^^^^^^^^^^^^^^^^^^^^^^^^^^^^^^^^^^^^^^^^^^^^^^^^^^^^^^^^^^^^^^^^^^^\n"
     ]
    },
    {
     "data": {
      "text/plain": [
       "''"
      ]
     },
     "metadata": {},
     "output_type": "display_data"
    },
    {
     "data": {
      "text/plain": [
       "''"
      ]
     },
     "metadata": {},
     "output_type": "display_data"
    },
    {
     "name": "stdout",
     "output_type": "stream",
     "text": [
      "******************************************************************************************************************************************************\n"
     ]
    },
    {
     "data": {
      "text/plain": [
       "['nan']"
      ]
     },
     "metadata": {},
     "output_type": "display_data"
    },
    {
     "name": "stdout",
     "output_type": "stream",
     "text": [
      "^^^^^^^^^^^^^^^^^^^^^^^^^^^^^^^^^^^^^^^^^^^^^^^^^^^^^^^^^^^^^^^^^^^^^^^^^^^^^^^^^^^^^^^^^^^^^^^^^^^^\n"
     ]
    },
    {
     "data": {
      "text/plain": [
       "''"
      ]
     },
     "metadata": {},
     "output_type": "display_data"
    },
    {
     "data": {
      "text/plain": [
       "''"
      ]
     },
     "metadata": {},
     "output_type": "display_data"
    },
    {
     "name": "stdout",
     "output_type": "stream",
     "text": [
      "******************************************************************************************************************************************************\n"
     ]
    },
    {
     "data": {
      "text/plain": [
       "['nan']"
      ]
     },
     "metadata": {},
     "output_type": "display_data"
    },
    {
     "name": "stdout",
     "output_type": "stream",
     "text": [
      "^^^^^^^^^^^^^^^^^^^^^^^^^^^^^^^^^^^^^^^^^^^^^^^^^^^^^^^^^^^^^^^^^^^^^^^^^^^^^^^^^^^^^^^^^^^^^^^^^^^^\n"
     ]
    },
    {
     "data": {
      "text/plain": [
       "''"
      ]
     },
     "metadata": {},
     "output_type": "display_data"
    },
    {
     "data": {
      "text/plain": [
       "''"
      ]
     },
     "metadata": {},
     "output_type": "display_data"
    },
    {
     "name": "stdout",
     "output_type": "stream",
     "text": [
      "******************************************************************************************************************************************************\n"
     ]
    },
    {
     "data": {
      "text/plain": [
       "['nan']"
      ]
     },
     "metadata": {},
     "output_type": "display_data"
    },
    {
     "name": "stdout",
     "output_type": "stream",
     "text": [
      "^^^^^^^^^^^^^^^^^^^^^^^^^^^^^^^^^^^^^^^^^^^^^^^^^^^^^^^^^^^^^^^^^^^^^^^^^^^^^^^^^^^^^^^^^^^^^^^^^^^^\n"
     ]
    },
    {
     "data": {
      "text/plain": [
       "''"
      ]
     },
     "metadata": {},
     "output_type": "display_data"
    },
    {
     "data": {
      "text/plain": [
       "''"
      ]
     },
     "metadata": {},
     "output_type": "display_data"
    },
    {
     "name": "stdout",
     "output_type": "stream",
     "text": [
      "******************************************************************************************************************************************************\n"
     ]
    },
    {
     "data": {
      "text/plain": [
       "['nan']"
      ]
     },
     "metadata": {},
     "output_type": "display_data"
    },
    {
     "name": "stdout",
     "output_type": "stream",
     "text": [
      "^^^^^^^^^^^^^^^^^^^^^^^^^^^^^^^^^^^^^^^^^^^^^^^^^^^^^^^^^^^^^^^^^^^^^^^^^^^^^^^^^^^^^^^^^^^^^^^^^^^^\n"
     ]
    },
    {
     "data": {
      "text/plain": [
       "''"
      ]
     },
     "metadata": {},
     "output_type": "display_data"
    },
    {
     "data": {
      "text/plain": [
       "''"
      ]
     },
     "metadata": {},
     "output_type": "display_data"
    },
    {
     "name": "stdout",
     "output_type": "stream",
     "text": [
      "******************************************************************************************************************************************************\n"
     ]
    },
    {
     "data": {
      "text/plain": [
       "['AQUIMER',\n",
       " '16 rue du Commandant Charcot CS10381',\n",
       " '62206 Boulogne-sur-Mer cedex',\n",
       " '03 21 10 78 98 / contact[ @ ]poleaquimer.com']"
      ]
     },
     "metadata": {},
     "output_type": "display_data"
    },
    {
     "name": "stdout",
     "output_type": "stream",
     "text": [
      "^^^^^^^^^^^^^^^^^^^^^^^^^^^^^^^^^^^^^^^^^^^^^^^^^^^^^^^^^^^^^^^^^^^^^^^^^^^^^^^^^^^^^^^^^^^^^^^^^^^^\n"
     ]
    },
    {
     "data": {
      "text/plain": [
       "'03 21 10 78 98'"
      ]
     },
     "metadata": {},
     "output_type": "display_data"
    },
    {
     "data": {
      "text/plain": [
       "'contact[ @ ]poleaquimer.com'"
      ]
     },
     "metadata": {},
     "output_type": "display_data"
    },
    {
     "name": "stdout",
     "output_type": "stream",
     "text": [
      "******************************************************************************************************************************************************\n"
     ]
    },
    {
     "data": {
      "text/plain": [
       "['AQUIMER',\n",
       " '16 rue du Commandant Charcot CS10381',\n",
       " '62206 Boulogne-sur-Mer cedex',\n",
       " '03 21 10 78 98 / contact[ @ ]poleaquimer.com']"
      ]
     },
     "metadata": {},
     "output_type": "display_data"
    },
    {
     "name": "stdout",
     "output_type": "stream",
     "text": [
      "^^^^^^^^^^^^^^^^^^^^^^^^^^^^^^^^^^^^^^^^^^^^^^^^^^^^^^^^^^^^^^^^^^^^^^^^^^^^^^^^^^^^^^^^^^^^^^^^^^^^\n"
     ]
    },
    {
     "data": {
      "text/plain": [
       "'03 21 10 78 98'"
      ]
     },
     "metadata": {},
     "output_type": "display_data"
    },
    {
     "data": {
      "text/plain": [
       "'contact[ @ ]poleaquimer.com'"
      ]
     },
     "metadata": {},
     "output_type": "display_data"
    },
    {
     "name": "stdout",
     "output_type": "stream",
     "text": [
      "******************************************************************************************************************************************************\n"
     ]
    },
    {
     "data": {
      "text/plain": [
       "['AQUIMER',\n",
       " '16 rue du Commandant Charcot CS10381',\n",
       " '62206 Boulogne-sur-Mer cedex',\n",
       " '03 21 10 78 98 / contact[ @ ]poleaquimer.com']"
      ]
     },
     "metadata": {},
     "output_type": "display_data"
    },
    {
     "name": "stdout",
     "output_type": "stream",
     "text": [
      "^^^^^^^^^^^^^^^^^^^^^^^^^^^^^^^^^^^^^^^^^^^^^^^^^^^^^^^^^^^^^^^^^^^^^^^^^^^^^^^^^^^^^^^^^^^^^^^^^^^^\n"
     ]
    },
    {
     "data": {
      "text/plain": [
       "'03 21 10 78 98'"
      ]
     },
     "metadata": {},
     "output_type": "display_data"
    },
    {
     "data": {
      "text/plain": [
       "'contact[ @ ]poleaquimer.com'"
      ]
     },
     "metadata": {},
     "output_type": "display_data"
    },
    {
     "name": "stdout",
     "output_type": "stream",
     "text": [
      "******************************************************************************************************************************************************\n"
     ]
    },
    {
     "data": {
      "text/plain": [
       "['AQUIMER',\n",
       " '16 rue du Commandant Charcot CS10381',\n",
       " '62206 Boulogne-sur-Mer cedex',\n",
       " '03 21 10 78 98 / contact[ @ ]poleaquimer.com']"
      ]
     },
     "metadata": {},
     "output_type": "display_data"
    },
    {
     "name": "stdout",
     "output_type": "stream",
     "text": [
      "^^^^^^^^^^^^^^^^^^^^^^^^^^^^^^^^^^^^^^^^^^^^^^^^^^^^^^^^^^^^^^^^^^^^^^^^^^^^^^^^^^^^^^^^^^^^^^^^^^^^\n"
     ]
    },
    {
     "data": {
      "text/plain": [
       "'03 21 10 78 98'"
      ]
     },
     "metadata": {},
     "output_type": "display_data"
    },
    {
     "data": {
      "text/plain": [
       "'contact[ @ ]poleaquimer.com'"
      ]
     },
     "metadata": {},
     "output_type": "display_data"
    },
    {
     "name": "stdout",
     "output_type": "stream",
     "text": [
      "******************************************************************************************************************************************************\n"
     ]
    },
    {
     "data": {
      "text/plain": [
       "['AQUIMER',\n",
       " '16 rue du Commandant Charcot CS10381',\n",
       " '62206 Boulogne-sur-Mer cedex',\n",
       " '03 21 10 78 98 / contact[ @ ]poleaquimer.com']"
      ]
     },
     "metadata": {},
     "output_type": "display_data"
    },
    {
     "name": "stdout",
     "output_type": "stream",
     "text": [
      "^^^^^^^^^^^^^^^^^^^^^^^^^^^^^^^^^^^^^^^^^^^^^^^^^^^^^^^^^^^^^^^^^^^^^^^^^^^^^^^^^^^^^^^^^^^^^^^^^^^^\n"
     ]
    },
    {
     "data": {
      "text/plain": [
       "'03 21 10 78 98'"
      ]
     },
     "metadata": {},
     "output_type": "display_data"
    },
    {
     "data": {
      "text/plain": [
       "'contact[ @ ]poleaquimer.com'"
      ]
     },
     "metadata": {},
     "output_type": "display_data"
    },
    {
     "name": "stdout",
     "output_type": "stream",
     "text": [
      "******************************************************************************************************************************************************\n"
     ]
    },
    {
     "data": {
      "text/plain": [
       "['ASTech',\n",
       " '1-3 allée de Bruxelles - Aéroport de Paris Le Bourget',\n",
       " '93350 Le Bourget',\n",
       " '+33 (0)1 74 25 40 56 / contact[ @ ]pole-astech.org']"
      ]
     },
     "metadata": {},
     "output_type": "display_data"
    },
    {
     "name": "stdout",
     "output_type": "stream",
     "text": [
      "^^^^^^^^^^^^^^^^^^^^^^^^^^^^^^^^^^^^^^^^^^^^^^^^^^^^^^^^^^^^^^^^^^^^^^^^^^^^^^^^^^^^^^^^^^^^^^^^^^^^\n"
     ]
    },
    {
     "data": {
      "text/plain": [
       "'+33 (0)1 74 25 40 56'"
      ]
     },
     "metadata": {},
     "output_type": "display_data"
    },
    {
     "data": {
      "text/plain": [
       "'contact[ @ ]pole-astech.org'"
      ]
     },
     "metadata": {},
     "output_type": "display_data"
    },
    {
     "name": "stdout",
     "output_type": "stream",
     "text": [
      "******************************************************************************************************************************************************\n"
     ]
    },
    {
     "data": {
      "text/plain": [
       "['ASTech',\n",
       " '1-3 allée de Bruxelles - Aéroport de Paris Le Bourget',\n",
       " '93350 Le Bourget',\n",
       " '+33 (0)1 74 25 40 56 / contact[ @ ]pole-astech.org']"
      ]
     },
     "metadata": {},
     "output_type": "display_data"
    },
    {
     "name": "stdout",
     "output_type": "stream",
     "text": [
      "^^^^^^^^^^^^^^^^^^^^^^^^^^^^^^^^^^^^^^^^^^^^^^^^^^^^^^^^^^^^^^^^^^^^^^^^^^^^^^^^^^^^^^^^^^^^^^^^^^^^\n"
     ]
    },
    {
     "data": {
      "text/plain": [
       "'+33 (0)1 74 25 40 56'"
      ]
     },
     "metadata": {},
     "output_type": "display_data"
    },
    {
     "data": {
      "text/plain": [
       "'contact[ @ ]pole-astech.org'"
      ]
     },
     "metadata": {},
     "output_type": "display_data"
    },
    {
     "name": "stdout",
     "output_type": "stream",
     "text": [
      "******************************************************************************************************************************************************\n"
     ]
    },
    {
     "data": {
      "text/plain": [
       "['ASTech',\n",
       " '1-3 allée de Bruxelles - Aéroport de Paris Le Bourget',\n",
       " '93350 Le Bourget',\n",
       " '+33 (0)1 74 25 40 56 / contact[ @ ]pole-astech.org']"
      ]
     },
     "metadata": {},
     "output_type": "display_data"
    },
    {
     "name": "stdout",
     "output_type": "stream",
     "text": [
      "^^^^^^^^^^^^^^^^^^^^^^^^^^^^^^^^^^^^^^^^^^^^^^^^^^^^^^^^^^^^^^^^^^^^^^^^^^^^^^^^^^^^^^^^^^^^^^^^^^^^\n"
     ]
    },
    {
     "data": {
      "text/plain": [
       "'+33 (0)1 74 25 40 56'"
      ]
     },
     "metadata": {},
     "output_type": "display_data"
    },
    {
     "data": {
      "text/plain": [
       "'contact[ @ ]pole-astech.org'"
      ]
     },
     "metadata": {},
     "output_type": "display_data"
    },
    {
     "name": "stdout",
     "output_type": "stream",
     "text": [
      "******************************************************************************************************************************************************\n"
     ]
    },
    {
     "data": {
      "text/plain": [
       "['ASTech',\n",
       " '1-3 allée de Bruxelles - Aéroport de Paris Le Bourget',\n",
       " '93350 Le Bourget',\n",
       " '+33 (0)1 74 25 40 56 / contact[ @ ]pole-astech.org']"
      ]
     },
     "metadata": {},
     "output_type": "display_data"
    },
    {
     "name": "stdout",
     "output_type": "stream",
     "text": [
      "^^^^^^^^^^^^^^^^^^^^^^^^^^^^^^^^^^^^^^^^^^^^^^^^^^^^^^^^^^^^^^^^^^^^^^^^^^^^^^^^^^^^^^^^^^^^^^^^^^^^\n"
     ]
    },
    {
     "data": {
      "text/plain": [
       "'+33 (0)1 74 25 40 56'"
      ]
     },
     "metadata": {},
     "output_type": "display_data"
    },
    {
     "data": {
      "text/plain": [
       "'contact[ @ ]pole-astech.org'"
      ]
     },
     "metadata": {},
     "output_type": "display_data"
    },
    {
     "name": "stdout",
     "output_type": "stream",
     "text": [
      "******************************************************************************************************************************************************\n"
     ]
    },
    {
     "data": {
      "text/plain": [
       "['ASTech',\n",
       " '1-3 allée de Bruxelles - Aéroport de Paris Le Bourget',\n",
       " '93350 Le Bourget',\n",
       " '+33 (0)1 74 25 40 56 / contact[ @ ]pole-astech.org']"
      ]
     },
     "metadata": {},
     "output_type": "display_data"
    },
    {
     "name": "stdout",
     "output_type": "stream",
     "text": [
      "^^^^^^^^^^^^^^^^^^^^^^^^^^^^^^^^^^^^^^^^^^^^^^^^^^^^^^^^^^^^^^^^^^^^^^^^^^^^^^^^^^^^^^^^^^^^^^^^^^^^\n"
     ]
    },
    {
     "data": {
      "text/plain": [
       "'+33 (0)1 74 25 40 56'"
      ]
     },
     "metadata": {},
     "output_type": "display_data"
    },
    {
     "data": {
      "text/plain": [
       "'contact[ @ ]pole-astech.org'"
      ]
     },
     "metadata": {},
     "output_type": "display_data"
    },
    {
     "name": "stdout",
     "output_type": "stream",
     "text": [
      "******************************************************************************************************************************************************\n"
     ]
    },
    {
     "data": {
      "text/plain": [
       "['ASTech',\n",
       " '1-3 allée de Bruxelles - Aéroport de Paris Le Bourget',\n",
       " '93350 Le Bourget',\n",
       " '+33 (0)1 74 25 40 56 / contact[ @ ]pole-astech.org']"
      ]
     },
     "metadata": {},
     "output_type": "display_data"
    },
    {
     "name": "stdout",
     "output_type": "stream",
     "text": [
      "^^^^^^^^^^^^^^^^^^^^^^^^^^^^^^^^^^^^^^^^^^^^^^^^^^^^^^^^^^^^^^^^^^^^^^^^^^^^^^^^^^^^^^^^^^^^^^^^^^^^\n"
     ]
    },
    {
     "data": {
      "text/plain": [
       "'+33 (0)1 74 25 40 56'"
      ]
     },
     "metadata": {},
     "output_type": "display_data"
    },
    {
     "data": {
      "text/plain": [
       "'contact[ @ ]pole-astech.org'"
      ]
     },
     "metadata": {},
     "output_type": "display_data"
    },
    {
     "name": "stdout",
     "output_type": "stream",
     "text": [
      "******************************************************************************************************************************************************\n"
     ]
    },
    {
     "data": {
      "text/plain": [
       "['Tél : 02 40 25 13 99', 'contact[ @ ]atlanpolebiotherapies.fr']"
      ]
     },
     "metadata": {},
     "output_type": "display_data"
    },
    {
     "name": "stdout",
     "output_type": "stream",
     "text": [
      "^^^^^^^^^^^^^^^^^^^^^^^^^^^^^^^^^^^^^^^^^^^^^^^^^^^^^^^^^^^^^^^^^^^^^^^^^^^^^^^^^^^^^^^^^^^^^^^^^^^^\n"
     ]
    },
    {
     "data": {
      "text/plain": [
       "'Tél : 02 40 25 13 99'"
      ]
     },
     "metadata": {},
     "output_type": "display_data"
    },
    {
     "data": {
      "text/plain": [
       "'contact[ @ ]atlanpolebiotherapies.fr'"
      ]
     },
     "metadata": {},
     "output_type": "display_data"
    },
    {
     "name": "stdout",
     "output_type": "stream",
     "text": [
      "******************************************************************************************************************************************************\n"
     ]
    },
    {
     "data": {
      "text/plain": [
       "['Tél : 02 40 25 13 99', 'contact[ @ ]atlanpolebiotherapies.fr']"
      ]
     },
     "metadata": {},
     "output_type": "display_data"
    },
    {
     "name": "stdout",
     "output_type": "stream",
     "text": [
      "^^^^^^^^^^^^^^^^^^^^^^^^^^^^^^^^^^^^^^^^^^^^^^^^^^^^^^^^^^^^^^^^^^^^^^^^^^^^^^^^^^^^^^^^^^^^^^^^^^^^\n"
     ]
    },
    {
     "data": {
      "text/plain": [
       "'Tél : 02 40 25 13 99'"
      ]
     },
     "metadata": {},
     "output_type": "display_data"
    },
    {
     "data": {
      "text/plain": [
       "'contact[ @ ]atlanpolebiotherapies.fr'"
      ]
     },
     "metadata": {},
     "output_type": "display_data"
    },
    {
     "name": "stdout",
     "output_type": "stream",
     "text": [
      "******************************************************************************************************************************************************\n"
     ]
    },
    {
     "data": {
      "text/plain": [
       "['Tél : 02 40 25 13 99', 'contact[ @ ]atlanpolebiotherapies.fr']"
      ]
     },
     "metadata": {},
     "output_type": "display_data"
    },
    {
     "name": "stdout",
     "output_type": "stream",
     "text": [
      "^^^^^^^^^^^^^^^^^^^^^^^^^^^^^^^^^^^^^^^^^^^^^^^^^^^^^^^^^^^^^^^^^^^^^^^^^^^^^^^^^^^^^^^^^^^^^^^^^^^^\n"
     ]
    },
    {
     "data": {
      "text/plain": [
       "'Tél : 02 40 25 13 99'"
      ]
     },
     "metadata": {},
     "output_type": "display_data"
    },
    {
     "data": {
      "text/plain": [
       "'contact[ @ ]atlanpolebiotherapies.fr'"
      ]
     },
     "metadata": {},
     "output_type": "display_data"
    },
    {
     "name": "stdout",
     "output_type": "stream",
     "text": [
      "******************************************************************************************************************************************************\n"
     ]
    },
    {
     "data": {
      "text/plain": [
       "['Tél : 02 40 25 13 99', 'contact[ @ ]atlanpolebiotherapies.fr']"
      ]
     },
     "metadata": {},
     "output_type": "display_data"
    },
    {
     "name": "stdout",
     "output_type": "stream",
     "text": [
      "^^^^^^^^^^^^^^^^^^^^^^^^^^^^^^^^^^^^^^^^^^^^^^^^^^^^^^^^^^^^^^^^^^^^^^^^^^^^^^^^^^^^^^^^^^^^^^^^^^^^\n"
     ]
    },
    {
     "data": {
      "text/plain": [
       "'Tél : 02 40 25 13 99'"
      ]
     },
     "metadata": {},
     "output_type": "display_data"
    },
    {
     "data": {
      "text/plain": [
       "'contact[ @ ]atlanpolebiotherapies.fr'"
      ]
     },
     "metadata": {},
     "output_type": "display_data"
    },
    {
     "name": "stdout",
     "output_type": "stream",
     "text": [
      "******************************************************************************************************************************************************\n"
     ]
    },
    {
     "data": {
      "text/plain": [
       "['Tél : 02 40 25 13 99', 'contact[ @ ]atlanpolebiotherapies.fr']"
      ]
     },
     "metadata": {},
     "output_type": "display_data"
    },
    {
     "name": "stdout",
     "output_type": "stream",
     "text": [
      "^^^^^^^^^^^^^^^^^^^^^^^^^^^^^^^^^^^^^^^^^^^^^^^^^^^^^^^^^^^^^^^^^^^^^^^^^^^^^^^^^^^^^^^^^^^^^^^^^^^^\n"
     ]
    },
    {
     "data": {
      "text/plain": [
       "'Tél : 02 40 25 13 99'"
      ]
     },
     "metadata": {},
     "output_type": "display_data"
    },
    {
     "data": {
      "text/plain": [
       "'contact[ @ ]atlanpolebiotherapies.fr'"
      ]
     },
     "metadata": {},
     "output_type": "display_data"
    },
    {
     "name": "stdout",
     "output_type": "stream",
     "text": [
      "******************************************************************************************************************************************************\n"
     ]
    },
    {
     "data": {
      "text/plain": [
       "['Tél : 02 40 25 13 99', 'contact[ @ ]atlanpolebiotherapies.fr']"
      ]
     },
     "metadata": {},
     "output_type": "display_data"
    },
    {
     "name": "stdout",
     "output_type": "stream",
     "text": [
      "^^^^^^^^^^^^^^^^^^^^^^^^^^^^^^^^^^^^^^^^^^^^^^^^^^^^^^^^^^^^^^^^^^^^^^^^^^^^^^^^^^^^^^^^^^^^^^^^^^^^\n"
     ]
    },
    {
     "data": {
      "text/plain": [
       "'Tél : 02 40 25 13 99'"
      ]
     },
     "metadata": {},
     "output_type": "display_data"
    },
    {
     "data": {
      "text/plain": [
       "'contact[ @ ]atlanpolebiotherapies.fr'"
      ]
     },
     "metadata": {},
     "output_type": "display_data"
    },
    {
     "name": "stdout",
     "output_type": "stream",
     "text": [
      "******************************************************************************************************************************************************\n"
     ]
    },
    {
     "data": {
      "text/plain": [
       "['Tél : 02 40 25 13 99', 'contact[ @ ]atlanpolebiotherapies.fr']"
      ]
     },
     "metadata": {},
     "output_type": "display_data"
    },
    {
     "name": "stdout",
     "output_type": "stream",
     "text": [
      "^^^^^^^^^^^^^^^^^^^^^^^^^^^^^^^^^^^^^^^^^^^^^^^^^^^^^^^^^^^^^^^^^^^^^^^^^^^^^^^^^^^^^^^^^^^^^^^^^^^^\n"
     ]
    },
    {
     "data": {
      "text/plain": [
       "'Tél : 02 40 25 13 99'"
      ]
     },
     "metadata": {},
     "output_type": "display_data"
    },
    {
     "data": {
      "text/plain": [
       "'contact[ @ ]atlanpolebiotherapies.fr'"
      ]
     },
     "metadata": {},
     "output_type": "display_data"
    },
    {
     "name": "stdout",
     "output_type": "stream",
     "text": [
      "******************************************************************************************************************************************************\n"
     ]
    },
    {
     "data": {
      "text/plain": [
       "['Tél : 02 40 25 13 99', 'contact[ @ ]atlanpolebiotherapies.fr']"
      ]
     },
     "metadata": {},
     "output_type": "display_data"
    },
    {
     "name": "stdout",
     "output_type": "stream",
     "text": [
      "^^^^^^^^^^^^^^^^^^^^^^^^^^^^^^^^^^^^^^^^^^^^^^^^^^^^^^^^^^^^^^^^^^^^^^^^^^^^^^^^^^^^^^^^^^^^^^^^^^^^\n"
     ]
    },
    {
     "data": {
      "text/plain": [
       "'Tél : 02 40 25 13 99'"
      ]
     },
     "metadata": {},
     "output_type": "display_data"
    },
    {
     "data": {
      "text/plain": [
       "'contact[ @ ]atlanpolebiotherapies.fr'"
      ]
     },
     "metadata": {},
     "output_type": "display_data"
    },
    {
     "name": "stdout",
     "output_type": "stream",
     "text": [
      "******************************************************************************************************************************************************\n"
     ]
    },
    {
     "data": {
      "text/plain": [
       "['Tél : 02 40 25 13 99', 'contact[ @ ]atlanpolebiotherapies.fr']"
      ]
     },
     "metadata": {},
     "output_type": "display_data"
    },
    {
     "name": "stdout",
     "output_type": "stream",
     "text": [
      "^^^^^^^^^^^^^^^^^^^^^^^^^^^^^^^^^^^^^^^^^^^^^^^^^^^^^^^^^^^^^^^^^^^^^^^^^^^^^^^^^^^^^^^^^^^^^^^^^^^^\n"
     ]
    },
    {
     "data": {
      "text/plain": [
       "'Tél : 02 40 25 13 99'"
      ]
     },
     "metadata": {},
     "output_type": "display_data"
    },
    {
     "data": {
      "text/plain": [
       "'contact[ @ ]atlanpolebiotherapies.fr'"
      ]
     },
     "metadata": {},
     "output_type": "display_data"
    },
    {
     "name": "stdout",
     "output_type": "stream",
     "text": [
      "******************************************************************************************************************************************************\n"
     ]
    },
    {
     "data": {
      "text/plain": [
       "['Tél : 02 40 25 13 99', 'contact[ @ ]atlanpolebiotherapies.fr']"
      ]
     },
     "metadata": {},
     "output_type": "display_data"
    },
    {
     "name": "stdout",
     "output_type": "stream",
     "text": [
      "^^^^^^^^^^^^^^^^^^^^^^^^^^^^^^^^^^^^^^^^^^^^^^^^^^^^^^^^^^^^^^^^^^^^^^^^^^^^^^^^^^^^^^^^^^^^^^^^^^^^\n"
     ]
    },
    {
     "data": {
      "text/plain": [
       "'Tél : 02 40 25 13 99'"
      ]
     },
     "metadata": {},
     "output_type": "display_data"
    },
    {
     "data": {
      "text/plain": [
       "'contact[ @ ]atlanpolebiotherapies.fr'"
      ]
     },
     "metadata": {},
     "output_type": "display_data"
    },
    {
     "name": "stdout",
     "output_type": "stream",
     "text": [
      "******************************************************************************************************************************************************\n"
     ]
    },
    {
     "data": {
      "text/plain": [
       "['PÔLE AVENIA',\n",
       " 'Hélioparc - 2 Avenue Pierre ANGOT',\n",
       " '64053 PAU cedex 9',\n",
       " '05 59 84 81 10 / contact[ @ ]pole-avenia.com']"
      ]
     },
     "metadata": {},
     "output_type": "display_data"
    },
    {
     "name": "stdout",
     "output_type": "stream",
     "text": [
      "^^^^^^^^^^^^^^^^^^^^^^^^^^^^^^^^^^^^^^^^^^^^^^^^^^^^^^^^^^^^^^^^^^^^^^^^^^^^^^^^^^^^^^^^^^^^^^^^^^^^\n"
     ]
    },
    {
     "data": {
      "text/plain": [
       "'05 59 84 81 10'"
      ]
     },
     "metadata": {},
     "output_type": "display_data"
    },
    {
     "data": {
      "text/plain": [
       "'contact[ @ ]pole-avenia.com'"
      ]
     },
     "metadata": {},
     "output_type": "display_data"
    },
    {
     "name": "stdout",
     "output_type": "stream",
     "text": [
      "******************************************************************************************************************************************************\n"
     ]
    },
    {
     "data": {
      "text/plain": [
       "['PÔLE AVENIA',\n",
       " 'Hélioparc - 2 Avenue Pierre ANGOT',\n",
       " '64053 PAU cedex 9',\n",
       " '05 59 84 81 10 / contact[ @ ]pole-avenia.com']"
      ]
     },
     "metadata": {},
     "output_type": "display_data"
    },
    {
     "name": "stdout",
     "output_type": "stream",
     "text": [
      "^^^^^^^^^^^^^^^^^^^^^^^^^^^^^^^^^^^^^^^^^^^^^^^^^^^^^^^^^^^^^^^^^^^^^^^^^^^^^^^^^^^^^^^^^^^^^^^^^^^^\n"
     ]
    },
    {
     "data": {
      "text/plain": [
       "'05 59 84 81 10'"
      ]
     },
     "metadata": {},
     "output_type": "display_data"
    },
    {
     "data": {
      "text/plain": [
       "'contact[ @ ]pole-avenia.com'"
      ]
     },
     "metadata": {},
     "output_type": "display_data"
    },
    {
     "name": "stdout",
     "output_type": "stream",
     "text": [
      "******************************************************************************************************************************************************\n"
     ]
    },
    {
     "data": {
      "text/plain": [
       "['AXELERA',\n",
       " 'Rond-point de l’échangeur - Les Levées',\n",
       " '69360 Solaize',\n",
       " '+33 (0)4 28 27 04 83 / info[ @ ]axelera.org',\n",
       " 'Page de contact']"
      ]
     },
     "metadata": {},
     "output_type": "display_data"
    },
    {
     "name": "stdout",
     "output_type": "stream",
     "text": [
      "^^^^^^^^^^^^^^^^^^^^^^^^^^^^^^^^^^^^^^^^^^^^^^^^^^^^^^^^^^^^^^^^^^^^^^^^^^^^^^^^^^^^^^^^^^^^^^^^^^^^\n"
     ]
    },
    {
     "data": {
      "text/plain": [
       "'+33 (0)4 28 27 04 83'"
      ]
     },
     "metadata": {},
     "output_type": "display_data"
    },
    {
     "data": {
      "text/plain": [
       "'info[ @ ]axelera.org'"
      ]
     },
     "metadata": {},
     "output_type": "display_data"
    },
    {
     "name": "stdout",
     "output_type": "stream",
     "text": [
      "******************************************************************************************************************************************************\n"
     ]
    },
    {
     "data": {
      "text/plain": [
       "['AXELERA',\n",
       " 'Rond-point de l’échangeur - Les Levées',\n",
       " '69360 Solaize',\n",
       " '+33 (0)4 28 27 04 83 / info[ @ ]axelera.org',\n",
       " 'Page de contact']"
      ]
     },
     "metadata": {},
     "output_type": "display_data"
    },
    {
     "name": "stdout",
     "output_type": "stream",
     "text": [
      "^^^^^^^^^^^^^^^^^^^^^^^^^^^^^^^^^^^^^^^^^^^^^^^^^^^^^^^^^^^^^^^^^^^^^^^^^^^^^^^^^^^^^^^^^^^^^^^^^^^^\n"
     ]
    },
    {
     "data": {
      "text/plain": [
       "'+33 (0)4 28 27 04 83'"
      ]
     },
     "metadata": {},
     "output_type": "display_data"
    },
    {
     "data": {
      "text/plain": [
       "'info[ @ ]axelera.org'"
      ]
     },
     "metadata": {},
     "output_type": "display_data"
    },
    {
     "name": "stdout",
     "output_type": "stream",
     "text": [
      "******************************************************************************************************************************************************\n"
     ]
    },
    {
     "data": {
      "text/plain": [
       "['AXELERA',\n",
       " 'Rond-point de l’échangeur - Les Levées',\n",
       " '69360 Solaize',\n",
       " '+33 (0)4 28 27 04 83 / info[ @ ]axelera.org',\n",
       " 'Page de contact']"
      ]
     },
     "metadata": {},
     "output_type": "display_data"
    },
    {
     "name": "stdout",
     "output_type": "stream",
     "text": [
      "^^^^^^^^^^^^^^^^^^^^^^^^^^^^^^^^^^^^^^^^^^^^^^^^^^^^^^^^^^^^^^^^^^^^^^^^^^^^^^^^^^^^^^^^^^^^^^^^^^^^\n"
     ]
    },
    {
     "data": {
      "text/plain": [
       "'+33 (0)4 28 27 04 83'"
      ]
     },
     "metadata": {},
     "output_type": "display_data"
    },
    {
     "data": {
      "text/plain": [
       "'info[ @ ]axelera.org'"
      ]
     },
     "metadata": {},
     "output_type": "display_data"
    },
    {
     "name": "stdout",
     "output_type": "stream",
     "text": [
      "******************************************************************************************************************************************************\n"
     ]
    },
    {
     "data": {
      "text/plain": [
       "['AXELERA',\n",
       " 'Rond-point de l’échangeur - Les Levées',\n",
       " '69360 Solaize',\n",
       " '+33 (0)4 28 27 04 83 / info[ @ ]axelera.org',\n",
       " 'Page de contact']"
      ]
     },
     "metadata": {},
     "output_type": "display_data"
    },
    {
     "name": "stdout",
     "output_type": "stream",
     "text": [
      "^^^^^^^^^^^^^^^^^^^^^^^^^^^^^^^^^^^^^^^^^^^^^^^^^^^^^^^^^^^^^^^^^^^^^^^^^^^^^^^^^^^^^^^^^^^^^^^^^^^^\n"
     ]
    },
    {
     "data": {
      "text/plain": [
       "'+33 (0)4 28 27 04 83'"
      ]
     },
     "metadata": {},
     "output_type": "display_data"
    },
    {
     "data": {
      "text/plain": [
       "'info[ @ ]axelera.org'"
      ]
     },
     "metadata": {},
     "output_type": "display_data"
    },
    {
     "name": "stdout",
     "output_type": "stream",
     "text": [
      "******************************************************************************************************************************************************\n"
     ]
    },
    {
     "data": {
      "text/plain": [
       "['AXELERA',\n",
       " 'Rond-point de l’échangeur - Les Levées',\n",
       " '69360 Solaize',\n",
       " '+33 (0)4 28 27 04 83 / info[ @ ]axelera.org',\n",
       " 'Page de contact']"
      ]
     },
     "metadata": {},
     "output_type": "display_data"
    },
    {
     "name": "stdout",
     "output_type": "stream",
     "text": [
      "^^^^^^^^^^^^^^^^^^^^^^^^^^^^^^^^^^^^^^^^^^^^^^^^^^^^^^^^^^^^^^^^^^^^^^^^^^^^^^^^^^^^^^^^^^^^^^^^^^^^\n"
     ]
    },
    {
     "data": {
      "text/plain": [
       "'+33 (0)4 28 27 04 83'"
      ]
     },
     "metadata": {},
     "output_type": "display_data"
    },
    {
     "data": {
      "text/plain": [
       "'info[ @ ]axelera.org'"
      ]
     },
     "metadata": {},
     "output_type": "display_data"
    },
    {
     "name": "stdout",
     "output_type": "stream",
     "text": [
      "******************************************************************************************************************************************************\n"
     ]
    },
    {
     "data": {
      "text/plain": [
       "['Pôle de compétitivité Bioeconomy For Change (B4C)',\n",
       " '10 rue Pierre Gilles de Gennes',\n",
       " '02 000 Barenton-Bugny',\n",
       " '03 64 54 30 30 / contact[ @ ]bioeconomyforchange.eu']"
      ]
     },
     "metadata": {},
     "output_type": "display_data"
    },
    {
     "name": "stdout",
     "output_type": "stream",
     "text": [
      "^^^^^^^^^^^^^^^^^^^^^^^^^^^^^^^^^^^^^^^^^^^^^^^^^^^^^^^^^^^^^^^^^^^^^^^^^^^^^^^^^^^^^^^^^^^^^^^^^^^^\n"
     ]
    },
    {
     "data": {
      "text/plain": [
       "'03 64 54 30 30'"
      ]
     },
     "metadata": {},
     "output_type": "display_data"
    },
    {
     "data": {
      "text/plain": [
       "'contact[ @ ]bioeconomyforchange.eu'"
      ]
     },
     "metadata": {},
     "output_type": "display_data"
    },
    {
     "name": "stdout",
     "output_type": "stream",
     "text": [
      "******************************************************************************************************************************************************\n"
     ]
    },
    {
     "data": {
      "text/plain": [
       "['Pôle de compétitivité Bioeconomy For Change (B4C)',\n",
       " '10 rue Pierre Gilles de Gennes',\n",
       " '02 000 Barenton-Bugny',\n",
       " '03 64 54 30 30 / contact[ @ ]bioeconomyforchange.eu']"
      ]
     },
     "metadata": {},
     "output_type": "display_data"
    },
    {
     "name": "stdout",
     "output_type": "stream",
     "text": [
      "^^^^^^^^^^^^^^^^^^^^^^^^^^^^^^^^^^^^^^^^^^^^^^^^^^^^^^^^^^^^^^^^^^^^^^^^^^^^^^^^^^^^^^^^^^^^^^^^^^^^\n"
     ]
    },
    {
     "data": {
      "text/plain": [
       "'03 64 54 30 30'"
      ]
     },
     "metadata": {},
     "output_type": "display_data"
    },
    {
     "data": {
      "text/plain": [
       "'contact[ @ ]bioeconomyforchange.eu'"
      ]
     },
     "metadata": {},
     "output_type": "display_data"
    },
    {
     "name": "stdout",
     "output_type": "stream",
     "text": [
      "******************************************************************************************************************************************************\n"
     ]
    },
    {
     "data": {
      "text/plain": [
       "['BioValley France',\n",
       " '550 bd Gonthier d’Andernach',\n",
       " '67400 Illkirch-Graffenstaden',\n",
       " '03 90 40 30 00',\n",
       " 'contact[ @ ]biovalley-france.com / innovation[ @ ]biovalley-france.com']"
      ]
     },
     "metadata": {},
     "output_type": "display_data"
    },
    {
     "name": "stdout",
     "output_type": "stream",
     "text": [
      "^^^^^^^^^^^^^^^^^^^^^^^^^^^^^^^^^^^^^^^^^^^^^^^^^^^^^^^^^^^^^^^^^^^^^^^^^^^^^^^^^^^^^^^^^^^^^^^^^^^^\n"
     ]
    },
    {
     "data": {
      "text/plain": [
       "'03 90 40 30 00'"
      ]
     },
     "metadata": {},
     "output_type": "display_data"
    },
    {
     "data": {
      "text/plain": [
       "'contact[ @ ]biovalley-france.com / innovation[ @ ]biovalley-france.com'"
      ]
     },
     "metadata": {},
     "output_type": "display_data"
    },
    {
     "name": "stdout",
     "output_type": "stream",
     "text": [
      "******************************************************************************************************************************************************\n"
     ]
    },
    {
     "data": {
      "text/plain": [
       "['BioValley France',\n",
       " '550 bd Gonthier d’Andernach',\n",
       " '67400 Illkirch-Graffenstaden',\n",
       " '03 90 40 30 00',\n",
       " 'contact[ @ ]biovalley-france.com / innovation[ @ ]biovalley-france.com']"
      ]
     },
     "metadata": {},
     "output_type": "display_data"
    },
    {
     "name": "stdout",
     "output_type": "stream",
     "text": [
      "^^^^^^^^^^^^^^^^^^^^^^^^^^^^^^^^^^^^^^^^^^^^^^^^^^^^^^^^^^^^^^^^^^^^^^^^^^^^^^^^^^^^^^^^^^^^^^^^^^^^\n"
     ]
    },
    {
     "data": {
      "text/plain": [
       "'03 90 40 30 00'"
      ]
     },
     "metadata": {},
     "output_type": "display_data"
    },
    {
     "data": {
      "text/plain": [
       "'contact[ @ ]biovalley-france.com / innovation[ @ ]biovalley-france.com'"
      ]
     },
     "metadata": {},
     "output_type": "display_data"
    },
    {
     "name": "stdout",
     "output_type": "stream",
     "text": [
      "******************************************************************************************************************************************************\n"
     ]
    },
    {
     "data": {
      "text/plain": [
       "['BioValley France',\n",
       " '550 bd Gonthier d’Andernach',\n",
       " '67400 Illkirch-Graffenstaden',\n",
       " '03 90 40 30 00',\n",
       " 'contact[ @ ]biovalley-france.com / innovation[ @ ]biovalley-france.com']"
      ]
     },
     "metadata": {},
     "output_type": "display_data"
    },
    {
     "name": "stdout",
     "output_type": "stream",
     "text": [
      "^^^^^^^^^^^^^^^^^^^^^^^^^^^^^^^^^^^^^^^^^^^^^^^^^^^^^^^^^^^^^^^^^^^^^^^^^^^^^^^^^^^^^^^^^^^^^^^^^^^^\n"
     ]
    },
    {
     "data": {
      "text/plain": [
       "'03 90 40 30 00'"
      ]
     },
     "metadata": {},
     "output_type": "display_data"
    },
    {
     "data": {
      "text/plain": [
       "'contact[ @ ]biovalley-france.com / innovation[ @ ]biovalley-france.com'"
      ]
     },
     "metadata": {},
     "output_type": "display_data"
    },
    {
     "name": "stdout",
     "output_type": "stream",
     "text": [
      "******************************************************************************************************************************************************\n"
     ]
    },
    {
     "data": {
      "text/plain": [
       "['BioValley France',\n",
       " '550 bd Gonthier d’Andernach',\n",
       " '67400 Illkirch-Graffenstaden',\n",
       " '03 90 40 30 00',\n",
       " 'contact[ @ ]biovalley-france.com / innovation[ @ ]biovalley-france.com']"
      ]
     },
     "metadata": {},
     "output_type": "display_data"
    },
    {
     "name": "stdout",
     "output_type": "stream",
     "text": [
      "^^^^^^^^^^^^^^^^^^^^^^^^^^^^^^^^^^^^^^^^^^^^^^^^^^^^^^^^^^^^^^^^^^^^^^^^^^^^^^^^^^^^^^^^^^^^^^^^^^^^\n"
     ]
    },
    {
     "data": {
      "text/plain": [
       "'03 90 40 30 00'"
      ]
     },
     "metadata": {},
     "output_type": "display_data"
    },
    {
     "data": {
      "text/plain": [
       "'contact[ @ ]biovalley-france.com / innovation[ @ ]biovalley-france.com'"
      ]
     },
     "metadata": {},
     "output_type": "display_data"
    },
    {
     "name": "stdout",
     "output_type": "stream",
     "text": [
      "******************************************************************************************************************************************************\n"
     ]
    },
    {
     "data": {
      "text/plain": [
       "['BioValley France',\n",
       " '550 bd Gonthier d’Andernach',\n",
       " '67400 Illkirch-Graffenstaden',\n",
       " '03 90 40 30 00',\n",
       " 'contact[ @ ]biovalley-france.com / innovation[ @ ]biovalley-france.com']"
      ]
     },
     "metadata": {},
     "output_type": "display_data"
    },
    {
     "name": "stdout",
     "output_type": "stream",
     "text": [
      "^^^^^^^^^^^^^^^^^^^^^^^^^^^^^^^^^^^^^^^^^^^^^^^^^^^^^^^^^^^^^^^^^^^^^^^^^^^^^^^^^^^^^^^^^^^^^^^^^^^^\n"
     ]
    },
    {
     "data": {
      "text/plain": [
       "'03 90 40 30 00'"
      ]
     },
     "metadata": {},
     "output_type": "display_data"
    },
    {
     "data": {
      "text/plain": [
       "'contact[ @ ]biovalley-france.com / innovation[ @ ]biovalley-france.com'"
      ]
     },
     "metadata": {},
     "output_type": "display_data"
    },
    {
     "name": "stdout",
     "output_type": "stream",
     "text": [
      "******************************************************************************************************************************************************\n"
     ]
    },
    {
     "data": {
      "text/plain": [
       "['Grand-Est']"
      ]
     },
     "metadata": {},
     "output_type": "display_data"
    },
    {
     "name": "stdout",
     "output_type": "stream",
     "text": [
      "^^^^^^^^^^^^^^^^^^^^^^^^^^^^^^^^^^^^^^^^^^^^^^^^^^^^^^^^^^^^^^^^^^^^^^^^^^^^^^^^^^^^^^^^^^^^^^^^^^^^\n"
     ]
    },
    {
     "data": {
      "text/plain": [
       "''"
      ]
     },
     "metadata": {},
     "output_type": "display_data"
    },
    {
     "data": {
      "text/plain": [
       "''"
      ]
     },
     "metadata": {},
     "output_type": "display_data"
    },
    {
     "name": "stdout",
     "output_type": "stream",
     "text": [
      "******************************************************************************************************************************************************\n"
     ]
    },
    {
     "data": {
      "text/plain": [
       "['Grand-Est']"
      ]
     },
     "metadata": {},
     "output_type": "display_data"
    },
    {
     "name": "stdout",
     "output_type": "stream",
     "text": [
      "^^^^^^^^^^^^^^^^^^^^^^^^^^^^^^^^^^^^^^^^^^^^^^^^^^^^^^^^^^^^^^^^^^^^^^^^^^^^^^^^^^^^^^^^^^^^^^^^^^^^\n"
     ]
    },
    {
     "data": {
      "text/plain": [
       "''"
      ]
     },
     "metadata": {},
     "output_type": "display_data"
    },
    {
     "data": {
      "text/plain": [
       "''"
      ]
     },
     "metadata": {},
     "output_type": "display_data"
    },
    {
     "name": "stdout",
     "output_type": "stream",
     "text": [
      "******************************************************************************************************************************************************\n"
     ]
    },
    {
     "data": {
      "text/plain": [
       "['Grand-Est']"
      ]
     },
     "metadata": {},
     "output_type": "display_data"
    },
    {
     "name": "stdout",
     "output_type": "stream",
     "text": [
      "^^^^^^^^^^^^^^^^^^^^^^^^^^^^^^^^^^^^^^^^^^^^^^^^^^^^^^^^^^^^^^^^^^^^^^^^^^^^^^^^^^^^^^^^^^^^^^^^^^^^\n"
     ]
    },
    {
     "data": {
      "text/plain": [
       "''"
      ]
     },
     "metadata": {},
     "output_type": "display_data"
    },
    {
     "data": {
      "text/plain": [
       "''"
      ]
     },
     "metadata": {},
     "output_type": "display_data"
    },
    {
     "name": "stdout",
     "output_type": "stream",
     "text": [
      "******************************************************************************************************************************************************\n"
     ]
    },
    {
     "data": {
      "text/plain": [
       "['Grand-Est']"
      ]
     },
     "metadata": {},
     "output_type": "display_data"
    },
    {
     "name": "stdout",
     "output_type": "stream",
     "text": [
      "^^^^^^^^^^^^^^^^^^^^^^^^^^^^^^^^^^^^^^^^^^^^^^^^^^^^^^^^^^^^^^^^^^^^^^^^^^^^^^^^^^^^^^^^^^^^^^^^^^^^\n"
     ]
    },
    {
     "data": {
      "text/plain": [
       "''"
      ]
     },
     "metadata": {},
     "output_type": "display_data"
    },
    {
     "data": {
      "text/plain": [
       "''"
      ]
     },
     "metadata": {},
     "output_type": "display_data"
    },
    {
     "name": "stdout",
     "output_type": "stream",
     "text": [
      "******************************************************************************************************************************************************\n"
     ]
    },
    {
     "data": {
      "text/plain": [
       "['Grand-Est']"
      ]
     },
     "metadata": {},
     "output_type": "display_data"
    },
    {
     "name": "stdout",
     "output_type": "stream",
     "text": [
      "^^^^^^^^^^^^^^^^^^^^^^^^^^^^^^^^^^^^^^^^^^^^^^^^^^^^^^^^^^^^^^^^^^^^^^^^^^^^^^^^^^^^^^^^^^^^^^^^^^^^\n"
     ]
    },
    {
     "data": {
      "text/plain": [
       "''"
      ]
     },
     "metadata": {},
     "output_type": "display_data"
    },
    {
     "data": {
      "text/plain": [
       "''"
      ]
     },
     "metadata": {},
     "output_type": "display_data"
    },
    {
     "name": "stdout",
     "output_type": "stream",
     "text": [
      "******************************************************************************************************************************************************\n"
     ]
    },
    {
     "data": {
      "text/plain": [
       "['CAP DIGITAL',\n",
       " '14 rue Alexandre Parodi',\n",
       " '75010 Paris',\n",
       " '01 82 73 13 50 / contact[ @ ]capdigital.com']"
      ]
     },
     "metadata": {},
     "output_type": "display_data"
    },
    {
     "name": "stdout",
     "output_type": "stream",
     "text": [
      "^^^^^^^^^^^^^^^^^^^^^^^^^^^^^^^^^^^^^^^^^^^^^^^^^^^^^^^^^^^^^^^^^^^^^^^^^^^^^^^^^^^^^^^^^^^^^^^^^^^^\n"
     ]
    },
    {
     "data": {
      "text/plain": [
       "'01 82 73 13 50'"
      ]
     },
     "metadata": {},
     "output_type": "display_data"
    },
    {
     "data": {
      "text/plain": [
       "'contact[ @ ]capdigital.com'"
      ]
     },
     "metadata": {},
     "output_type": "display_data"
    },
    {
     "name": "stdout",
     "output_type": "stream",
     "text": [
      "******************************************************************************************************************************************************\n"
     ]
    },
    {
     "data": {
      "text/plain": [
       "['CAP DIGITAL',\n",
       " '14 rue Alexandre Parodi',\n",
       " '75010 Paris',\n",
       " '01 82 73 13 50 / contact[ @ ]capdigital.com']"
      ]
     },
     "metadata": {},
     "output_type": "display_data"
    },
    {
     "name": "stdout",
     "output_type": "stream",
     "text": [
      "^^^^^^^^^^^^^^^^^^^^^^^^^^^^^^^^^^^^^^^^^^^^^^^^^^^^^^^^^^^^^^^^^^^^^^^^^^^^^^^^^^^^^^^^^^^^^^^^^^^^\n"
     ]
    },
    {
     "data": {
      "text/plain": [
       "'01 82 73 13 50'"
      ]
     },
     "metadata": {},
     "output_type": "display_data"
    },
    {
     "data": {
      "text/plain": [
       "'contact[ @ ]capdigital.com'"
      ]
     },
     "metadata": {},
     "output_type": "display_data"
    },
    {
     "name": "stdout",
     "output_type": "stream",
     "text": [
      "******************************************************************************************************************************************************\n"
     ]
    },
    {
     "data": {
      "text/plain": [
       "['CAP DIGITAL',\n",
       " '14 rue Alexandre Parodi',\n",
       " '75010 Paris',\n",
       " '01 82 73 13 50 / contact[ @ ]capdigital.com']"
      ]
     },
     "metadata": {},
     "output_type": "display_data"
    },
    {
     "name": "stdout",
     "output_type": "stream",
     "text": [
      "^^^^^^^^^^^^^^^^^^^^^^^^^^^^^^^^^^^^^^^^^^^^^^^^^^^^^^^^^^^^^^^^^^^^^^^^^^^^^^^^^^^^^^^^^^^^^^^^^^^^\n"
     ]
    },
    {
     "data": {
      "text/plain": [
       "'01 82 73 13 50'"
      ]
     },
     "metadata": {},
     "output_type": "display_data"
    },
    {
     "data": {
      "text/plain": [
       "'contact[ @ ]capdigital.com'"
      ]
     },
     "metadata": {},
     "output_type": "display_data"
    },
    {
     "name": "stdout",
     "output_type": "stream",
     "text": [
      "******************************************************************************************************************************************************\n"
     ]
    },
    {
     "data": {
      "text/plain": [
       "['Domaine du Petit Arbois, Avenue Louis Philibert',\n",
       " 'Bâtiment Henri Poincaré',\n",
       " '13547 - Aix-en-Provence   Cedex 4 - CS30658',\n",
       " '+33 4 84 30 05 70 / contact@capenergies.fr']"
      ]
     },
     "metadata": {},
     "output_type": "display_data"
    },
    {
     "name": "stdout",
     "output_type": "stream",
     "text": [
      "^^^^^^^^^^^^^^^^^^^^^^^^^^^^^^^^^^^^^^^^^^^^^^^^^^^^^^^^^^^^^^^^^^^^^^^^^^^^^^^^^^^^^^^^^^^^^^^^^^^^\n"
     ]
    },
    {
     "data": {
      "text/plain": [
       "'+33 4 84 30 05 70'"
      ]
     },
     "metadata": {},
     "output_type": "display_data"
    },
    {
     "data": {
      "text/plain": [
       "'contact@capenergies.fr'"
      ]
     },
     "metadata": {},
     "output_type": "display_data"
    },
    {
     "name": "stdout",
     "output_type": "stream",
     "text": [
      "******************************************************************************************************************************************************\n"
     ]
    },
    {
     "data": {
      "text/plain": [
       "['Domaine du Petit Arbois, Avenue Louis Philibert',\n",
       " 'Bâtiment Henri Poincaré',\n",
       " '13547 - Aix-en-Provence   Cedex 4 - CS30658',\n",
       " '+33 4 84 30 05 70 / contact@capenergies.fr']"
      ]
     },
     "metadata": {},
     "output_type": "display_data"
    },
    {
     "name": "stdout",
     "output_type": "stream",
     "text": [
      "^^^^^^^^^^^^^^^^^^^^^^^^^^^^^^^^^^^^^^^^^^^^^^^^^^^^^^^^^^^^^^^^^^^^^^^^^^^^^^^^^^^^^^^^^^^^^^^^^^^^\n"
     ]
    },
    {
     "data": {
      "text/plain": [
       "'+33 4 84 30 05 70'"
      ]
     },
     "metadata": {},
     "output_type": "display_data"
    },
    {
     "data": {
      "text/plain": [
       "'contact@capenergies.fr'"
      ]
     },
     "metadata": {},
     "output_type": "display_data"
    },
    {
     "name": "stdout",
     "output_type": "stream",
     "text": [
      "******************************************************************************************************************************************************\n"
     ]
    },
    {
     "data": {
      "text/plain": [
       "['Domaine du Petit Arbois, Avenue Louis Philibert',\n",
       " 'Bâtiment Henri Poincaré',\n",
       " '13547 - Aix-en-Provence   Cedex 4 - CS30658',\n",
       " '+33 4 84 30 05 70 / contact@capenergies.fr']"
      ]
     },
     "metadata": {},
     "output_type": "display_data"
    },
    {
     "name": "stdout",
     "output_type": "stream",
     "text": [
      "^^^^^^^^^^^^^^^^^^^^^^^^^^^^^^^^^^^^^^^^^^^^^^^^^^^^^^^^^^^^^^^^^^^^^^^^^^^^^^^^^^^^^^^^^^^^^^^^^^^^\n"
     ]
    },
    {
     "data": {
      "text/plain": [
       "'+33 4 84 30 05 70'"
      ]
     },
     "metadata": {},
     "output_type": "display_data"
    },
    {
     "data": {
      "text/plain": [
       "'contact@capenergies.fr'"
      ]
     },
     "metadata": {},
     "output_type": "display_data"
    },
    {
     "name": "stdout",
     "output_type": "stream",
     "text": [
      "******************************************************************************************************************************************************\n"
     ]
    },
    {
     "data": {
      "text/plain": [
       "['Domaine du Petit Arbois, Avenue Louis Philibert',\n",
       " 'Bâtiment Henri Poincaré',\n",
       " '13547 - Aix-en-Provence   Cedex 4 - CS30658',\n",
       " '+33 4 84 30 05 70 / contact@capenergies.fr']"
      ]
     },
     "metadata": {},
     "output_type": "display_data"
    },
    {
     "name": "stdout",
     "output_type": "stream",
     "text": [
      "^^^^^^^^^^^^^^^^^^^^^^^^^^^^^^^^^^^^^^^^^^^^^^^^^^^^^^^^^^^^^^^^^^^^^^^^^^^^^^^^^^^^^^^^^^^^^^^^^^^^\n"
     ]
    },
    {
     "data": {
      "text/plain": [
       "'+33 4 84 30 05 70'"
      ]
     },
     "metadata": {},
     "output_type": "display_data"
    },
    {
     "data": {
      "text/plain": [
       "'contact@capenergies.fr'"
      ]
     },
     "metadata": {},
     "output_type": "display_data"
    },
    {
     "name": "stdout",
     "output_type": "stream",
     "text": [
      "******************************************************************************************************************************************************\n"
     ]
    },
    {
     "data": {
      "text/plain": [
       "['Domaine du Petit Arbois, Avenue Louis Philibert',\n",
       " 'Bâtiment Henri Poincaré',\n",
       " '13547 - Aix-en-Provence   Cedex 4 - CS30658',\n",
       " '+33 4 84 30 05 70 / contact@capenergies.fr']"
      ]
     },
     "metadata": {},
     "output_type": "display_data"
    },
    {
     "name": "stdout",
     "output_type": "stream",
     "text": [
      "^^^^^^^^^^^^^^^^^^^^^^^^^^^^^^^^^^^^^^^^^^^^^^^^^^^^^^^^^^^^^^^^^^^^^^^^^^^^^^^^^^^^^^^^^^^^^^^^^^^^\n"
     ]
    },
    {
     "data": {
      "text/plain": [
       "'+33 4 84 30 05 70'"
      ]
     },
     "metadata": {},
     "output_type": "display_data"
    },
    {
     "data": {
      "text/plain": [
       "'contact@capenergies.fr'"
      ]
     },
     "metadata": {},
     "output_type": "display_data"
    },
    {
     "name": "stdout",
     "output_type": "stream",
     "text": [
      "******************************************************************************************************************************************************\n"
     ]
    },
    {
     "data": {
      "text/plain": [
       "['Domaine du Petit Arbois, Avenue Louis Philibert',\n",
       " 'Bâtiment Henri Poincaré',\n",
       " '13547 - Aix-en-Provence   Cedex 4 - CS30658',\n",
       " '+33 4 84 30 05 70 / contact@capenergies.fr']"
      ]
     },
     "metadata": {},
     "output_type": "display_data"
    },
    {
     "name": "stdout",
     "output_type": "stream",
     "text": [
      "^^^^^^^^^^^^^^^^^^^^^^^^^^^^^^^^^^^^^^^^^^^^^^^^^^^^^^^^^^^^^^^^^^^^^^^^^^^^^^^^^^^^^^^^^^^^^^^^^^^^\n"
     ]
    },
    {
     "data": {
      "text/plain": [
       "'+33 4 84 30 05 70'"
      ]
     },
     "metadata": {},
     "output_type": "display_data"
    },
    {
     "data": {
      "text/plain": [
       "'contact@capenergies.fr'"
      ]
     },
     "metadata": {},
     "output_type": "display_data"
    },
    {
     "name": "stdout",
     "output_type": "stream",
     "text": [
      "******************************************************************************************************************************************************\n"
     ]
    },
    {
     "data": {
      "text/plain": [
       "['Domaine du Petit Arbois, Avenue Louis Philibert',\n",
       " 'Bâtiment Henri Poincaré',\n",
       " '13547 - Aix-en-Provence   Cedex 4 - CS30658',\n",
       " '+33 4 84 30 05 70 / contact@capenergies.fr']"
      ]
     },
     "metadata": {},
     "output_type": "display_data"
    },
    {
     "name": "stdout",
     "output_type": "stream",
     "text": [
      "^^^^^^^^^^^^^^^^^^^^^^^^^^^^^^^^^^^^^^^^^^^^^^^^^^^^^^^^^^^^^^^^^^^^^^^^^^^^^^^^^^^^^^^^^^^^^^^^^^^^\n"
     ]
    },
    {
     "data": {
      "text/plain": [
       "'+33 4 84 30 05 70'"
      ]
     },
     "metadata": {},
     "output_type": "display_data"
    },
    {
     "data": {
      "text/plain": [
       "'contact@capenergies.fr'"
      ]
     },
     "metadata": {},
     "output_type": "display_data"
    },
    {
     "name": "stdout",
     "output_type": "stream",
     "text": [
      "******************************************************************************************************************************************************\n"
     ]
    },
    {
     "data": {
      "text/plain": [
       "['CARA',\n",
       " '1 boulevard Edmond Michelet',\n",
       " '69008 Lyon',\n",
       " '04 51 08 40 20 / contact[ @ ]cara.eu']"
      ]
     },
     "metadata": {},
     "output_type": "display_data"
    },
    {
     "name": "stdout",
     "output_type": "stream",
     "text": [
      "^^^^^^^^^^^^^^^^^^^^^^^^^^^^^^^^^^^^^^^^^^^^^^^^^^^^^^^^^^^^^^^^^^^^^^^^^^^^^^^^^^^^^^^^^^^^^^^^^^^^\n"
     ]
    },
    {
     "data": {
      "text/plain": [
       "'04 51 08 40 20'"
      ]
     },
     "metadata": {},
     "output_type": "display_data"
    },
    {
     "data": {
      "text/plain": [
       "'contact[ @ ]cara.eu'"
      ]
     },
     "metadata": {},
     "output_type": "display_data"
    },
    {
     "name": "stdout",
     "output_type": "stream",
     "text": [
      "******************************************************************************************************************************************************\n"
     ]
    },
    {
     "data": {
      "text/plain": [
       "['CARA',\n",
       " '1 boulevard Edmond Michelet',\n",
       " '69008 Lyon',\n",
       " '04 51 08 40 20 / contact[ @ ]cara.eu']"
      ]
     },
     "metadata": {},
     "output_type": "display_data"
    },
    {
     "name": "stdout",
     "output_type": "stream",
     "text": [
      "^^^^^^^^^^^^^^^^^^^^^^^^^^^^^^^^^^^^^^^^^^^^^^^^^^^^^^^^^^^^^^^^^^^^^^^^^^^^^^^^^^^^^^^^^^^^^^^^^^^^\n"
     ]
    },
    {
     "data": {
      "text/plain": [
       "'04 51 08 40 20'"
      ]
     },
     "metadata": {},
     "output_type": "display_data"
    },
    {
     "data": {
      "text/plain": [
       "'contact[ @ ]cara.eu'"
      ]
     },
     "metadata": {},
     "output_type": "display_data"
    },
    {
     "name": "stdout",
     "output_type": "stream",
     "text": [
      "******************************************************************************************************************************************************\n"
     ]
    },
    {
     "data": {
      "text/plain": [
       "['CARA',\n",
       " '1 boulevard Edmond Michelet',\n",
       " '69008 Lyon',\n",
       " '04 51 08 40 20 / contact[ @ ]cara.eu']"
      ]
     },
     "metadata": {},
     "output_type": "display_data"
    },
    {
     "name": "stdout",
     "output_type": "stream",
     "text": [
      "^^^^^^^^^^^^^^^^^^^^^^^^^^^^^^^^^^^^^^^^^^^^^^^^^^^^^^^^^^^^^^^^^^^^^^^^^^^^^^^^^^^^^^^^^^^^^^^^^^^^\n"
     ]
    },
    {
     "data": {
      "text/plain": [
       "'04 51 08 40 20'"
      ]
     },
     "metadata": {},
     "output_type": "display_data"
    },
    {
     "data": {
      "text/plain": [
       "'contact[ @ ]cara.eu'"
      ]
     },
     "metadata": {},
     "output_type": "display_data"
    },
    {
     "name": "stdout",
     "output_type": "stream",
     "text": [
      "******************************************************************************************************************************************************\n"
     ]
    },
    {
     "data": {
      "text/plain": [
       "['CARA',\n",
       " '1 boulevard Edmond Michelet',\n",
       " '69008 Lyon',\n",
       " '04 51 08 40 20 / contact[ @ ]cara.eu']"
      ]
     },
     "metadata": {},
     "output_type": "display_data"
    },
    {
     "name": "stdout",
     "output_type": "stream",
     "text": [
      "^^^^^^^^^^^^^^^^^^^^^^^^^^^^^^^^^^^^^^^^^^^^^^^^^^^^^^^^^^^^^^^^^^^^^^^^^^^^^^^^^^^^^^^^^^^^^^^^^^^^\n"
     ]
    },
    {
     "data": {
      "text/plain": [
       "'04 51 08 40 20'"
      ]
     },
     "metadata": {},
     "output_type": "display_data"
    },
    {
     "data": {
      "text/plain": [
       "'contact[ @ ]cara.eu'"
      ]
     },
     "metadata": {},
     "output_type": "display_data"
    },
    {
     "name": "stdout",
     "output_type": "stream",
     "text": [
      "******************************************************************************************************************************************************\n"
     ]
    },
    {
     "data": {
      "text/plain": [
       "['CARA',\n",
       " '1 boulevard Edmond Michelet',\n",
       " '69008 Lyon',\n",
       " '04 51 08 40 20 / contact[ @ ]cara.eu']"
      ]
     },
     "metadata": {},
     "output_type": "display_data"
    },
    {
     "name": "stdout",
     "output_type": "stream",
     "text": [
      "^^^^^^^^^^^^^^^^^^^^^^^^^^^^^^^^^^^^^^^^^^^^^^^^^^^^^^^^^^^^^^^^^^^^^^^^^^^^^^^^^^^^^^^^^^^^^^^^^^^^\n"
     ]
    },
    {
     "data": {
      "text/plain": [
       "'04 51 08 40 20'"
      ]
     },
     "metadata": {},
     "output_type": "display_data"
    },
    {
     "data": {
      "text/plain": [
       "'contact[ @ ]cara.eu'"
      ]
     },
     "metadata": {},
     "output_type": "display_data"
    },
    {
     "name": "stdout",
     "output_type": "stream",
     "text": [
      "******************************************************************************************************************************************************\n"
     ]
    },
    {
     "data": {
      "text/plain": [
       "['CIMES',\n",
       " 'Siège social : CIMES Auvergne-Rhône - c/o Hall 32 - 32 rue du Clos Four - 63 100 Clermont-Ferrand',\n",
       " 'Adresse postale : CIMES Auvergne-Rhône-Alpes c/o ISIMA, 1 rue de la Chebarde, 63 178 Aubière',\n",
       " 'CIMES',\n",
       " '04 73 26 57 38',\n",
       " 'contact[ @ ]cimes-hub.com / projets[ @ ]cimes-hub.com']"
      ]
     },
     "metadata": {},
     "output_type": "display_data"
    },
    {
     "name": "stdout",
     "output_type": "stream",
     "text": [
      "^^^^^^^^^^^^^^^^^^^^^^^^^^^^^^^^^^^^^^^^^^^^^^^^^^^^^^^^^^^^^^^^^^^^^^^^^^^^^^^^^^^^^^^^^^^^^^^^^^^^\n"
     ]
    },
    {
     "data": {
      "text/plain": [
       "'04 73 26 57 38'"
      ]
     },
     "metadata": {},
     "output_type": "display_data"
    },
    {
     "data": {
      "text/plain": [
       "'contact[ @ ]cimes-hub.com / projets[ @ ]cimes-hub.com'"
      ]
     },
     "metadata": {},
     "output_type": "display_data"
    },
    {
     "name": "stdout",
     "output_type": "stream",
     "text": [
      "******************************************************************************************************************************************************\n"
     ]
    },
    {
     "data": {
      "text/plain": [
       "['CIMES',\n",
       " 'Siège social : CIMES Auvergne-Rhône - c/o Hall 32 - 32 rue du Clos Four - 63 100 Clermont-Ferrand',\n",
       " 'Adresse postale : CIMES Auvergne-Rhône-Alpes c/o ISIMA, 1 rue de la Chebarde, 63 178 Aubière',\n",
       " 'CIMES',\n",
       " '04 73 26 57 38',\n",
       " 'contact[ @ ]cimes-hub.com / projets[ @ ]cimes-hub.com']"
      ]
     },
     "metadata": {},
     "output_type": "display_data"
    },
    {
     "name": "stdout",
     "output_type": "stream",
     "text": [
      "^^^^^^^^^^^^^^^^^^^^^^^^^^^^^^^^^^^^^^^^^^^^^^^^^^^^^^^^^^^^^^^^^^^^^^^^^^^^^^^^^^^^^^^^^^^^^^^^^^^^\n"
     ]
    },
    {
     "data": {
      "text/plain": [
       "'04 73 26 57 38'"
      ]
     },
     "metadata": {},
     "output_type": "display_data"
    },
    {
     "data": {
      "text/plain": [
       "'contact[ @ ]cimes-hub.com / projets[ @ ]cimes-hub.com'"
      ]
     },
     "metadata": {},
     "output_type": "display_data"
    },
    {
     "name": "stdout",
     "output_type": "stream",
     "text": [
      "******************************************************************************************************************************************************\n"
     ]
    },
    {
     "data": {
      "text/plain": [
       "['CIMES',\n",
       " 'Siège social : CIMES Auvergne-Rhône - c/o Hall 32 - 32 rue du Clos Four - 63 100 Clermont-Ferrand',\n",
       " 'Adresse postale : CIMES Auvergne-Rhône-Alpes c/o ISIMA, 1 rue de la Chebarde, 63 178 Aubière',\n",
       " 'CIMES',\n",
       " '04 73 26 57 38',\n",
       " 'contact[ @ ]cimes-hub.com / projets[ @ ]cimes-hub.com']"
      ]
     },
     "metadata": {},
     "output_type": "display_data"
    },
    {
     "name": "stdout",
     "output_type": "stream",
     "text": [
      "^^^^^^^^^^^^^^^^^^^^^^^^^^^^^^^^^^^^^^^^^^^^^^^^^^^^^^^^^^^^^^^^^^^^^^^^^^^^^^^^^^^^^^^^^^^^^^^^^^^^\n"
     ]
    },
    {
     "data": {
      "text/plain": [
       "'04 73 26 57 38'"
      ]
     },
     "metadata": {},
     "output_type": "display_data"
    },
    {
     "data": {
      "text/plain": [
       "'contact[ @ ]cimes-hub.com / projets[ @ ]cimes-hub.com'"
      ]
     },
     "metadata": {},
     "output_type": "display_data"
    },
    {
     "name": "stdout",
     "output_type": "stream",
     "text": [
      "******************************************************************************************************************************************************\n"
     ]
    },
    {
     "data": {
      "text/plain": [
       "['CIMES',\n",
       " 'Siège social : CIMES Auvergne-Rhône - c/o Hall 32 - 32 rue du Clos Four - 63 100 Clermont-Ferrand',\n",
       " 'Adresse postale : CIMES Auvergne-Rhône-Alpes c/o ISIMA, 1 rue de la Chebarde, 63 178 Aubière',\n",
       " 'CIMES',\n",
       " '04 73 26 57 38',\n",
       " 'contact[ @ ]cimes-hub.com / projets[ @ ]cimes-hub.com']"
      ]
     },
     "metadata": {},
     "output_type": "display_data"
    },
    {
     "name": "stdout",
     "output_type": "stream",
     "text": [
      "^^^^^^^^^^^^^^^^^^^^^^^^^^^^^^^^^^^^^^^^^^^^^^^^^^^^^^^^^^^^^^^^^^^^^^^^^^^^^^^^^^^^^^^^^^^^^^^^^^^^\n"
     ]
    },
    {
     "data": {
      "text/plain": [
       "'04 73 26 57 38'"
      ]
     },
     "metadata": {},
     "output_type": "display_data"
    },
    {
     "data": {
      "text/plain": [
       "'contact[ @ ]cimes-hub.com / projets[ @ ]cimes-hub.com'"
      ]
     },
     "metadata": {},
     "output_type": "display_data"
    },
    {
     "name": "stdout",
     "output_type": "stream",
     "text": [
      "******************************************************************************************************************************************************\n"
     ]
    },
    {
     "data": {
      "text/plain": [
       "['Clubster NSL',\n",
       " '310 Avenue Eugène Avinée Parc Eurasanté Ouest',\n",
       " '59120 Loos',\n",
       " '03 28 55 90 60 / contact[ @ ]clubster-nsl.com']"
      ]
     },
     "metadata": {},
     "output_type": "display_data"
    },
    {
     "name": "stdout",
     "output_type": "stream",
     "text": [
      "^^^^^^^^^^^^^^^^^^^^^^^^^^^^^^^^^^^^^^^^^^^^^^^^^^^^^^^^^^^^^^^^^^^^^^^^^^^^^^^^^^^^^^^^^^^^^^^^^^^^\n"
     ]
    },
    {
     "data": {
      "text/plain": [
       "'03 28 55 90 60'"
      ]
     },
     "metadata": {},
     "output_type": "display_data"
    },
    {
     "data": {
      "text/plain": [
       "'contact[ @ ]clubster-nsl.com'"
      ]
     },
     "metadata": {},
     "output_type": "display_data"
    },
    {
     "name": "stdout",
     "output_type": "stream",
     "text": [
      "******************************************************************************************************************************************************\n"
     ]
    },
    {
     "data": {
      "text/plain": [
       "['Clubster NSL',\n",
       " '310 Avenue Eugène Avinée Parc Eurasanté Ouest',\n",
       " '59120 Loos',\n",
       " '03 28 55 90 60 / contact[ @ ]clubster-nsl.com']"
      ]
     },
     "metadata": {},
     "output_type": "display_data"
    },
    {
     "name": "stdout",
     "output_type": "stream",
     "text": [
      "^^^^^^^^^^^^^^^^^^^^^^^^^^^^^^^^^^^^^^^^^^^^^^^^^^^^^^^^^^^^^^^^^^^^^^^^^^^^^^^^^^^^^^^^^^^^^^^^^^^^\n"
     ]
    },
    {
     "data": {
      "text/plain": [
       "'03 28 55 90 60'"
      ]
     },
     "metadata": {},
     "output_type": "display_data"
    },
    {
     "data": {
      "text/plain": [
       "'contact[ @ ]clubster-nsl.com'"
      ]
     },
     "metadata": {},
     "output_type": "display_data"
    },
    {
     "name": "stdout",
     "output_type": "stream",
     "text": [
      "******************************************************************************************************************************************************\n"
     ]
    },
    {
     "data": {
      "text/plain": [
       "['Clubster NSL',\n",
       " '310 Avenue Eugène Avinée Parc Eurasanté Ouest',\n",
       " '59120 Loos',\n",
       " '03 28 55 90 60 / contact[ @ ]clubster-nsl.com']"
      ]
     },
     "metadata": {},
     "output_type": "display_data"
    },
    {
     "name": "stdout",
     "output_type": "stream",
     "text": [
      "^^^^^^^^^^^^^^^^^^^^^^^^^^^^^^^^^^^^^^^^^^^^^^^^^^^^^^^^^^^^^^^^^^^^^^^^^^^^^^^^^^^^^^^^^^^^^^^^^^^^\n"
     ]
    },
    {
     "data": {
      "text/plain": [
       "'03 28 55 90 60'"
      ]
     },
     "metadata": {},
     "output_type": "display_data"
    },
    {
     "data": {
      "text/plain": [
       "'contact[ @ ]clubster-nsl.com'"
      ]
     },
     "metadata": {},
     "output_type": "display_data"
    },
    {
     "name": "stdout",
     "output_type": "stream",
     "text": [
      "******************************************************************************************************************************************************\n"
     ]
    },
    {
     "data": {
      "text/plain": [
       "['Cosmetic Valley',\n",
       " '1 place de la cathédrale',\n",
       " '28000 CHARTRES',\n",
       " '02 37 21 12 11 / contact@cosmetic-valley.com']"
      ]
     },
     "metadata": {},
     "output_type": "display_data"
    },
    {
     "name": "stdout",
     "output_type": "stream",
     "text": [
      "^^^^^^^^^^^^^^^^^^^^^^^^^^^^^^^^^^^^^^^^^^^^^^^^^^^^^^^^^^^^^^^^^^^^^^^^^^^^^^^^^^^^^^^^^^^^^^^^^^^^\n"
     ]
    },
    {
     "data": {
      "text/plain": [
       "'02 37 21 12 11'"
      ]
     },
     "metadata": {},
     "output_type": "display_data"
    },
    {
     "data": {
      "text/plain": [
       "'contact@cosmetic-valley.com'"
      ]
     },
     "metadata": {},
     "output_type": "display_data"
    },
    {
     "name": "stdout",
     "output_type": "stream",
     "text": [
      "******************************************************************************************************************************************************\n"
     ]
    },
    {
     "data": {
      "text/plain": [
       "['Cosmetic Valley',\n",
       " '1 place de la cathédrale',\n",
       " '28000 CHARTRES',\n",
       " '02 37 21 12 11 / contact@cosmetic-valley.com']"
      ]
     },
     "metadata": {},
     "output_type": "display_data"
    },
    {
     "name": "stdout",
     "output_type": "stream",
     "text": [
      "^^^^^^^^^^^^^^^^^^^^^^^^^^^^^^^^^^^^^^^^^^^^^^^^^^^^^^^^^^^^^^^^^^^^^^^^^^^^^^^^^^^^^^^^^^^^^^^^^^^^\n"
     ]
    },
    {
     "data": {
      "text/plain": [
       "'02 37 21 12 11'"
      ]
     },
     "metadata": {},
     "output_type": "display_data"
    },
    {
     "data": {
      "text/plain": [
       "'contact@cosmetic-valley.com'"
      ]
     },
     "metadata": {},
     "output_type": "display_data"
    },
    {
     "name": "stdout",
     "output_type": "stream",
     "text": [
      "******************************************************************************************************************************************************\n"
     ]
    },
    {
     "data": {
      "text/plain": [
       "['Pôle de compétitivité DERBI',\n",
       " '52, avenue Paul Alduy',\n",
       " '66860 PERPIGNAN Cedex',\n",
       " 'Tél : 04 68 66 17 96',\n",
       " 'Mail : contact[ @ ]pole-derbi.com']"
      ]
     },
     "metadata": {},
     "output_type": "display_data"
    },
    {
     "name": "stdout",
     "output_type": "stream",
     "text": [
      "^^^^^^^^^^^^^^^^^^^^^^^^^^^^^^^^^^^^^^^^^^^^^^^^^^^^^^^^^^^^^^^^^^^^^^^^^^^^^^^^^^^^^^^^^^^^^^^^^^^^\n"
     ]
    },
    {
     "data": {
      "text/plain": [
       "'Tél : 04 68 66 17 96'"
      ]
     },
     "metadata": {},
     "output_type": "display_data"
    },
    {
     "data": {
      "text/plain": [
       "'Mail : contact[ @ ]pole-derbi.com'"
      ]
     },
     "metadata": {},
     "output_type": "display_data"
    },
    {
     "name": "stdout",
     "output_type": "stream",
     "text": [
      "******************************************************************************************************************************************************\n"
     ]
    },
    {
     "data": {
      "text/plain": [
       "['Pôle de compétitivité DERBI',\n",
       " '52, avenue Paul Alduy',\n",
       " '66860 PERPIGNAN Cedex',\n",
       " 'Tél : 04 68 66 17 96',\n",
       " 'Mail : contact[ @ ]pole-derbi.com']"
      ]
     },
     "metadata": {},
     "output_type": "display_data"
    },
    {
     "name": "stdout",
     "output_type": "stream",
     "text": [
      "^^^^^^^^^^^^^^^^^^^^^^^^^^^^^^^^^^^^^^^^^^^^^^^^^^^^^^^^^^^^^^^^^^^^^^^^^^^^^^^^^^^^^^^^^^^^^^^^^^^^\n"
     ]
    },
    {
     "data": {
      "text/plain": [
       "'Tél : 04 68 66 17 96'"
      ]
     },
     "metadata": {},
     "output_type": "display_data"
    },
    {
     "data": {
      "text/plain": [
       "'Mail : contact[ @ ]pole-derbi.com'"
      ]
     },
     "metadata": {},
     "output_type": "display_data"
    },
    {
     "name": "stdout",
     "output_type": "stream",
     "text": [
      "******************************************************************************************************************************************************\n"
     ]
    },
    {
     "data": {
      "text/plain": [
       "['Pôle EMC2',\n",
       " 'Chemin du Chaffault – 44340 Bouguenais',\n",
       " 'Tél. +33 (0)2 28 44 36 00',\n",
       " 'communication[ @ ]pole-emc2.fr']"
      ]
     },
     "metadata": {},
     "output_type": "display_data"
    },
    {
     "name": "stdout",
     "output_type": "stream",
     "text": [
      "^^^^^^^^^^^^^^^^^^^^^^^^^^^^^^^^^^^^^^^^^^^^^^^^^^^^^^^^^^^^^^^^^^^^^^^^^^^^^^^^^^^^^^^^^^^^^^^^^^^^\n"
     ]
    },
    {
     "data": {
      "text/plain": [
       "'Tél. +33 (0)2 28 44 36 00'"
      ]
     },
     "metadata": {},
     "output_type": "display_data"
    },
    {
     "data": {
      "text/plain": [
       "'communication[ @ ]pole-emc2.fr'"
      ]
     },
     "metadata": {},
     "output_type": "display_data"
    },
    {
     "name": "stdout",
     "output_type": "stream",
     "text": [
      "******************************************************************************************************************************************************\n"
     ]
    },
    {
     "data": {
      "text/plain": [
       "['Pôle EMC2',\n",
       " 'Chemin du Chaffault – 44340 Bouguenais',\n",
       " 'Tél. +33 (0)2 28 44 36 00',\n",
       " 'communication[ @ ]pole-emc2.fr']"
      ]
     },
     "metadata": {},
     "output_type": "display_data"
    },
    {
     "name": "stdout",
     "output_type": "stream",
     "text": [
      "^^^^^^^^^^^^^^^^^^^^^^^^^^^^^^^^^^^^^^^^^^^^^^^^^^^^^^^^^^^^^^^^^^^^^^^^^^^^^^^^^^^^^^^^^^^^^^^^^^^^\n"
     ]
    },
    {
     "data": {
      "text/plain": [
       "'Tél. +33 (0)2 28 44 36 00'"
      ]
     },
     "metadata": {},
     "output_type": "display_data"
    },
    {
     "data": {
      "text/plain": [
       "'communication[ @ ]pole-emc2.fr'"
      ]
     },
     "metadata": {},
     "output_type": "display_data"
    },
    {
     "name": "stdout",
     "output_type": "stream",
     "text": [
      "******************************************************************************************************************************************************\n"
     ]
    },
    {
     "data": {
      "text/plain": [
       "['Pôle EMC2',\n",
       " 'Chemin du Chaffault – 44340 Bouguenais',\n",
       " 'Tél. +33 (0)2 28 44 36 00',\n",
       " 'communication[ @ ]pole-emc2.fr']"
      ]
     },
     "metadata": {},
     "output_type": "display_data"
    },
    {
     "name": "stdout",
     "output_type": "stream",
     "text": [
      "^^^^^^^^^^^^^^^^^^^^^^^^^^^^^^^^^^^^^^^^^^^^^^^^^^^^^^^^^^^^^^^^^^^^^^^^^^^^^^^^^^^^^^^^^^^^^^^^^^^^\n"
     ]
    },
    {
     "data": {
      "text/plain": [
       "'Tél. +33 (0)2 28 44 36 00'"
      ]
     },
     "metadata": {},
     "output_type": "display_data"
    },
    {
     "data": {
      "text/plain": [
       "'communication[ @ ]pole-emc2.fr'"
      ]
     },
     "metadata": {},
     "output_type": "display_data"
    },
    {
     "name": "stdout",
     "output_type": "stream",
     "text": [
      "******************************************************************************************************************************************************\n"
     ]
    },
    {
     "data": {
      "text/plain": [
       "['Pôle EMC2',\n",
       " 'Chemin du Chaffault – 44340 Bouguenais',\n",
       " 'Tél. +33 (0)2 28 44 36 00',\n",
       " 'communication[ @ ]pole-emc2.fr']"
      ]
     },
     "metadata": {},
     "output_type": "display_data"
    },
    {
     "name": "stdout",
     "output_type": "stream",
     "text": [
      "^^^^^^^^^^^^^^^^^^^^^^^^^^^^^^^^^^^^^^^^^^^^^^^^^^^^^^^^^^^^^^^^^^^^^^^^^^^^^^^^^^^^^^^^^^^^^^^^^^^^\n"
     ]
    },
    {
     "data": {
      "text/plain": [
       "'Tél. +33 (0)2 28 44 36 00'"
      ]
     },
     "metadata": {},
     "output_type": "display_data"
    },
    {
     "data": {
      "text/plain": [
       "'communication[ @ ]pole-emc2.fr'"
      ]
     },
     "metadata": {},
     "output_type": "display_data"
    },
    {
     "name": "stdout",
     "output_type": "stream",
     "text": [
      "******************************************************************************************************************************************************\n"
     ]
    },
    {
     "data": {
      "text/plain": [
       "['Pôle EMC2',\n",
       " 'Chemin du Chaffault – 44340 Bouguenais',\n",
       " 'Tél. +33 (0)2 28 44 36 00',\n",
       " 'communication[ @ ]pole-emc2.fr']"
      ]
     },
     "metadata": {},
     "output_type": "display_data"
    },
    {
     "name": "stdout",
     "output_type": "stream",
     "text": [
      "^^^^^^^^^^^^^^^^^^^^^^^^^^^^^^^^^^^^^^^^^^^^^^^^^^^^^^^^^^^^^^^^^^^^^^^^^^^^^^^^^^^^^^^^^^^^^^^^^^^^\n"
     ]
    },
    {
     "data": {
      "text/plain": [
       "'Tél. +33 (0)2 28 44 36 00'"
      ]
     },
     "metadata": {},
     "output_type": "display_data"
    },
    {
     "data": {
      "text/plain": [
       "'communication[ @ ]pole-emc2.fr'"
      ]
     },
     "metadata": {},
     "output_type": "display_data"
    },
    {
     "name": "stdout",
     "output_type": "stream",
     "text": [
      "******************************************************************************************************************************************************\n"
     ]
    },
    {
     "data": {
      "text/plain": [
       "['EuraMaterials',\n",
       " '41 rue des Métissages - CS70314',\n",
       " '59336 Tourcoing CEDEX',\n",
       " 'Numéro de téléphone / adresse email de contact',\n",
       " '03 62 72 61 00 / contact[ @ ]euramaterials.eu']"
      ]
     },
     "metadata": {},
     "output_type": "display_data"
    },
    {
     "name": "stdout",
     "output_type": "stream",
     "text": [
      "^^^^^^^^^^^^^^^^^^^^^^^^^^^^^^^^^^^^^^^^^^^^^^^^^^^^^^^^^^^^^^^^^^^^^^^^^^^^^^^^^^^^^^^^^^^^^^^^^^^^\n"
     ]
    },
    {
     "data": {
      "text/plain": [
       "'03 62 72 61 00'"
      ]
     },
     "metadata": {},
     "output_type": "display_data"
    },
    {
     "data": {
      "text/plain": [
       "'contact[ @ ]euramaterials.eu'"
      ]
     },
     "metadata": {},
     "output_type": "display_data"
    },
    {
     "name": "stdout",
     "output_type": "stream",
     "text": [
      "******************************************************************************************************************************************************\n"
     ]
    },
    {
     "data": {
      "text/plain": [
       "['EuraMaterials',\n",
       " '41 rue des Métissages - CS70314',\n",
       " '59336 Tourcoing CEDEX',\n",
       " 'Numéro de téléphone / adresse email de contact',\n",
       " '03 62 72 61 00 / contact[ @ ]euramaterials.eu']"
      ]
     },
     "metadata": {},
     "output_type": "display_data"
    },
    {
     "name": "stdout",
     "output_type": "stream",
     "text": [
      "^^^^^^^^^^^^^^^^^^^^^^^^^^^^^^^^^^^^^^^^^^^^^^^^^^^^^^^^^^^^^^^^^^^^^^^^^^^^^^^^^^^^^^^^^^^^^^^^^^^^\n"
     ]
    },
    {
     "data": {
      "text/plain": [
       "'03 62 72 61 00'"
      ]
     },
     "metadata": {},
     "output_type": "display_data"
    },
    {
     "data": {
      "text/plain": [
       "'contact[ @ ]euramaterials.eu'"
      ]
     },
     "metadata": {},
     "output_type": "display_data"
    },
    {
     "name": "stdout",
     "output_type": "stream",
     "text": [
      "******************************************************************************************************************************************************\n"
     ]
    },
    {
     "data": {
      "text/plain": [
       "['EuraMaterials',\n",
       " '41 rue des Métissages - CS70314',\n",
       " '59336 Tourcoing CEDEX',\n",
       " 'Numéro de téléphone / adresse email de contact',\n",
       " '03 62 72 61 00 / contact[ @ ]euramaterials.eu']"
      ]
     },
     "metadata": {},
     "output_type": "display_data"
    },
    {
     "name": "stdout",
     "output_type": "stream",
     "text": [
      "^^^^^^^^^^^^^^^^^^^^^^^^^^^^^^^^^^^^^^^^^^^^^^^^^^^^^^^^^^^^^^^^^^^^^^^^^^^^^^^^^^^^^^^^^^^^^^^^^^^^\n"
     ]
    },
    {
     "data": {
      "text/plain": [
       "'03 62 72 61 00'"
      ]
     },
     "metadata": {},
     "output_type": "display_data"
    },
    {
     "data": {
      "text/plain": [
       "'contact[ @ ]euramaterials.eu'"
      ]
     },
     "metadata": {},
     "output_type": "display_data"
    },
    {
     "name": "stdout",
     "output_type": "stream",
     "text": [
      "******************************************************************************************************************************************************\n"
     ]
    },
    {
     "data": {
      "text/plain": [
       "['EuraMaterials',\n",
       " '41 rue des Métissages - CS70314',\n",
       " '59336 Tourcoing CEDEX',\n",
       " 'Numéro de téléphone / adresse email de contact',\n",
       " '03 62 72 61 00 / contact[ @ ]euramaterials.eu']"
      ]
     },
     "metadata": {},
     "output_type": "display_data"
    },
    {
     "name": "stdout",
     "output_type": "stream",
     "text": [
      "^^^^^^^^^^^^^^^^^^^^^^^^^^^^^^^^^^^^^^^^^^^^^^^^^^^^^^^^^^^^^^^^^^^^^^^^^^^^^^^^^^^^^^^^^^^^^^^^^^^^\n"
     ]
    },
    {
     "data": {
      "text/plain": [
       "'03 62 72 61 00'"
      ]
     },
     "metadata": {},
     "output_type": "display_data"
    },
    {
     "data": {
      "text/plain": [
       "'contact[ @ ]euramaterials.eu'"
      ]
     },
     "metadata": {},
     "output_type": "display_data"
    },
    {
     "name": "stdout",
     "output_type": "stream",
     "text": [
      "******************************************************************************************************************************************************\n"
     ]
    },
    {
     "data": {
      "text/plain": [
       "['EuraMaterials',\n",
       " '41 rue des Métissages - CS70314',\n",
       " '59336 Tourcoing CEDEX',\n",
       " 'Numéro de téléphone / adresse email de contact',\n",
       " '03 62 72 61 00 / contact[ @ ]euramaterials.eu']"
      ]
     },
     "metadata": {},
     "output_type": "display_data"
    },
    {
     "name": "stdout",
     "output_type": "stream",
     "text": [
      "^^^^^^^^^^^^^^^^^^^^^^^^^^^^^^^^^^^^^^^^^^^^^^^^^^^^^^^^^^^^^^^^^^^^^^^^^^^^^^^^^^^^^^^^^^^^^^^^^^^^\n"
     ]
    },
    {
     "data": {
      "text/plain": [
       "'03 62 72 61 00'"
      ]
     },
     "metadata": {},
     "output_type": "display_data"
    },
    {
     "data": {
      "text/plain": [
       "'contact[ @ ]euramaterials.eu'"
      ]
     },
     "metadata": {},
     "output_type": "display_data"
    },
    {
     "name": "stdout",
     "output_type": "stream",
     "text": [
      "******************************************************************************************************************************************************\n"
     ]
    },
    {
     "data": {
      "text/plain": [
       "['EuraMaterials',\n",
       " '41 rue des Métissages - CS70314',\n",
       " '59336 Tourcoing CEDEX',\n",
       " 'Numéro de téléphone / adresse email de contact',\n",
       " '03 62 72 61 00 / contact[ @ ]euramaterials.eu']"
      ]
     },
     "metadata": {},
     "output_type": "display_data"
    },
    {
     "name": "stdout",
     "output_type": "stream",
     "text": [
      "^^^^^^^^^^^^^^^^^^^^^^^^^^^^^^^^^^^^^^^^^^^^^^^^^^^^^^^^^^^^^^^^^^^^^^^^^^^^^^^^^^^^^^^^^^^^^^^^^^^^\n"
     ]
    },
    {
     "data": {
      "text/plain": [
       "'03 62 72 61 00'"
      ]
     },
     "metadata": {},
     "output_type": "display_data"
    },
    {
     "data": {
      "text/plain": [
       "'contact[ @ ]euramaterials.eu'"
      ]
     },
     "metadata": {},
     "output_type": "display_data"
    },
    {
     "name": "stdout",
     "output_type": "stream",
     "text": [
      "******************************************************************************************************************************************************\n"
     ]
    },
    {
     "data": {
      "text/plain": [
       "['Eurobiomed',\n",
       " '8 rue Sainte Barbe',\n",
       " '13001 MARSEILLE',\n",
       " 'contact[ @ ]eurobiomed.org',\n",
       " '04 91 13 74 65']"
      ]
     },
     "metadata": {},
     "output_type": "display_data"
    },
    {
     "name": "stdout",
     "output_type": "stream",
     "text": [
      "^^^^^^^^^^^^^^^^^^^^^^^^^^^^^^^^^^^^^^^^^^^^^^^^^^^^^^^^^^^^^^^^^^^^^^^^^^^^^^^^^^^^^^^^^^^^^^^^^^^^\n"
     ]
    },
    {
     "data": {
      "text/plain": [
       "'04 91 13 74 65'"
      ]
     },
     "metadata": {},
     "output_type": "display_data"
    },
    {
     "data": {
      "text/plain": [
       "'contact[ @ ]eurobiomed.org'"
      ]
     },
     "metadata": {},
     "output_type": "display_data"
    },
    {
     "name": "stdout",
     "output_type": "stream",
     "text": [
      "******************************************************************************************************************************************************\n"
     ]
    },
    {
     "data": {
      "text/plain": [
       "['FINANCE INNOVATION',\n",
       " '28 Place de la Bourse',\n",
       " '75002 Paris',\n",
       " '01 73 01 93 86',\n",
       " 'info[ @ ]finance-innovation.org',\n",
       " 'nicolas.ferreira[ @ ]finance-innovation.org']"
      ]
     },
     "metadata": {},
     "output_type": "display_data"
    },
    {
     "name": "stdout",
     "output_type": "stream",
     "text": [
      "^^^^^^^^^^^^^^^^^^^^^^^^^^^^^^^^^^^^^^^^^^^^^^^^^^^^^^^^^^^^^^^^^^^^^^^^^^^^^^^^^^^^^^^^^^^^^^^^^^^^\n"
     ]
    },
    {
     "data": {
      "text/plain": [
       "'01 73 01 93 86'"
      ]
     },
     "metadata": {},
     "output_type": "display_data"
    },
    {
     "data": {
      "text/plain": [
       "'nicolas.ferreira[ @ ]finance-innovation.org / info[ @ ]finance-innovation.org'"
      ]
     },
     "metadata": {},
     "output_type": "display_data"
    },
    {
     "name": "stdout",
     "output_type": "stream",
     "text": [
      "******************************************************************************************************************************************************\n"
     ]
    },
    {
     "data": {
      "text/plain": [
       "['FINANCE INNOVATION',\n",
       " '28 Place de la Bourse',\n",
       " '75002 Paris',\n",
       " '01 73 01 93 86',\n",
       " 'info[ @ ]finance-innovation.org',\n",
       " 'nicolas.ferreira[ @ ]finance-innovation.org']"
      ]
     },
     "metadata": {},
     "output_type": "display_data"
    },
    {
     "name": "stdout",
     "output_type": "stream",
     "text": [
      "^^^^^^^^^^^^^^^^^^^^^^^^^^^^^^^^^^^^^^^^^^^^^^^^^^^^^^^^^^^^^^^^^^^^^^^^^^^^^^^^^^^^^^^^^^^^^^^^^^^^\n"
     ]
    },
    {
     "data": {
      "text/plain": [
       "'01 73 01 93 86'"
      ]
     },
     "metadata": {},
     "output_type": "display_data"
    },
    {
     "data": {
      "text/plain": [
       "'nicolas.ferreira[ @ ]finance-innovation.org / info[ @ ]finance-innovation.org'"
      ]
     },
     "metadata": {},
     "output_type": "display_data"
    },
    {
     "name": "stdout",
     "output_type": "stream",
     "text": [
      "******************************************************************************************************************************************************\n"
     ]
    },
    {
     "data": {
      "text/plain": [
       "['FINANCE INNOVATION',\n",
       " '28 Place de la Bourse',\n",
       " '75002 Paris',\n",
       " '01 73 01 93 86',\n",
       " 'info[ @ ]finance-innovation.org',\n",
       " 'nicolas.ferreira[ @ ]finance-innovation.org']"
      ]
     },
     "metadata": {},
     "output_type": "display_data"
    },
    {
     "name": "stdout",
     "output_type": "stream",
     "text": [
      "^^^^^^^^^^^^^^^^^^^^^^^^^^^^^^^^^^^^^^^^^^^^^^^^^^^^^^^^^^^^^^^^^^^^^^^^^^^^^^^^^^^^^^^^^^^^^^^^^^^^\n"
     ]
    },
    {
     "data": {
      "text/plain": [
       "'01 73 01 93 86'"
      ]
     },
     "metadata": {},
     "output_type": "display_data"
    },
    {
     "data": {
      "text/plain": [
       "'nicolas.ferreira[ @ ]finance-innovation.org / info[ @ ]finance-innovation.org'"
      ]
     },
     "metadata": {},
     "output_type": "display_data"
    },
    {
     "name": "stdout",
     "output_type": "stream",
     "text": [
      "******************************************************************************************************************************************************\n"
     ]
    },
    {
     "data": {
      "text/plain": [
       "['Pôle Hippolia',\n",
       " 'Maison du cheval - Campus EffiScience - Bât. Erable',\n",
       " '8 rue Léopold Sedar Senghor',\n",
       " '14460 COLOMBELLES',\n",
       " '02 31 94 94 20 / contact[ @ ]hippolia.org']"
      ]
     },
     "metadata": {},
     "output_type": "display_data"
    },
    {
     "name": "stdout",
     "output_type": "stream",
     "text": [
      "^^^^^^^^^^^^^^^^^^^^^^^^^^^^^^^^^^^^^^^^^^^^^^^^^^^^^^^^^^^^^^^^^^^^^^^^^^^^^^^^^^^^^^^^^^^^^^^^^^^^\n"
     ]
    },
    {
     "data": {
      "text/plain": [
       "'02 31 94 94 20'"
      ]
     },
     "metadata": {},
     "output_type": "display_data"
    },
    {
     "data": {
      "text/plain": [
       "'contact[ @ ]hippolia.org'"
      ]
     },
     "metadata": {},
     "output_type": "display_data"
    },
    {
     "name": "stdout",
     "output_type": "stream",
     "text": [
      "******************************************************************************************************************************************************\n"
     ]
    },
    {
     "data": {
      "text/plain": [
       "['Pôle Hippolia',\n",
       " 'Maison du cheval - Campus EffiScience - Bât. Erable',\n",
       " '8 rue Léopold Sedar Senghor',\n",
       " '14460 COLOMBELLES',\n",
       " '02 31 94 94 20 / contact[ @ ]hippolia.org']"
      ]
     },
     "metadata": {},
     "output_type": "display_data"
    },
    {
     "name": "stdout",
     "output_type": "stream",
     "text": [
      "^^^^^^^^^^^^^^^^^^^^^^^^^^^^^^^^^^^^^^^^^^^^^^^^^^^^^^^^^^^^^^^^^^^^^^^^^^^^^^^^^^^^^^^^^^^^^^^^^^^^\n"
     ]
    },
    {
     "data": {
      "text/plain": [
       "'02 31 94 94 20'"
      ]
     },
     "metadata": {},
     "output_type": "display_data"
    },
    {
     "data": {
      "text/plain": [
       "'contact[ @ ]hippolia.org'"
      ]
     },
     "metadata": {},
     "output_type": "display_data"
    },
    {
     "name": "stdout",
     "output_type": "stream",
     "text": [
      "******************************************************************************************************************************************************\n"
     ]
    },
    {
     "data": {
      "text/plain": [
       "['iTrans',\n",
       " '180 rue Joseph Louis Lagrange',\n",
       " '59308 Valenciennes cedex',\n",
       " '03 27 19 00 10 / contact[ @ ]i-trans.org']"
      ]
     },
     "metadata": {},
     "output_type": "display_data"
    },
    {
     "name": "stdout",
     "output_type": "stream",
     "text": [
      "^^^^^^^^^^^^^^^^^^^^^^^^^^^^^^^^^^^^^^^^^^^^^^^^^^^^^^^^^^^^^^^^^^^^^^^^^^^^^^^^^^^^^^^^^^^^^^^^^^^^\n"
     ]
    },
    {
     "data": {
      "text/plain": [
       "'03 27 19 00 10'"
      ]
     },
     "metadata": {},
     "output_type": "display_data"
    },
    {
     "data": {
      "text/plain": [
       "'contact[ @ ]i-trans.org'"
      ]
     },
     "metadata": {},
     "output_type": "display_data"
    },
    {
     "name": "stdout",
     "output_type": "stream",
     "text": [
      "******************************************************************************************************************************************************\n"
     ]
    },
    {
     "data": {
      "text/plain": [
       "['iTrans',\n",
       " '180 rue Joseph Louis Lagrange',\n",
       " '59308 Valenciennes cedex',\n",
       " '03 27 19 00 10 / contact[ @ ]i-trans.org']"
      ]
     },
     "metadata": {},
     "output_type": "display_data"
    },
    {
     "name": "stdout",
     "output_type": "stream",
     "text": [
      "^^^^^^^^^^^^^^^^^^^^^^^^^^^^^^^^^^^^^^^^^^^^^^^^^^^^^^^^^^^^^^^^^^^^^^^^^^^^^^^^^^^^^^^^^^^^^^^^^^^^\n"
     ]
    },
    {
     "data": {
      "text/plain": [
       "'03 27 19 00 10'"
      ]
     },
     "metadata": {},
     "output_type": "display_data"
    },
    {
     "data": {
      "text/plain": [
       "'contact[ @ ]i-trans.org'"
      ]
     },
     "metadata": {},
     "output_type": "display_data"
    },
    {
     "name": "stdout",
     "output_type": "stream",
     "text": [
      "******************************************************************************************************************************************************\n"
     ]
    },
    {
     "data": {
      "text/plain": [
       "['iTrans',\n",
       " '180 rue Joseph Louis Lagrange',\n",
       " '59308 Valenciennes cedex',\n",
       " '03 27 19 00 10 / contact[ @ ]i-trans.org']"
      ]
     },
     "metadata": {},
     "output_type": "display_data"
    },
    {
     "name": "stdout",
     "output_type": "stream",
     "text": [
      "^^^^^^^^^^^^^^^^^^^^^^^^^^^^^^^^^^^^^^^^^^^^^^^^^^^^^^^^^^^^^^^^^^^^^^^^^^^^^^^^^^^^^^^^^^^^^^^^^^^^\n"
     ]
    },
    {
     "data": {
      "text/plain": [
       "'03 27 19 00 10'"
      ]
     },
     "metadata": {},
     "output_type": "display_data"
    },
    {
     "data": {
      "text/plain": [
       "'contact[ @ ]i-trans.org'"
      ]
     },
     "metadata": {},
     "output_type": "display_data"
    },
    {
     "name": "stdout",
     "output_type": "stream",
     "text": [
      "******************************************************************************************************************************************************\n"
     ]
    },
    {
     "data": {
      "text/plain": [
       "['iTrans',\n",
       " '180 rue Joseph Louis Lagrange',\n",
       " '59308 Valenciennes cedex',\n",
       " '03 27 19 00 10 / contact[ @ ]i-trans.org']"
      ]
     },
     "metadata": {},
     "output_type": "display_data"
    },
    {
     "name": "stdout",
     "output_type": "stream",
     "text": [
      "^^^^^^^^^^^^^^^^^^^^^^^^^^^^^^^^^^^^^^^^^^^^^^^^^^^^^^^^^^^^^^^^^^^^^^^^^^^^^^^^^^^^^^^^^^^^^^^^^^^^\n"
     ]
    },
    {
     "data": {
      "text/plain": [
       "'03 27 19 00 10'"
      ]
     },
     "metadata": {},
     "output_type": "display_data"
    },
    {
     "data": {
      "text/plain": [
       "'contact[ @ ]i-trans.org'"
      ]
     },
     "metadata": {},
     "output_type": "display_data"
    },
    {
     "name": "stdout",
     "output_type": "stream",
     "text": [
      "******************************************************************************************************************************************************\n"
     ]
    },
    {
     "data": {
      "text/plain": [
       "['iTrans',\n",
       " '180 rue Joseph Louis Lagrange',\n",
       " '59308 Valenciennes cedex',\n",
       " '03 27 19 00 10 / contact[ @ ]i-trans.org']"
      ]
     },
     "metadata": {},
     "output_type": "display_data"
    },
    {
     "name": "stdout",
     "output_type": "stream",
     "text": [
      "^^^^^^^^^^^^^^^^^^^^^^^^^^^^^^^^^^^^^^^^^^^^^^^^^^^^^^^^^^^^^^^^^^^^^^^^^^^^^^^^^^^^^^^^^^^^^^^^^^^^\n"
     ]
    },
    {
     "data": {
      "text/plain": [
       "'03 27 19 00 10'"
      ]
     },
     "metadata": {},
     "output_type": "display_data"
    },
    {
     "data": {
      "text/plain": [
       "'contact[ @ ]i-trans.org'"
      ]
     },
     "metadata": {},
     "output_type": "display_data"
    },
    {
     "name": "stdout",
     "output_type": "stream",
     "text": [
      "******************************************************************************************************************************************************\n"
     ]
    },
    {
     "data": {
      "text/plain": [
       "['ID4MOBILITY',\n",
       " \"40 rue La Tour d'Auvergne\",\n",
       " '44200 Nantes',\n",
       " '02 52 59 59 19 / contact [ @ ]id4mobility.org']"
      ]
     },
     "metadata": {},
     "output_type": "display_data"
    },
    {
     "name": "stdout",
     "output_type": "stream",
     "text": [
      "^^^^^^^^^^^^^^^^^^^^^^^^^^^^^^^^^^^^^^^^^^^^^^^^^^^^^^^^^^^^^^^^^^^^^^^^^^^^^^^^^^^^^^^^^^^^^^^^^^^^\n"
     ]
    },
    {
     "data": {
      "text/plain": [
       "'02 52 59 59 19'"
      ]
     },
     "metadata": {},
     "output_type": "display_data"
    },
    {
     "data": {
      "text/plain": [
       "'contact [ @ ]id4mobility.org'"
      ]
     },
     "metadata": {},
     "output_type": "display_data"
    },
    {
     "name": "stdout",
     "output_type": "stream",
     "text": [
      "******************************************************************************************************************************************************\n"
     ]
    },
    {
     "data": {
      "text/plain": [
       "['ID4MOBILITY',\n",
       " \"40 rue La Tour d'Auvergne\",\n",
       " '44200 Nantes',\n",
       " '02 52 59 59 19 / contact [ @ ]id4mobility.org']"
      ]
     },
     "metadata": {},
     "output_type": "display_data"
    },
    {
     "name": "stdout",
     "output_type": "stream",
     "text": [
      "^^^^^^^^^^^^^^^^^^^^^^^^^^^^^^^^^^^^^^^^^^^^^^^^^^^^^^^^^^^^^^^^^^^^^^^^^^^^^^^^^^^^^^^^^^^^^^^^^^^^\n"
     ]
    },
    {
     "data": {
      "text/plain": [
       "'02 52 59 59 19'"
      ]
     },
     "metadata": {},
     "output_type": "display_data"
    },
    {
     "data": {
      "text/plain": [
       "'contact [ @ ]id4mobility.org'"
      ]
     },
     "metadata": {},
     "output_type": "display_data"
    },
    {
     "name": "stdout",
     "output_type": "stream",
     "text": [
      "******************************************************************************************************************************************************\n"
     ]
    },
    {
     "data": {
      "text/plain": [
       "['images & Réseaux',\n",
       " '4 rue Ampère 22300 Lannion',\n",
       " 'Tél. : + 33 (0)2 96 48 31 55',\n",
       " 'pole[ @ ]images-et-reseaux.com']"
      ]
     },
     "metadata": {},
     "output_type": "display_data"
    },
    {
     "name": "stdout",
     "output_type": "stream",
     "text": [
      "^^^^^^^^^^^^^^^^^^^^^^^^^^^^^^^^^^^^^^^^^^^^^^^^^^^^^^^^^^^^^^^^^^^^^^^^^^^^^^^^^^^^^^^^^^^^^^^^^^^^\n"
     ]
    },
    {
     "data": {
      "text/plain": [
       "'Tél. : + 33 (0)2 96 48 31 55'"
      ]
     },
     "metadata": {},
     "output_type": "display_data"
    },
    {
     "data": {
      "text/plain": [
       "'pole[ @ ]images-et-reseaux.com'"
      ]
     },
     "metadata": {},
     "output_type": "display_data"
    },
    {
     "name": "stdout",
     "output_type": "stream",
     "text": [
      "******************************************************************************************************************************************************\n"
     ]
    },
    {
     "data": {
      "text/plain": [
       "['images & Réseaux',\n",
       " '4 rue Ampère 22300 Lannion',\n",
       " 'Tél. : + 33 (0)2 96 48 31 55',\n",
       " 'pole[ @ ]images-et-reseaux.com']"
      ]
     },
     "metadata": {},
     "output_type": "display_data"
    },
    {
     "name": "stdout",
     "output_type": "stream",
     "text": [
      "^^^^^^^^^^^^^^^^^^^^^^^^^^^^^^^^^^^^^^^^^^^^^^^^^^^^^^^^^^^^^^^^^^^^^^^^^^^^^^^^^^^^^^^^^^^^^^^^^^^^\n"
     ]
    },
    {
     "data": {
      "text/plain": [
       "'Tél. : + 33 (0)2 96 48 31 55'"
      ]
     },
     "metadata": {},
     "output_type": "display_data"
    },
    {
     "data": {
      "text/plain": [
       "'pole[ @ ]images-et-reseaux.com'"
      ]
     },
     "metadata": {},
     "output_type": "display_data"
    },
    {
     "name": "stdout",
     "output_type": "stream",
     "text": [
      "******************************************************************************************************************************************************\n"
     ]
    },
    {
     "data": {
      "text/plain": [
       "['images & Réseaux',\n",
       " '4 rue Ampère 22300 Lannion',\n",
       " 'Tél. : + 33 (0)2 96 48 31 55',\n",
       " 'pole[ @ ]images-et-reseaux.com']"
      ]
     },
     "metadata": {},
     "output_type": "display_data"
    },
    {
     "name": "stdout",
     "output_type": "stream",
     "text": [
      "^^^^^^^^^^^^^^^^^^^^^^^^^^^^^^^^^^^^^^^^^^^^^^^^^^^^^^^^^^^^^^^^^^^^^^^^^^^^^^^^^^^^^^^^^^^^^^^^^^^^\n"
     ]
    },
    {
     "data": {
      "text/plain": [
       "'Tél. : + 33 (0)2 96 48 31 55'"
      ]
     },
     "metadata": {},
     "output_type": "display_data"
    },
    {
     "data": {
      "text/plain": [
       "'pole[ @ ]images-et-reseaux.com'"
      ]
     },
     "metadata": {},
     "output_type": "display_data"
    },
    {
     "name": "stdout",
     "output_type": "stream",
     "text": [
      "******************************************************************************************************************************************************\n"
     ]
    },
    {
     "data": {
      "text/plain": [
       "['Innov’Alliance Avignon (Siège social)',\n",
       " '100 rue Pierre Bayle - BP 11 548',\n",
       " '84916 Avignon cedex 9',\n",
       " 'Tel : 04 32 40 37 60 | contact[ @ ]pole-innovalliance.com',\n",
       " 'Innov’Alliance Lyon',\n",
       " '23 rue Jean Baldassini',\n",
       " '69364 Lyon cedex 07',\n",
       " 'Innov’Alliance Grasse',\n",
       " '48 rue Riou Blanquet - BP 21 017',\n",
       " '06131 Grasse']"
      ]
     },
     "metadata": {},
     "output_type": "display_data"
    },
    {
     "name": "stdout",
     "output_type": "stream",
     "text": [
      "^^^^^^^^^^^^^^^^^^^^^^^^^^^^^^^^^^^^^^^^^^^^^^^^^^^^^^^^^^^^^^^^^^^^^^^^^^^^^^^^^^^^^^^^^^^^^^^^^^^^\n"
     ]
    },
    {
     "data": {
      "text/plain": [
       "'Tel : 04 32 40 37 60'"
      ]
     },
     "metadata": {},
     "output_type": "display_data"
    },
    {
     "data": {
      "text/plain": [
       "'contact[ @ ]pole-innovalliance.com'"
      ]
     },
     "metadata": {},
     "output_type": "display_data"
    },
    {
     "name": "stdout",
     "output_type": "stream",
     "text": [
      "******************************************************************************************************************************************************\n"
     ]
    },
    {
     "data": {
      "text/plain": [
       "['Innov’Alliance Avignon (Siège social)',\n",
       " '100 rue Pierre Bayle - BP 11 548',\n",
       " '84916 Avignon cedex 9',\n",
       " 'Tel : 04 32 40 37 60 | contact[ @ ]pole-innovalliance.com',\n",
       " 'Innov’Alliance Lyon',\n",
       " '23 rue Jean Baldassini',\n",
       " '69364 Lyon cedex 07',\n",
       " 'Innov’Alliance Grasse',\n",
       " '48 rue Riou Blanquet - BP 21 017',\n",
       " '06131 Grasse']"
      ]
     },
     "metadata": {},
     "output_type": "display_data"
    },
    {
     "name": "stdout",
     "output_type": "stream",
     "text": [
      "^^^^^^^^^^^^^^^^^^^^^^^^^^^^^^^^^^^^^^^^^^^^^^^^^^^^^^^^^^^^^^^^^^^^^^^^^^^^^^^^^^^^^^^^^^^^^^^^^^^^\n"
     ]
    },
    {
     "data": {
      "text/plain": [
       "'Tel : 04 32 40 37 60'"
      ]
     },
     "metadata": {},
     "output_type": "display_data"
    },
    {
     "data": {
      "text/plain": [
       "'contact[ @ ]pole-innovalliance.com'"
      ]
     },
     "metadata": {},
     "output_type": "display_data"
    },
    {
     "name": "stdout",
     "output_type": "stream",
     "text": [
      "******************************************************************************************************************************************************\n"
     ]
    },
    {
     "data": {
      "text/plain": [
       "['Innov’Alliance Avignon (Siège social)',\n",
       " '100 rue Pierre Bayle - BP 11 548',\n",
       " '84916 Avignon cedex 9',\n",
       " 'Tel : 04 32 40 37 60 | contact[ @ ]pole-innovalliance.com',\n",
       " 'Innov’Alliance Lyon',\n",
       " '23 rue Jean Baldassini',\n",
       " '69364 Lyon cedex 07',\n",
       " 'Innov’Alliance Grasse',\n",
       " '48 rue Riou Blanquet - BP 21 017',\n",
       " '06131 Grasse']"
      ]
     },
     "metadata": {},
     "output_type": "display_data"
    },
    {
     "name": "stdout",
     "output_type": "stream",
     "text": [
      "^^^^^^^^^^^^^^^^^^^^^^^^^^^^^^^^^^^^^^^^^^^^^^^^^^^^^^^^^^^^^^^^^^^^^^^^^^^^^^^^^^^^^^^^^^^^^^^^^^^^\n"
     ]
    },
    {
     "data": {
      "text/plain": [
       "'Tel : 04 32 40 37 60'"
      ]
     },
     "metadata": {},
     "output_type": "display_data"
    },
    {
     "data": {
      "text/plain": [
       "'contact[ @ ]pole-innovalliance.com'"
      ]
     },
     "metadata": {},
     "output_type": "display_data"
    },
    {
     "name": "stdout",
     "output_type": "stream",
     "text": [
      "******************************************************************************************************************************************************\n"
     ]
    },
    {
     "data": {
      "text/plain": [
       "['Innov’Alliance Avignon (Siège social)',\n",
       " '100 rue Pierre Bayle - BP 11 548',\n",
       " '84916 Avignon cedex 9',\n",
       " 'Tel : 04 32 40 37 60 | contact[ @ ]pole-innovalliance.com',\n",
       " 'Innov’Alliance Lyon',\n",
       " '23 rue Jean Baldassini',\n",
       " '69364 Lyon cedex 07',\n",
       " 'Innov’Alliance Grasse',\n",
       " '48 rue Riou Blanquet - BP 21 017',\n",
       " '06131 Grasse']"
      ]
     },
     "metadata": {},
     "output_type": "display_data"
    },
    {
     "name": "stdout",
     "output_type": "stream",
     "text": [
      "^^^^^^^^^^^^^^^^^^^^^^^^^^^^^^^^^^^^^^^^^^^^^^^^^^^^^^^^^^^^^^^^^^^^^^^^^^^^^^^^^^^^^^^^^^^^^^^^^^^^\n"
     ]
    },
    {
     "data": {
      "text/plain": [
       "'Tel : 04 32 40 37 60'"
      ]
     },
     "metadata": {},
     "output_type": "display_data"
    },
    {
     "data": {
      "text/plain": [
       "'contact[ @ ]pole-innovalliance.com'"
      ]
     },
     "metadata": {},
     "output_type": "display_data"
    },
    {
     "name": "stdout",
     "output_type": "stream",
     "text": [
      "******************************************************************************************************************************************************\n"
     ]
    },
    {
     "data": {
      "text/plain": [
       "['Innov’Alliance Avignon (Siège social)',\n",
       " '100 rue Pierre Bayle - BP 11 548',\n",
       " '84916 Avignon cedex 9',\n",
       " 'Tel : 04 32 40 37 60 | contact[ @ ]pole-innovalliance.com',\n",
       " 'Innov’Alliance Lyon',\n",
       " '23 rue Jean Baldassini',\n",
       " '69364 Lyon cedex 07',\n",
       " 'Innov’Alliance Grasse',\n",
       " '48 rue Riou Blanquet - BP 21 017',\n",
       " '06131 Grasse']"
      ]
     },
     "metadata": {},
     "output_type": "display_data"
    },
    {
     "name": "stdout",
     "output_type": "stream",
     "text": [
      "^^^^^^^^^^^^^^^^^^^^^^^^^^^^^^^^^^^^^^^^^^^^^^^^^^^^^^^^^^^^^^^^^^^^^^^^^^^^^^^^^^^^^^^^^^^^^^^^^^^^\n"
     ]
    },
    {
     "data": {
      "text/plain": [
       "'Tel : 04 32 40 37 60'"
      ]
     },
     "metadata": {},
     "output_type": "display_data"
    },
    {
     "data": {
      "text/plain": [
       "'contact[ @ ]pole-innovalliance.com'"
      ]
     },
     "metadata": {},
     "output_type": "display_data"
    },
    {
     "name": "stdout",
     "output_type": "stream",
     "text": [
      "******************************************************************************************************************************************************\n"
     ]
    },
    {
     "data": {
      "text/plain": [
       "['Innov’Alliance Avignon (Siège social)',\n",
       " '100 rue Pierre Bayle - BP 11 548',\n",
       " '84916 Avignon cedex 9',\n",
       " 'Tel : 04 32 40 37 60 | contact[ @ ]pole-innovalliance.com',\n",
       " 'Innov’Alliance Lyon',\n",
       " '23 rue Jean Baldassini',\n",
       " '69364 Lyon cedex 07',\n",
       " 'Innov’Alliance Grasse',\n",
       " '48 rue Riou Blanquet - BP 21 017',\n",
       " '06131 Grasse']"
      ]
     },
     "metadata": {},
     "output_type": "display_data"
    },
    {
     "name": "stdout",
     "output_type": "stream",
     "text": [
      "^^^^^^^^^^^^^^^^^^^^^^^^^^^^^^^^^^^^^^^^^^^^^^^^^^^^^^^^^^^^^^^^^^^^^^^^^^^^^^^^^^^^^^^^^^^^^^^^^^^^\n"
     ]
    },
    {
     "data": {
      "text/plain": [
       "'Tel : 04 32 40 37 60'"
      ]
     },
     "metadata": {},
     "output_type": "display_data"
    },
    {
     "data": {
      "text/plain": [
       "'contact[ @ ]pole-innovalliance.com'"
      ]
     },
     "metadata": {},
     "output_type": "display_data"
    },
    {
     "name": "stdout",
     "output_type": "stream",
     "text": [
      "******************************************************************************************************************************************************\n"
     ]
    },
    {
     "data": {
      "text/plain": [
       "['Innov’Alliance Avignon (Siège social)',\n",
       " '100 rue Pierre Bayle - BP 11 548',\n",
       " '84916 Avignon cedex 9',\n",
       " 'Tel : 04 32 40 37 60 | contact[ @ ]pole-innovalliance.com',\n",
       " 'Innov’Alliance Lyon',\n",
       " '23 rue Jean Baldassini',\n",
       " '69364 Lyon cedex 07',\n",
       " 'Innov’Alliance Grasse',\n",
       " '48 rue Riou Blanquet - BP 21 017',\n",
       " '06131 Grasse']"
      ]
     },
     "metadata": {},
     "output_type": "display_data"
    },
    {
     "name": "stdout",
     "output_type": "stream",
     "text": [
      "^^^^^^^^^^^^^^^^^^^^^^^^^^^^^^^^^^^^^^^^^^^^^^^^^^^^^^^^^^^^^^^^^^^^^^^^^^^^^^^^^^^^^^^^^^^^^^^^^^^^\n"
     ]
    },
    {
     "data": {
      "text/plain": [
       "'Tel : 04 32 40 37 60'"
      ]
     },
     "metadata": {},
     "output_type": "display_data"
    },
    {
     "data": {
      "text/plain": [
       "'contact[ @ ]pole-innovalliance.com'"
      ]
     },
     "metadata": {},
     "output_type": "display_data"
    },
    {
     "name": "stdout",
     "output_type": "stream",
     "text": [
      "******************************************************************************************************************************************************\n"
     ]
    },
    {
     "data": {
      "text/plain": [
       "['Innov’Alliance Avignon (Siège social)',\n",
       " '100 rue Pierre Bayle - BP 11 548',\n",
       " '84916 Avignon cedex 9',\n",
       " 'Tel : 04 32 40 37 60 | contact[ @ ]pole-innovalliance.com',\n",
       " 'Innov’Alliance Lyon',\n",
       " '23 rue Jean Baldassini',\n",
       " '69364 Lyon cedex 07',\n",
       " 'Innov’Alliance Grasse',\n",
       " '48 rue Riou Blanquet - BP 21 017',\n",
       " '06131 Grasse']"
      ]
     },
     "metadata": {},
     "output_type": "display_data"
    },
    {
     "name": "stdout",
     "output_type": "stream",
     "text": [
      "^^^^^^^^^^^^^^^^^^^^^^^^^^^^^^^^^^^^^^^^^^^^^^^^^^^^^^^^^^^^^^^^^^^^^^^^^^^^^^^^^^^^^^^^^^^^^^^^^^^^\n"
     ]
    },
    {
     "data": {
      "text/plain": [
       "'Tel : 04 32 40 37 60'"
      ]
     },
     "metadata": {},
     "output_type": "display_data"
    },
    {
     "data": {
      "text/plain": [
       "'contact[ @ ]pole-innovalliance.com'"
      ]
     },
     "metadata": {},
     "output_type": "display_data"
    },
    {
     "name": "stdout",
     "output_type": "stream",
     "text": [
      "******************************************************************************************************************************************************\n"
     ]
    },
    {
     "data": {
      "text/plain": [
       "['Innov’Alliance Avignon (Siège social)',\n",
       " '100 rue Pierre Bayle - BP 11 548',\n",
       " '84916 Avignon cedex 9',\n",
       " 'Tel : 04 32 40 37 60 | contact[ @ ]pole-innovalliance.com',\n",
       " 'Innov’Alliance Lyon',\n",
       " '23 rue Jean Baldassini',\n",
       " '69364 Lyon cedex 07',\n",
       " 'Innov’Alliance Grasse',\n",
       " '48 rue Riou Blanquet - BP 21 017',\n",
       " '06131 Grasse']"
      ]
     },
     "metadata": {},
     "output_type": "display_data"
    },
    {
     "name": "stdout",
     "output_type": "stream",
     "text": [
      "^^^^^^^^^^^^^^^^^^^^^^^^^^^^^^^^^^^^^^^^^^^^^^^^^^^^^^^^^^^^^^^^^^^^^^^^^^^^^^^^^^^^^^^^^^^^^^^^^^^^\n"
     ]
    },
    {
     "data": {
      "text/plain": [
       "'Tel : 04 32 40 37 60'"
      ]
     },
     "metadata": {},
     "output_type": "display_data"
    },
    {
     "data": {
      "text/plain": [
       "'contact[ @ ]pole-innovalliance.com'"
      ]
     },
     "metadata": {},
     "output_type": "display_data"
    },
    {
     "name": "stdout",
     "output_type": "stream",
     "text": [
      "******************************************************************************************************************************************************\n"
     ]
    },
    {
     "data": {
      "text/plain": [
       "['Lyonbiopôle',\n",
       " 'Bâtiment EKLAA',\n",
       " '63 Avenue Tony Garnier 69007 LYON',\n",
       " 'Téléphone : +33 (0)4 72 76 53 30',\n",
       " 'Courriel : info[ @ ]lyonbiopole.com']"
      ]
     },
     "metadata": {},
     "output_type": "display_data"
    },
    {
     "name": "stdout",
     "output_type": "stream",
     "text": [
      "^^^^^^^^^^^^^^^^^^^^^^^^^^^^^^^^^^^^^^^^^^^^^^^^^^^^^^^^^^^^^^^^^^^^^^^^^^^^^^^^^^^^^^^^^^^^^^^^^^^^\n"
     ]
    },
    {
     "data": {
      "text/plain": [
       "'Téléphone : +33 (0)4 72 76 53 30'"
      ]
     },
     "metadata": {},
     "output_type": "display_data"
    },
    {
     "data": {
      "text/plain": [
       "'Courriel : info[ @ ]lyonbiopole.com'"
      ]
     },
     "metadata": {},
     "output_type": "display_data"
    },
    {
     "name": "stdout",
     "output_type": "stream",
     "text": [
      "******************************************************************************************************************************************************\n"
     ]
    },
    {
     "data": {
      "text/plain": [
       "['Lyonbiopôle',\n",
       " 'Bâtiment EKLAA',\n",
       " '63 Avenue Tony Garnier 69007 LYON',\n",
       " 'Téléphone : +33 (0)4 72 76 53 30',\n",
       " 'Courriel : info[ @ ]lyonbiopole.com']"
      ]
     },
     "metadata": {},
     "output_type": "display_data"
    },
    {
     "name": "stdout",
     "output_type": "stream",
     "text": [
      "^^^^^^^^^^^^^^^^^^^^^^^^^^^^^^^^^^^^^^^^^^^^^^^^^^^^^^^^^^^^^^^^^^^^^^^^^^^^^^^^^^^^^^^^^^^^^^^^^^^^\n"
     ]
    },
    {
     "data": {
      "text/plain": [
       "'Téléphone : +33 (0)4 72 76 53 30'"
      ]
     },
     "metadata": {},
     "output_type": "display_data"
    },
    {
     "data": {
      "text/plain": [
       "'Courriel : info[ @ ]lyonbiopole.com'"
      ]
     },
     "metadata": {},
     "output_type": "display_data"
    },
    {
     "name": "stdout",
     "output_type": "stream",
     "text": [
      "******************************************************************************************************************************************************\n"
     ]
    },
    {
     "data": {
      "text/plain": [
       "['Lyonbiopôle',\n",
       " 'Bâtiment EKLAA',\n",
       " '63 Avenue Tony Garnier 69007 LYON',\n",
       " 'Téléphone : +33 (0)4 72 76 53 30',\n",
       " 'Courriel : info[ @ ]lyonbiopole.com']"
      ]
     },
     "metadata": {},
     "output_type": "display_data"
    },
    {
     "name": "stdout",
     "output_type": "stream",
     "text": [
      "^^^^^^^^^^^^^^^^^^^^^^^^^^^^^^^^^^^^^^^^^^^^^^^^^^^^^^^^^^^^^^^^^^^^^^^^^^^^^^^^^^^^^^^^^^^^^^^^^^^^\n"
     ]
    },
    {
     "data": {
      "text/plain": [
       "'Téléphone : +33 (0)4 72 76 53 30'"
      ]
     },
     "metadata": {},
     "output_type": "display_data"
    },
    {
     "data": {
      "text/plain": [
       "'Courriel : info[ @ ]lyonbiopole.com'"
      ]
     },
     "metadata": {},
     "output_type": "display_data"
    },
    {
     "name": "stdout",
     "output_type": "stream",
     "text": [
      "******************************************************************************************************************************************************\n"
     ]
    },
    {
     "data": {
      "text/plain": [
       "['Lyonbiopôle',\n",
       " 'Bâtiment EKLAA',\n",
       " '63 Avenue Tony Garnier 69007 LYON',\n",
       " 'Téléphone : +33 (0)4 72 76 53 30',\n",
       " 'Courriel : info[ @ ]lyonbiopole.com']"
      ]
     },
     "metadata": {},
     "output_type": "display_data"
    },
    {
     "name": "stdout",
     "output_type": "stream",
     "text": [
      "^^^^^^^^^^^^^^^^^^^^^^^^^^^^^^^^^^^^^^^^^^^^^^^^^^^^^^^^^^^^^^^^^^^^^^^^^^^^^^^^^^^^^^^^^^^^^^^^^^^^\n"
     ]
    },
    {
     "data": {
      "text/plain": [
       "'Téléphone : +33 (0)4 72 76 53 30'"
      ]
     },
     "metadata": {},
     "output_type": "display_data"
    },
    {
     "data": {
      "text/plain": [
       "'Courriel : info[ @ ]lyonbiopole.com'"
      ]
     },
     "metadata": {},
     "output_type": "display_data"
    },
    {
     "name": "stdout",
     "output_type": "stream",
     "text": [
      "******************************************************************************************************************************************************\n"
     ]
    },
    {
     "data": {
      "text/plain": [
       "['Lyonbiopôle',\n",
       " 'Bâtiment EKLAA',\n",
       " '63 Avenue Tony Garnier 69007 LYON',\n",
       " 'Téléphone : +33 (0)4 72 76 53 30',\n",
       " 'Courriel : info[ @ ]lyonbiopole.com']"
      ]
     },
     "metadata": {},
     "output_type": "display_data"
    },
    {
     "name": "stdout",
     "output_type": "stream",
     "text": [
      "^^^^^^^^^^^^^^^^^^^^^^^^^^^^^^^^^^^^^^^^^^^^^^^^^^^^^^^^^^^^^^^^^^^^^^^^^^^^^^^^^^^^^^^^^^^^^^^^^^^^\n"
     ]
    },
    {
     "data": {
      "text/plain": [
       "'Téléphone : +33 (0)4 72 76 53 30'"
      ]
     },
     "metadata": {},
     "output_type": "display_data"
    },
    {
     "data": {
      "text/plain": [
       "'Courriel : info[ @ ]lyonbiopole.com'"
      ]
     },
     "metadata": {},
     "output_type": "display_data"
    },
    {
     "name": "stdout",
     "output_type": "stream",
     "text": [
      "******************************************************************************************************************************************************\n"
     ]
    },
    {
     "data": {
      "text/plain": [
       "['Lyonbiopôle',\n",
       " 'Bâtiment EKLAA',\n",
       " '63 Avenue Tony Garnier 69007 LYON',\n",
       " 'Téléphone : +33 (0)4 72 76 53 30',\n",
       " 'Courriel : info[ @ ]lyonbiopole.com']"
      ]
     },
     "metadata": {},
     "output_type": "display_data"
    },
    {
     "name": "stdout",
     "output_type": "stream",
     "text": [
      "^^^^^^^^^^^^^^^^^^^^^^^^^^^^^^^^^^^^^^^^^^^^^^^^^^^^^^^^^^^^^^^^^^^^^^^^^^^^^^^^^^^^^^^^^^^^^^^^^^^^\n"
     ]
    },
    {
     "data": {
      "text/plain": [
       "'Téléphone : +33 (0)4 72 76 53 30'"
      ]
     },
     "metadata": {},
     "output_type": "display_data"
    },
    {
     "data": {
      "text/plain": [
       "'Courriel : info[ @ ]lyonbiopole.com'"
      ]
     },
     "metadata": {},
     "output_type": "display_data"
    },
    {
     "name": "stdout",
     "output_type": "stream",
     "text": [
      "******************************************************************************************************************************************************\n"
     ]
    },
    {
     "data": {
      "text/plain": [
       "['Innovapôle 76',\n",
       " '50 rue Ettore Bugatti',\n",
       " '76800 Saint-Etienne-du-Rouvray',\n",
       " '02 35 65 78 17 – contact[ @ ]nextmove.fr']"
      ]
     },
     "metadata": {},
     "output_type": "display_data"
    },
    {
     "name": "stdout",
     "output_type": "stream",
     "text": [
      "^^^^^^^^^^^^^^^^^^^^^^^^^^^^^^^^^^^^^^^^^^^^^^^^^^^^^^^^^^^^^^^^^^^^^^^^^^^^^^^^^^^^^^^^^^^^^^^^^^^^\n"
     ]
    },
    {
     "data": {
      "text/plain": [
       "'02 35 65 78 17'"
      ]
     },
     "metadata": {},
     "output_type": "display_data"
    },
    {
     "data": {
      "text/plain": [
       "'contact[ @ ]nextmove.fr'"
      ]
     },
     "metadata": {},
     "output_type": "display_data"
    },
    {
     "name": "stdout",
     "output_type": "stream",
     "text": [
      "******************************************************************************************************************************************************\n"
     ]
    },
    {
     "data": {
      "text/plain": [
       "['Innovapôle 76',\n",
       " '50 rue Ettore Bugatti',\n",
       " '76800 Saint-Etienne-du-Rouvray',\n",
       " '02 35 65 78 17 – contact[ @ ]nextmove.fr']"
      ]
     },
     "metadata": {},
     "output_type": "display_data"
    },
    {
     "name": "stdout",
     "output_type": "stream",
     "text": [
      "^^^^^^^^^^^^^^^^^^^^^^^^^^^^^^^^^^^^^^^^^^^^^^^^^^^^^^^^^^^^^^^^^^^^^^^^^^^^^^^^^^^^^^^^^^^^^^^^^^^^\n"
     ]
    },
    {
     "data": {
      "text/plain": [
       "'02 35 65 78 17'"
      ]
     },
     "metadata": {},
     "output_type": "display_data"
    },
    {
     "data": {
      "text/plain": [
       "'contact[ @ ]nextmove.fr'"
      ]
     },
     "metadata": {},
     "output_type": "display_data"
    },
    {
     "name": "stdout",
     "output_type": "stream",
     "text": [
      "******************************************************************************************************************************************************\n"
     ]
    },
    {
     "data": {
      "text/plain": [
       "['Innovapôle 76',\n",
       " '50 rue Ettore Bugatti',\n",
       " '76800 Saint-Etienne-du-Rouvray',\n",
       " '02 35 65 78 17 – contact[ @ ]nextmove.fr']"
      ]
     },
     "metadata": {},
     "output_type": "display_data"
    },
    {
     "name": "stdout",
     "output_type": "stream",
     "text": [
      "^^^^^^^^^^^^^^^^^^^^^^^^^^^^^^^^^^^^^^^^^^^^^^^^^^^^^^^^^^^^^^^^^^^^^^^^^^^^^^^^^^^^^^^^^^^^^^^^^^^^\n"
     ]
    },
    {
     "data": {
      "text/plain": [
       "'02 35 65 78 17'"
      ]
     },
     "metadata": {},
     "output_type": "display_data"
    },
    {
     "data": {
      "text/plain": [
       "'contact[ @ ]nextmove.fr'"
      ]
     },
     "metadata": {},
     "output_type": "display_data"
    },
    {
     "name": "stdout",
     "output_type": "stream",
     "text": [
      "******************************************************************************************************************************************************\n"
     ]
    },
    {
     "data": {
      "text/plain": [
       "['Innovapôle 76',\n",
       " '50 rue Ettore Bugatti',\n",
       " '76800 Saint-Etienne-du-Rouvray',\n",
       " '02 35 65 78 17 – contact[ @ ]nextmove.fr']"
      ]
     },
     "metadata": {},
     "output_type": "display_data"
    },
    {
     "name": "stdout",
     "output_type": "stream",
     "text": [
      "^^^^^^^^^^^^^^^^^^^^^^^^^^^^^^^^^^^^^^^^^^^^^^^^^^^^^^^^^^^^^^^^^^^^^^^^^^^^^^^^^^^^^^^^^^^^^^^^^^^^\n"
     ]
    },
    {
     "data": {
      "text/plain": [
       "'02 35 65 78 17'"
      ]
     },
     "metadata": {},
     "output_type": "display_data"
    },
    {
     "data": {
      "text/plain": [
       "'contact[ @ ]nextmove.fr'"
      ]
     },
     "metadata": {},
     "output_type": "display_data"
    },
    {
     "name": "stdout",
     "output_type": "stream",
     "text": [
      "******************************************************************************************************************************************************\n"
     ]
    },
    {
     "data": {
      "text/plain": [
       "['Innovapôle 76',\n",
       " '50 rue Ettore Bugatti',\n",
       " '76800 Saint-Etienne-du-Rouvray',\n",
       " '02 35 65 78 17 – contact[ @ ]nextmove.fr']"
      ]
     },
     "metadata": {},
     "output_type": "display_data"
    },
    {
     "name": "stdout",
     "output_type": "stream",
     "text": [
      "^^^^^^^^^^^^^^^^^^^^^^^^^^^^^^^^^^^^^^^^^^^^^^^^^^^^^^^^^^^^^^^^^^^^^^^^^^^^^^^^^^^^^^^^^^^^^^^^^^^^\n"
     ]
    },
    {
     "data": {
      "text/plain": [
       "'02 35 65 78 17'"
      ]
     },
     "metadata": {},
     "output_type": "display_data"
    },
    {
     "data": {
      "text/plain": [
       "'contact[ @ ]nextmove.fr'"
      ]
     },
     "metadata": {},
     "output_type": "display_data"
    },
    {
     "name": "stdout",
     "output_type": "stream",
     "text": [
      "******************************************************************************************************************************************************\n"
     ]
    },
    {
     "data": {
      "text/plain": [
       "['Medicen',\n",
       " '130, rue de Lourmel 75015 Paris',\n",
       " '01 79 68 10 87 / medicen[ @ ]medicen.org']"
      ]
     },
     "metadata": {},
     "output_type": "display_data"
    },
    {
     "name": "stdout",
     "output_type": "stream",
     "text": [
      "^^^^^^^^^^^^^^^^^^^^^^^^^^^^^^^^^^^^^^^^^^^^^^^^^^^^^^^^^^^^^^^^^^^^^^^^^^^^^^^^^^^^^^^^^^^^^^^^^^^^\n"
     ]
    },
    {
     "data": {
      "text/plain": [
       "'01 79 68 10 87'"
      ]
     },
     "metadata": {},
     "output_type": "display_data"
    },
    {
     "data": {
      "text/plain": [
       "'medicen[ @ ]medicen.org'"
      ]
     },
     "metadata": {},
     "output_type": "display_data"
    },
    {
     "name": "stdout",
     "output_type": "stream",
     "text": [
      "******************************************************************************************************************************************************\n"
     ]
    },
    {
     "data": {
      "text/plain": [
       "['Medicen',\n",
       " '130, rue de Lourmel 75015 Paris',\n",
       " '01 79 68 10 87 / medicen[ @ ]medicen.org']"
      ]
     },
     "metadata": {},
     "output_type": "display_data"
    },
    {
     "name": "stdout",
     "output_type": "stream",
     "text": [
      "^^^^^^^^^^^^^^^^^^^^^^^^^^^^^^^^^^^^^^^^^^^^^^^^^^^^^^^^^^^^^^^^^^^^^^^^^^^^^^^^^^^^^^^^^^^^^^^^^^^^\n"
     ]
    },
    {
     "data": {
      "text/plain": [
       "'01 79 68 10 87'"
      ]
     },
     "metadata": {},
     "output_type": "display_data"
    },
    {
     "data": {
      "text/plain": [
       "'medicen[ @ ]medicen.org'"
      ]
     },
     "metadata": {},
     "output_type": "display_data"
    },
    {
     "name": "stdout",
     "output_type": "stream",
     "text": [
      "******************************************************************************************************************************************************\n"
     ]
    },
    {
     "data": {
      "text/plain": [
       "['Medicen',\n",
       " '130, rue de Lourmel 75015 Paris',\n",
       " '01 79 68 10 87 / medicen[ @ ]medicen.org']"
      ]
     },
     "metadata": {},
     "output_type": "display_data"
    },
    {
     "name": "stdout",
     "output_type": "stream",
     "text": [
      "^^^^^^^^^^^^^^^^^^^^^^^^^^^^^^^^^^^^^^^^^^^^^^^^^^^^^^^^^^^^^^^^^^^^^^^^^^^^^^^^^^^^^^^^^^^^^^^^^^^^\n"
     ]
    },
    {
     "data": {
      "text/plain": [
       "'01 79 68 10 87'"
      ]
     },
     "metadata": {},
     "output_type": "display_data"
    },
    {
     "data": {
      "text/plain": [
       "'medicen[ @ ]medicen.org'"
      ]
     },
     "metadata": {},
     "output_type": "display_data"
    },
    {
     "name": "stdout",
     "output_type": "stream",
     "text": [
      "******************************************************************************************************************************************************\n"
     ]
    },
    {
     "data": {
      "text/plain": [
       "['Medicen',\n",
       " '130, rue de Lourmel 75015 Paris',\n",
       " '01 79 68 10 87 / medicen[ @ ]medicen.org']"
      ]
     },
     "metadata": {},
     "output_type": "display_data"
    },
    {
     "name": "stdout",
     "output_type": "stream",
     "text": [
      "^^^^^^^^^^^^^^^^^^^^^^^^^^^^^^^^^^^^^^^^^^^^^^^^^^^^^^^^^^^^^^^^^^^^^^^^^^^^^^^^^^^^^^^^^^^^^^^^^^^^\n"
     ]
    },
    {
     "data": {
      "text/plain": [
       "'01 79 68 10 87'"
      ]
     },
     "metadata": {},
     "output_type": "display_data"
    },
    {
     "data": {
      "text/plain": [
       "'medicen[ @ ]medicen.org'"
      ]
     },
     "metadata": {},
     "output_type": "display_data"
    },
    {
     "name": "stdout",
     "output_type": "stream",
     "text": [
      "******************************************************************************************************************************************************\n"
     ]
    },
    {
     "data": {
      "text/plain": [
       "['MINALOGIC',\n",
       " 'Maison Minatec - 3, parvis Louis Néel',\n",
       " '38054 GRENOBLE CEDEX 9',\n",
       " '04 38 78 19 47 / contact[ @ ]minalogic.com']"
      ]
     },
     "metadata": {},
     "output_type": "display_data"
    },
    {
     "name": "stdout",
     "output_type": "stream",
     "text": [
      "^^^^^^^^^^^^^^^^^^^^^^^^^^^^^^^^^^^^^^^^^^^^^^^^^^^^^^^^^^^^^^^^^^^^^^^^^^^^^^^^^^^^^^^^^^^^^^^^^^^^\n"
     ]
    },
    {
     "data": {
      "text/plain": [
       "'04 38 78 19 47'"
      ]
     },
     "metadata": {},
     "output_type": "display_data"
    },
    {
     "data": {
      "text/plain": [
       "'contact[ @ ]minalogic.com'"
      ]
     },
     "metadata": {},
     "output_type": "display_data"
    },
    {
     "name": "stdout",
     "output_type": "stream",
     "text": [
      "******************************************************************************************************************************************************\n"
     ]
    },
    {
     "data": {
      "text/plain": [
       "['MINALOGIC',\n",
       " 'Maison Minatec - 3, parvis Louis Néel',\n",
       " '38054 GRENOBLE CEDEX 9',\n",
       " '04 38 78 19 47 / contact[ @ ]minalogic.com']"
      ]
     },
     "metadata": {},
     "output_type": "display_data"
    },
    {
     "name": "stdout",
     "output_type": "stream",
     "text": [
      "^^^^^^^^^^^^^^^^^^^^^^^^^^^^^^^^^^^^^^^^^^^^^^^^^^^^^^^^^^^^^^^^^^^^^^^^^^^^^^^^^^^^^^^^^^^^^^^^^^^^\n"
     ]
    },
    {
     "data": {
      "text/plain": [
       "'04 38 78 19 47'"
      ]
     },
     "metadata": {},
     "output_type": "display_data"
    },
    {
     "data": {
      "text/plain": [
       "'contact[ @ ]minalogic.com'"
      ]
     },
     "metadata": {},
     "output_type": "display_data"
    },
    {
     "name": "stdout",
     "output_type": "stream",
     "text": [
      "******************************************************************************************************************************************************\n"
     ]
    },
    {
     "data": {
      "text/plain": [
       "['MINALOGIC',\n",
       " 'Maison Minatec - 3, parvis Louis Néel',\n",
       " '38054 GRENOBLE CEDEX 9',\n",
       " '04 38 78 19 47 / contact[ @ ]minalogic.com']"
      ]
     },
     "metadata": {},
     "output_type": "display_data"
    },
    {
     "name": "stdout",
     "output_type": "stream",
     "text": [
      "^^^^^^^^^^^^^^^^^^^^^^^^^^^^^^^^^^^^^^^^^^^^^^^^^^^^^^^^^^^^^^^^^^^^^^^^^^^^^^^^^^^^^^^^^^^^^^^^^^^^\n"
     ]
    },
    {
     "data": {
      "text/plain": [
       "'04 38 78 19 47'"
      ]
     },
     "metadata": {},
     "output_type": "display_data"
    },
    {
     "data": {
      "text/plain": [
       "'contact[ @ ]minalogic.com'"
      ]
     },
     "metadata": {},
     "output_type": "display_data"
    },
    {
     "name": "stdout",
     "output_type": "stream",
     "text": [
      "******************************************************************************************************************************************************\n"
     ]
    },
    {
     "data": {
      "text/plain": [
       "['MINALOGIC',\n",
       " 'Maison Minatec - 3, parvis Louis Néel',\n",
       " '38054 GRENOBLE CEDEX 9',\n",
       " '04 38 78 19 47 / contact[ @ ]minalogic.com']"
      ]
     },
     "metadata": {},
     "output_type": "display_data"
    },
    {
     "name": "stdout",
     "output_type": "stream",
     "text": [
      "^^^^^^^^^^^^^^^^^^^^^^^^^^^^^^^^^^^^^^^^^^^^^^^^^^^^^^^^^^^^^^^^^^^^^^^^^^^^^^^^^^^^^^^^^^^^^^^^^^^^\n"
     ]
    },
    {
     "data": {
      "text/plain": [
       "'04 38 78 19 47'"
      ]
     },
     "metadata": {},
     "output_type": "display_data"
    },
    {
     "data": {
      "text/plain": [
       "'contact[ @ ]minalogic.com'"
      ]
     },
     "metadata": {},
     "output_type": "display_data"
    },
    {
     "name": "stdout",
     "output_type": "stream",
     "text": [
      "******************************************************************************************************************************************************\n"
     ]
    },
    {
     "data": {
      "text/plain": [
       "['MINALOGIC',\n",
       " 'Maison Minatec - 3, parvis Louis Néel',\n",
       " '38054 GRENOBLE CEDEX 9',\n",
       " '04 38 78 19 47 / contact[ @ ]minalogic.com']"
      ]
     },
     "metadata": {},
     "output_type": "display_data"
    },
    {
     "name": "stdout",
     "output_type": "stream",
     "text": [
      "^^^^^^^^^^^^^^^^^^^^^^^^^^^^^^^^^^^^^^^^^^^^^^^^^^^^^^^^^^^^^^^^^^^^^^^^^^^^^^^^^^^^^^^^^^^^^^^^^^^^\n"
     ]
    },
    {
     "data": {
      "text/plain": [
       "'04 38 78 19 47'"
      ]
     },
     "metadata": {},
     "output_type": "display_data"
    },
    {
     "data": {
      "text/plain": [
       "'contact[ @ ]minalogic.com'"
      ]
     },
     "metadata": {},
     "output_type": "display_data"
    },
    {
     "name": "stdout",
     "output_type": "stream",
     "text": [
      "******************************************************************************************************************************************************\n"
     ]
    },
    {
     "data": {
      "text/plain": [
       "['MINALOGIC',\n",
       " 'Maison Minatec - 3, parvis Louis Néel',\n",
       " '38054 GRENOBLE CEDEX 9',\n",
       " '04 38 78 19 47 / contact[ @ ]minalogic.com']"
      ]
     },
     "metadata": {},
     "output_type": "display_data"
    },
    {
     "name": "stdout",
     "output_type": "stream",
     "text": [
      "^^^^^^^^^^^^^^^^^^^^^^^^^^^^^^^^^^^^^^^^^^^^^^^^^^^^^^^^^^^^^^^^^^^^^^^^^^^^^^^^^^^^^^^^^^^^^^^^^^^^\n"
     ]
    },
    {
     "data": {
      "text/plain": [
       "'04 38 78 19 47'"
      ]
     },
     "metadata": {},
     "output_type": "display_data"
    },
    {
     "data": {
      "text/plain": [
       "'contact[ @ ]minalogic.com'"
      ]
     },
     "metadata": {},
     "output_type": "display_data"
    },
    {
     "name": "stdout",
     "output_type": "stream",
     "text": [
      "******************************************************************************************************************************************************\n"
     ]
    },
    {
     "data": {
      "text/plain": [
       "['PMT - Pôle de compétitivité',\n",
       " 'TEMIS Innovation - 18 rue Alain Savary',\n",
       " '25000 Besançon']"
      ]
     },
     "metadata": {},
     "output_type": "display_data"
    },
    {
     "name": "stdout",
     "output_type": "stream",
     "text": [
      "^^^^^^^^^^^^^^^^^^^^^^^^^^^^^^^^^^^^^^^^^^^^^^^^^^^^^^^^^^^^^^^^^^^^^^^^^^^^^^^^^^^^^^^^^^^^^^^^^^^^\n"
     ]
    },
    {
     "data": {
      "text/plain": [
       "''"
      ]
     },
     "metadata": {},
     "output_type": "display_data"
    },
    {
     "data": {
      "text/plain": [
       "''"
      ]
     },
     "metadata": {},
     "output_type": "display_data"
    },
    {
     "name": "stdout",
     "output_type": "stream",
     "text": [
      "******************************************************************************************************************************************************\n"
     ]
    },
    {
     "data": {
      "text/plain": [
       "['PMT - Pôle de compétitivité',\n",
       " 'TEMIS Innovation - 18 rue Alain Savary',\n",
       " '25000 Besançon']"
      ]
     },
     "metadata": {},
     "output_type": "display_data"
    },
    {
     "name": "stdout",
     "output_type": "stream",
     "text": [
      "^^^^^^^^^^^^^^^^^^^^^^^^^^^^^^^^^^^^^^^^^^^^^^^^^^^^^^^^^^^^^^^^^^^^^^^^^^^^^^^^^^^^^^^^^^^^^^^^^^^^\n"
     ]
    },
    {
     "data": {
      "text/plain": [
       "''"
      ]
     },
     "metadata": {},
     "output_type": "display_data"
    },
    {
     "data": {
      "text/plain": [
       "''"
      ]
     },
     "metadata": {},
     "output_type": "display_data"
    },
    {
     "name": "stdout",
     "output_type": "stream",
     "text": [
      "******************************************************************************************************************************************************\n"
     ]
    },
    {
     "data": {
      "text/plain": [
       "['PMT - Pôle de compétitivité',\n",
       " 'TEMIS Innovation - 18 rue Alain Savary',\n",
       " '25000 Besançon']"
      ]
     },
     "metadata": {},
     "output_type": "display_data"
    },
    {
     "name": "stdout",
     "output_type": "stream",
     "text": [
      "^^^^^^^^^^^^^^^^^^^^^^^^^^^^^^^^^^^^^^^^^^^^^^^^^^^^^^^^^^^^^^^^^^^^^^^^^^^^^^^^^^^^^^^^^^^^^^^^^^^^\n"
     ]
    },
    {
     "data": {
      "text/plain": [
       "''"
      ]
     },
     "metadata": {},
     "output_type": "display_data"
    },
    {
     "data": {
      "text/plain": [
       "''"
      ]
     },
     "metadata": {},
     "output_type": "display_data"
    },
    {
     "name": "stdout",
     "output_type": "stream",
     "text": [
      "******************************************************************************************************************************************************\n"
     ]
    },
    {
     "data": {
      "text/plain": [
       "['Siège de Nuclear Valley - Bourgogne Franche Comté',\n",
       " 'Centre d’affaires du Pont Jean Richard',\n",
       " 'Bâtiment CMA – 1 Avenue de Verdun - BP 60190',\n",
       " '71105 Chalon sur Saône Cedex',\n",
       " '03 85 42 36 90 / contact[ @ ]nuclearvalley.com',\n",
       " 'Bureau Régional - Auvergne-Rhône-Alpes :',\n",
       " 'L-B7.05 7ème étage',\n",
       " '196 Avenue de Thiers',\n",
       " '69006 Lyon Cedex 03',\n",
       " 'Contact : contact[ @ ]nuclearvalley.com']"
      ]
     },
     "metadata": {},
     "output_type": "display_data"
    },
    {
     "name": "stdout",
     "output_type": "stream",
     "text": [
      "^^^^^^^^^^^^^^^^^^^^^^^^^^^^^^^^^^^^^^^^^^^^^^^^^^^^^^^^^^^^^^^^^^^^^^^^^^^^^^^^^^^^^^^^^^^^^^^^^^^^\n"
     ]
    },
    {
     "data": {
      "text/plain": [
       "'03 85 42 36 90'"
      ]
     },
     "metadata": {},
     "output_type": "display_data"
    },
    {
     "data": {
      "text/plain": [
       "'contact[ @ ]nuclearvalley.com / Contact : contact[ @ ]nuclearvalley.com'"
      ]
     },
     "metadata": {},
     "output_type": "display_data"
    },
    {
     "name": "stdout",
     "output_type": "stream",
     "text": [
      "******************************************************************************************************************************************************\n"
     ]
    },
    {
     "data": {
      "text/plain": [
       "['Siège de Nuclear Valley - Bourgogne Franche Comté',\n",
       " 'Centre d’affaires du Pont Jean Richard',\n",
       " 'Bâtiment CMA – 1 Avenue de Verdun - BP 60190',\n",
       " '71105 Chalon sur Saône Cedex',\n",
       " '03 85 42 36 90 / contact[ @ ]nuclearvalley.com',\n",
       " 'Bureau Régional - Auvergne-Rhône-Alpes :',\n",
       " 'L-B7.05 7ème étage',\n",
       " '196 Avenue de Thiers',\n",
       " '69006 Lyon Cedex 03',\n",
       " 'Contact : contact[ @ ]nuclearvalley.com']"
      ]
     },
     "metadata": {},
     "output_type": "display_data"
    },
    {
     "name": "stdout",
     "output_type": "stream",
     "text": [
      "^^^^^^^^^^^^^^^^^^^^^^^^^^^^^^^^^^^^^^^^^^^^^^^^^^^^^^^^^^^^^^^^^^^^^^^^^^^^^^^^^^^^^^^^^^^^^^^^^^^^\n"
     ]
    },
    {
     "data": {
      "text/plain": [
       "'03 85 42 36 90'"
      ]
     },
     "metadata": {},
     "output_type": "display_data"
    },
    {
     "data": {
      "text/plain": [
       "'contact[ @ ]nuclearvalley.com / Contact : contact[ @ ]nuclearvalley.com'"
      ]
     },
     "metadata": {},
     "output_type": "display_data"
    },
    {
     "name": "stdout",
     "output_type": "stream",
     "text": [
      "******************************************************************************************************************************************************\n"
     ]
    },
    {
     "data": {
      "text/plain": [
       "['Siège de Nuclear Valley - Bourgogne Franche Comté',\n",
       " 'Centre d’affaires du Pont Jean Richard',\n",
       " 'Bâtiment CMA – 1 Avenue de Verdun - BP 60190',\n",
       " '71105 Chalon sur Saône Cedex',\n",
       " '03 85 42 36 90 / contact[ @ ]nuclearvalley.com',\n",
       " 'Bureau Régional - Auvergne-Rhône-Alpes :',\n",
       " 'L-B7.05 7ème étage',\n",
       " '196 Avenue de Thiers',\n",
       " '69006 Lyon Cedex 03',\n",
       " 'Contact : contact[ @ ]nuclearvalley.com']"
      ]
     },
     "metadata": {},
     "output_type": "display_data"
    },
    {
     "name": "stdout",
     "output_type": "stream",
     "text": [
      "^^^^^^^^^^^^^^^^^^^^^^^^^^^^^^^^^^^^^^^^^^^^^^^^^^^^^^^^^^^^^^^^^^^^^^^^^^^^^^^^^^^^^^^^^^^^^^^^^^^^\n"
     ]
    },
    {
     "data": {
      "text/plain": [
       "'03 85 42 36 90'"
      ]
     },
     "metadata": {},
     "output_type": "display_data"
    },
    {
     "data": {
      "text/plain": [
       "'contact[ @ ]nuclearvalley.com / Contact : contact[ @ ]nuclearvalley.com'"
      ]
     },
     "metadata": {},
     "output_type": "display_data"
    },
    {
     "name": "stdout",
     "output_type": "stream",
     "text": [
      "******************************************************************************************************************************************************\n"
     ]
    },
    {
     "data": {
      "text/plain": [
       "['Siège de Nuclear Valley - Bourgogne Franche Comté',\n",
       " 'Centre d’affaires du Pont Jean Richard',\n",
       " 'Bâtiment CMA – 1 Avenue de Verdun - BP 60190',\n",
       " '71105 Chalon sur Saône Cedex',\n",
       " '03 85 42 36 90 / contact[ @ ]nuclearvalley.com',\n",
       " 'Bureau Régional - Auvergne-Rhône-Alpes :',\n",
       " 'L-B7.05 7ème étage',\n",
       " '196 Avenue de Thiers',\n",
       " '69006 Lyon Cedex 03',\n",
       " 'Contact : contact[ @ ]nuclearvalley.com']"
      ]
     },
     "metadata": {},
     "output_type": "display_data"
    },
    {
     "name": "stdout",
     "output_type": "stream",
     "text": [
      "^^^^^^^^^^^^^^^^^^^^^^^^^^^^^^^^^^^^^^^^^^^^^^^^^^^^^^^^^^^^^^^^^^^^^^^^^^^^^^^^^^^^^^^^^^^^^^^^^^^^\n"
     ]
    },
    {
     "data": {
      "text/plain": [
       "'03 85 42 36 90'"
      ]
     },
     "metadata": {},
     "output_type": "display_data"
    },
    {
     "data": {
      "text/plain": [
       "'contact[ @ ]nuclearvalley.com / Contact : contact[ @ ]nuclearvalley.com'"
      ]
     },
     "metadata": {},
     "output_type": "display_data"
    },
    {
     "name": "stdout",
     "output_type": "stream",
     "text": [
      "******************************************************************************************************************************************************\n"
     ]
    },
    {
     "data": {
      "text/plain": [
       "['Siège de Nuclear Valley - Bourgogne Franche Comté',\n",
       " 'Centre d’affaires du Pont Jean Richard',\n",
       " 'Bâtiment CMA – 1 Avenue de Verdun - BP 60190',\n",
       " '71105 Chalon sur Saône Cedex',\n",
       " '03 85 42 36 90 / contact[ @ ]nuclearvalley.com',\n",
       " 'Bureau Régional - Auvergne-Rhône-Alpes :',\n",
       " 'L-B7.05 7ème étage',\n",
       " '196 Avenue de Thiers',\n",
       " '69006 Lyon Cedex 03',\n",
       " 'Contact : contact[ @ ]nuclearvalley.com']"
      ]
     },
     "metadata": {},
     "output_type": "display_data"
    },
    {
     "name": "stdout",
     "output_type": "stream",
     "text": [
      "^^^^^^^^^^^^^^^^^^^^^^^^^^^^^^^^^^^^^^^^^^^^^^^^^^^^^^^^^^^^^^^^^^^^^^^^^^^^^^^^^^^^^^^^^^^^^^^^^^^^\n"
     ]
    },
    {
     "data": {
      "text/plain": [
       "'03 85 42 36 90'"
      ]
     },
     "metadata": {},
     "output_type": "display_data"
    },
    {
     "data": {
      "text/plain": [
       "'contact[ @ ]nuclearvalley.com / Contact : contact[ @ ]nuclearvalley.com'"
      ]
     },
     "metadata": {},
     "output_type": "display_data"
    },
    {
     "name": "stdout",
     "output_type": "stream",
     "text": [
      "******************************************************************************************************************************************************\n"
     ]
    },
    {
     "data": {
      "text/plain": [
       "['OPTITEC - C/o LAM',\n",
       " 'PACA',\n",
       " '38, rue Joliot-Curie',\n",
       " '13388 Marseille cedex 13',\n",
       " '04 91 05 59 69 / contact[ @ ]pole-optitec.com',\n",
       " 'Occitanie',\n",
       " '78 Allée Jean Jaures 31000 TOULOUSE']"
      ]
     },
     "metadata": {},
     "output_type": "display_data"
    },
    {
     "name": "stdout",
     "output_type": "stream",
     "text": [
      "^^^^^^^^^^^^^^^^^^^^^^^^^^^^^^^^^^^^^^^^^^^^^^^^^^^^^^^^^^^^^^^^^^^^^^^^^^^^^^^^^^^^^^^^^^^^^^^^^^^^\n"
     ]
    },
    {
     "data": {
      "text/plain": [
       "'04 91 05 59 69'"
      ]
     },
     "metadata": {},
     "output_type": "display_data"
    },
    {
     "data": {
      "text/plain": [
       "'contact[ @ ]pole-optitec.com'"
      ]
     },
     "metadata": {},
     "output_type": "display_data"
    },
    {
     "name": "stdout",
     "output_type": "stream",
     "text": [
      "******************************************************************************************************************************************************\n"
     ]
    },
    {
     "data": {
      "text/plain": [
       "['OPTITEC - C/o LAM',\n",
       " 'PACA',\n",
       " '38, rue Joliot-Curie',\n",
       " '13388 Marseille cedex 13',\n",
       " '04 91 05 59 69 / contact[ @ ]pole-optitec.com',\n",
       " 'Occitanie',\n",
       " '78 Allée Jean Jaures 31000 TOULOUSE']"
      ]
     },
     "metadata": {},
     "output_type": "display_data"
    },
    {
     "name": "stdout",
     "output_type": "stream",
     "text": [
      "^^^^^^^^^^^^^^^^^^^^^^^^^^^^^^^^^^^^^^^^^^^^^^^^^^^^^^^^^^^^^^^^^^^^^^^^^^^^^^^^^^^^^^^^^^^^^^^^^^^^\n"
     ]
    },
    {
     "data": {
      "text/plain": [
       "'04 91 05 59 69'"
      ]
     },
     "metadata": {},
     "output_type": "display_data"
    },
    {
     "data": {
      "text/plain": [
       "'contact[ @ ]pole-optitec.com'"
      ]
     },
     "metadata": {},
     "output_type": "display_data"
    },
    {
     "name": "stdout",
     "output_type": "stream",
     "text": [
      "******************************************************************************************************************************************************\n"
     ]
    },
    {
     "data": {
      "text/plain": [
       "['OPTITEC - C/o LAM',\n",
       " 'PACA',\n",
       " '38, rue Joliot-Curie',\n",
       " '13388 Marseille cedex 13',\n",
       " '04 91 05 59 69 / contact[ @ ]pole-optitec.com',\n",
       " 'Occitanie',\n",
       " '78 Allée Jean Jaures 31000 TOULOUSE']"
      ]
     },
     "metadata": {},
     "output_type": "display_data"
    },
    {
     "name": "stdout",
     "output_type": "stream",
     "text": [
      "^^^^^^^^^^^^^^^^^^^^^^^^^^^^^^^^^^^^^^^^^^^^^^^^^^^^^^^^^^^^^^^^^^^^^^^^^^^^^^^^^^^^^^^^^^^^^^^^^^^^\n"
     ]
    },
    {
     "data": {
      "text/plain": [
       "'04 91 05 59 69'"
      ]
     },
     "metadata": {},
     "output_type": "display_data"
    },
    {
     "data": {
      "text/plain": [
       "'contact[ @ ]pole-optitec.com'"
      ]
     },
     "metadata": {},
     "output_type": "display_data"
    },
    {
     "name": "stdout",
     "output_type": "stream",
     "text": [
      "******************************************************************************************************************************************************\n"
     ]
    },
    {
     "data": {
      "text/plain": [
       "['OPTITEC - C/o LAM',\n",
       " 'PACA',\n",
       " '38, rue Joliot-Curie',\n",
       " '13388 Marseille cedex 13',\n",
       " '04 91 05 59 69 / contact[ @ ]pole-optitec.com',\n",
       " 'Occitanie',\n",
       " '78 Allée Jean Jaures 31000 TOULOUSE']"
      ]
     },
     "metadata": {},
     "output_type": "display_data"
    },
    {
     "name": "stdout",
     "output_type": "stream",
     "text": [
      "^^^^^^^^^^^^^^^^^^^^^^^^^^^^^^^^^^^^^^^^^^^^^^^^^^^^^^^^^^^^^^^^^^^^^^^^^^^^^^^^^^^^^^^^^^^^^^^^^^^^\n"
     ]
    },
    {
     "data": {
      "text/plain": [
       "'04 91 05 59 69'"
      ]
     },
     "metadata": {},
     "output_type": "display_data"
    },
    {
     "data": {
      "text/plain": [
       "'contact[ @ ]pole-optitec.com'"
      ]
     },
     "metadata": {},
     "output_type": "display_data"
    },
    {
     "name": "stdout",
     "output_type": "stream",
     "text": [
      "******************************************************************************************************************************************************\n"
     ]
    },
    {
     "data": {
      "text/plain": [
       "['Pôle Européen de la Céramique',\n",
       " '1 avenue d’Ester',\n",
       " '87069 Limoges cedex France',\n",
       " '+33 5 55 38 16 21',\n",
       " 'contact[ @ ]cerameurop.com']"
      ]
     },
     "metadata": {},
     "output_type": "display_data"
    },
    {
     "name": "stdout",
     "output_type": "stream",
     "text": [
      "^^^^^^^^^^^^^^^^^^^^^^^^^^^^^^^^^^^^^^^^^^^^^^^^^^^^^^^^^^^^^^^^^^^^^^^^^^^^^^^^^^^^^^^^^^^^^^^^^^^^\n"
     ]
    },
    {
     "data": {
      "text/plain": [
       "'+33 5 55 38 16 21'"
      ]
     },
     "metadata": {},
     "output_type": "display_data"
    },
    {
     "data": {
      "text/plain": [
       "'contact[ @ ]cerameurop.com'"
      ]
     },
     "metadata": {},
     "output_type": "display_data"
    },
    {
     "name": "stdout",
     "output_type": "stream",
     "text": [
      "******************************************************************************************************************************************************\n"
     ]
    },
    {
     "data": {
      "text/plain": [
       "['Pôle Européen de la Céramique',\n",
       " '1 avenue d’Ester',\n",
       " '87069 Limoges cedex France',\n",
       " '+33 5 55 38 16 21',\n",
       " 'contact[ @ ]cerameurop.com']"
      ]
     },
     "metadata": {},
     "output_type": "display_data"
    },
    {
     "name": "stdout",
     "output_type": "stream",
     "text": [
      "^^^^^^^^^^^^^^^^^^^^^^^^^^^^^^^^^^^^^^^^^^^^^^^^^^^^^^^^^^^^^^^^^^^^^^^^^^^^^^^^^^^^^^^^^^^^^^^^^^^^\n"
     ]
    },
    {
     "data": {
      "text/plain": [
       "'+33 5 55 38 16 21'"
      ]
     },
     "metadata": {},
     "output_type": "display_data"
    },
    {
     "data": {
      "text/plain": [
       "'contact[ @ ]cerameurop.com'"
      ]
     },
     "metadata": {},
     "output_type": "display_data"
    },
    {
     "name": "stdout",
     "output_type": "stream",
     "text": [
      "******************************************************************************************************************************************************\n"
     ]
    },
    {
     "data": {
      "text/plain": [
       "['Pôle Européen de la Céramique',\n",
       " '1 avenue d’Ester',\n",
       " '87069 Limoges cedex France',\n",
       " '+33 5 55 38 16 21',\n",
       " 'contact[ @ ]cerameurop.com']"
      ]
     },
     "metadata": {},
     "output_type": "display_data"
    },
    {
     "name": "stdout",
     "output_type": "stream",
     "text": [
      "^^^^^^^^^^^^^^^^^^^^^^^^^^^^^^^^^^^^^^^^^^^^^^^^^^^^^^^^^^^^^^^^^^^^^^^^^^^^^^^^^^^^^^^^^^^^^^^^^^^^\n"
     ]
    },
    {
     "data": {
      "text/plain": [
       "'+33 5 55 38 16 21'"
      ]
     },
     "metadata": {},
     "output_type": "display_data"
    },
    {
     "data": {
      "text/plain": [
       "'contact[ @ ]cerameurop.com'"
      ]
     },
     "metadata": {},
     "output_type": "display_data"
    },
    {
     "name": "stdout",
     "output_type": "stream",
     "text": [
      "******************************************************************************************************************************************************\n"
     ]
    },
    {
     "data": {
      "text/plain": [
       "['Pôle Européen de la Céramique',\n",
       " '1 avenue d’Ester',\n",
       " '87069 Limoges cedex France',\n",
       " '+33 5 55 38 16 21',\n",
       " 'contact[ @ ]cerameurop.com']"
      ]
     },
     "metadata": {},
     "output_type": "display_data"
    },
    {
     "name": "stdout",
     "output_type": "stream",
     "text": [
      "^^^^^^^^^^^^^^^^^^^^^^^^^^^^^^^^^^^^^^^^^^^^^^^^^^^^^^^^^^^^^^^^^^^^^^^^^^^^^^^^^^^^^^^^^^^^^^^^^^^^\n"
     ]
    },
    {
     "data": {
      "text/plain": [
       "'+33 5 55 38 16 21'"
      ]
     },
     "metadata": {},
     "output_type": "display_data"
    },
    {
     "data": {
      "text/plain": [
       "'contact[ @ ]cerameurop.com'"
      ]
     },
     "metadata": {},
     "output_type": "display_data"
    },
    {
     "name": "stdout",
     "output_type": "stream",
     "text": [
      "******************************************************************************************************************************************************\n"
     ]
    },
    {
     "data": {
      "text/plain": [
       "['Pôle Mer Bretagne Atlantique',\n",
       " '525 Avenue Alexis de Rochon',\n",
       " '29280 Plouzané']"
      ]
     },
     "metadata": {},
     "output_type": "display_data"
    },
    {
     "name": "stdout",
     "output_type": "stream",
     "text": [
      "^^^^^^^^^^^^^^^^^^^^^^^^^^^^^^^^^^^^^^^^^^^^^^^^^^^^^^^^^^^^^^^^^^^^^^^^^^^^^^^^^^^^^^^^^^^^^^^^^^^^\n"
     ]
    },
    {
     "data": {
      "text/plain": [
       "''"
      ]
     },
     "metadata": {},
     "output_type": "display_data"
    },
    {
     "data": {
      "text/plain": [
       "''"
      ]
     },
     "metadata": {},
     "output_type": "display_data"
    },
    {
     "name": "stdout",
     "output_type": "stream",
     "text": [
      "******************************************************************************************************************************************************\n"
     ]
    },
    {
     "data": {
      "text/plain": [
       "['Pôle Mer Méditerranée',\n",
       " '93 rue Forum de la Méditerranée',\n",
       " 'Technopôle de la Mer – CS 60 033',\n",
       " '83196 Ollioules cedex',\n",
       " '04 89 33 00 70 / contact[ @ ]polemermediterranee.com']"
      ]
     },
     "metadata": {},
     "output_type": "display_data"
    },
    {
     "name": "stdout",
     "output_type": "stream",
     "text": [
      "^^^^^^^^^^^^^^^^^^^^^^^^^^^^^^^^^^^^^^^^^^^^^^^^^^^^^^^^^^^^^^^^^^^^^^^^^^^^^^^^^^^^^^^^^^^^^^^^^^^^\n"
     ]
    },
    {
     "data": {
      "text/plain": [
       "'04 89 33 00 70'"
      ]
     },
     "metadata": {},
     "output_type": "display_data"
    },
    {
     "data": {
      "text/plain": [
       "'contact[ @ ]polemermediterranee.com'"
      ]
     },
     "metadata": {},
     "output_type": "display_data"
    },
    {
     "name": "stdout",
     "output_type": "stream",
     "text": [
      "******************************************************************************************************************************************************\n"
     ]
    },
    {
     "data": {
      "text/plain": [
       "['Pôle Mer Méditerranée',\n",
       " '93 rue Forum de la Méditerranée',\n",
       " 'Technopôle de la Mer – CS 60 033',\n",
       " '83196 Ollioules cedex',\n",
       " '04 89 33 00 70 / contact[ @ ]polemermediterranee.com']"
      ]
     },
     "metadata": {},
     "output_type": "display_data"
    },
    {
     "name": "stdout",
     "output_type": "stream",
     "text": [
      "^^^^^^^^^^^^^^^^^^^^^^^^^^^^^^^^^^^^^^^^^^^^^^^^^^^^^^^^^^^^^^^^^^^^^^^^^^^^^^^^^^^^^^^^^^^^^^^^^^^^\n"
     ]
    },
    {
     "data": {
      "text/plain": [
       "'04 89 33 00 70'"
      ]
     },
     "metadata": {},
     "output_type": "display_data"
    },
    {
     "data": {
      "text/plain": [
       "'contact[ @ ]polemermediterranee.com'"
      ]
     },
     "metadata": {},
     "output_type": "display_data"
    },
    {
     "name": "stdout",
     "output_type": "stream",
     "text": [
      "******************************************************************************************************************************************************\n"
     ]
    },
    {
     "data": {
      "text/plain": [
       "['Pôle Mer Méditerranée',\n",
       " '93 rue Forum de la Méditerranée',\n",
       " 'Technopôle de la Mer – CS 60 033',\n",
       " '83196 Ollioules cedex',\n",
       " '04 89 33 00 70 / contact[ @ ]polemermediterranee.com']"
      ]
     },
     "metadata": {},
     "output_type": "display_data"
    },
    {
     "name": "stdout",
     "output_type": "stream",
     "text": [
      "^^^^^^^^^^^^^^^^^^^^^^^^^^^^^^^^^^^^^^^^^^^^^^^^^^^^^^^^^^^^^^^^^^^^^^^^^^^^^^^^^^^^^^^^^^^^^^^^^^^^\n"
     ]
    },
    {
     "data": {
      "text/plain": [
       "'04 89 33 00 70'"
      ]
     },
     "metadata": {},
     "output_type": "display_data"
    },
    {
     "data": {
      "text/plain": [
       "'contact[ @ ]polemermediterranee.com'"
      ]
     },
     "metadata": {},
     "output_type": "display_data"
    },
    {
     "name": "stdout",
     "output_type": "stream",
     "text": [
      "******************************************************************************************************************************************************\n"
     ]
    },
    {
     "data": {
      "text/plain": [
       "['Pôle Mer Méditerranée',\n",
       " '93 rue Forum de la Méditerranée',\n",
       " 'Technopôle de la Mer – CS 60 033',\n",
       " '83196 Ollioules cedex',\n",
       " '04 89 33 00 70 / contact[ @ ]polemermediterranee.com']"
      ]
     },
     "metadata": {},
     "output_type": "display_data"
    },
    {
     "name": "stdout",
     "output_type": "stream",
     "text": [
      "^^^^^^^^^^^^^^^^^^^^^^^^^^^^^^^^^^^^^^^^^^^^^^^^^^^^^^^^^^^^^^^^^^^^^^^^^^^^^^^^^^^^^^^^^^^^^^^^^^^^\n"
     ]
    },
    {
     "data": {
      "text/plain": [
       "'04 89 33 00 70'"
      ]
     },
     "metadata": {},
     "output_type": "display_data"
    },
    {
     "data": {
      "text/plain": [
       "'contact[ @ ]polemermediterranee.com'"
      ]
     },
     "metadata": {},
     "output_type": "display_data"
    },
    {
     "name": "stdout",
     "output_type": "stream",
     "text": [
      "******************************************************************************************************************************************************\n"
     ]
    },
    {
     "data": {
      "text/plain": [
       "['PÔLE S2E2',\n",
       " '10 rue Thalès de Milet',\n",
       " '37100 Tours',\n",
       " '02 47 42 41 21 / contact[ @ ]s2e2.fr']"
      ]
     },
     "metadata": {},
     "output_type": "display_data"
    },
    {
     "name": "stdout",
     "output_type": "stream",
     "text": [
      "^^^^^^^^^^^^^^^^^^^^^^^^^^^^^^^^^^^^^^^^^^^^^^^^^^^^^^^^^^^^^^^^^^^^^^^^^^^^^^^^^^^^^^^^^^^^^^^^^^^^\n"
     ]
    },
    {
     "data": {
      "text/plain": [
       "'02 47 42 41 21'"
      ]
     },
     "metadata": {},
     "output_type": "display_data"
    },
    {
     "data": {
      "text/plain": [
       "'contact[ @ ]s2e2.fr'"
      ]
     },
     "metadata": {},
     "output_type": "display_data"
    },
    {
     "name": "stdout",
     "output_type": "stream",
     "text": [
      "******************************************************************************************************************************************************\n"
     ]
    },
    {
     "data": {
      "text/plain": [
       "['PÔLE S2E2',\n",
       " '10 rue Thalès de Milet',\n",
       " '37100 Tours',\n",
       " '02 47 42 41 21 / contact[ @ ]s2e2.fr']"
      ]
     },
     "metadata": {},
     "output_type": "display_data"
    },
    {
     "name": "stdout",
     "output_type": "stream",
     "text": [
      "^^^^^^^^^^^^^^^^^^^^^^^^^^^^^^^^^^^^^^^^^^^^^^^^^^^^^^^^^^^^^^^^^^^^^^^^^^^^^^^^^^^^^^^^^^^^^^^^^^^^\n"
     ]
    },
    {
     "data": {
      "text/plain": [
       "'02 47 42 41 21'"
      ]
     },
     "metadata": {},
     "output_type": "display_data"
    },
    {
     "data": {
      "text/plain": [
       "'contact[ @ ]s2e2.fr'"
      ]
     },
     "metadata": {},
     "output_type": "display_data"
    },
    {
     "name": "stdout",
     "output_type": "stream",
     "text": [
      "******************************************************************************************************************************************************\n"
     ]
    },
    {
     "data": {
      "text/plain": [
       "['PÔLE S2E2',\n",
       " '10 rue Thalès de Milet',\n",
       " '37100 Tours',\n",
       " '02 47 42 41 21 / contact[ @ ]s2e2.fr']"
      ]
     },
     "metadata": {},
     "output_type": "display_data"
    },
    {
     "name": "stdout",
     "output_type": "stream",
     "text": [
      "^^^^^^^^^^^^^^^^^^^^^^^^^^^^^^^^^^^^^^^^^^^^^^^^^^^^^^^^^^^^^^^^^^^^^^^^^^^^^^^^^^^^^^^^^^^^^^^^^^^^\n"
     ]
    },
    {
     "data": {
      "text/plain": [
       "'02 47 42 41 21'"
      ]
     },
     "metadata": {},
     "output_type": "display_data"
    },
    {
     "data": {
      "text/plain": [
       "'contact[ @ ]s2e2.fr'"
      ]
     },
     "metadata": {},
     "output_type": "display_data"
    },
    {
     "name": "stdout",
     "output_type": "stream",
     "text": [
      "******************************************************************************************************************************************************\n"
     ]
    },
    {
     "data": {
      "text/plain": [
       "['PÔLE S2E2',\n",
       " '10 rue Thalès de Milet',\n",
       " '37100 Tours',\n",
       " '02 47 42 41 21 / contact[ @ ]s2e2.fr']"
      ]
     },
     "metadata": {},
     "output_type": "display_data"
    },
    {
     "name": "stdout",
     "output_type": "stream",
     "text": [
      "^^^^^^^^^^^^^^^^^^^^^^^^^^^^^^^^^^^^^^^^^^^^^^^^^^^^^^^^^^^^^^^^^^^^^^^^^^^^^^^^^^^^^^^^^^^^^^^^^^^^\n"
     ]
    },
    {
     "data": {
      "text/plain": [
       "'02 47 42 41 21'"
      ]
     },
     "metadata": {},
     "output_type": "display_data"
    },
    {
     "data": {
      "text/plain": [
       "'contact[ @ ]s2e2.fr'"
      ]
     },
     "metadata": {},
     "output_type": "display_data"
    },
    {
     "name": "stdout",
     "output_type": "stream",
     "text": [
      "******************************************************************************************************************************************************\n"
     ]
    },
    {
     "data": {
      "text/plain": [
       "['Pôle SCS',\n",
       " 'Place Paul Borde 13790 Rousset',\n",
       " 'Tél : 04 42 53 82 80 / contact[ @ ]pole-scs.org',\n",
       " 'Site de Sophia-Antipolis',\n",
       " 'Business Pôle',\n",
       " '1047 route des Dolines, Allée Pierre Ziller',\n",
       " '06560 Valbonne']"
      ]
     },
     "metadata": {},
     "output_type": "display_data"
    },
    {
     "name": "stdout",
     "output_type": "stream",
     "text": [
      "^^^^^^^^^^^^^^^^^^^^^^^^^^^^^^^^^^^^^^^^^^^^^^^^^^^^^^^^^^^^^^^^^^^^^^^^^^^^^^^^^^^^^^^^^^^^^^^^^^^^\n"
     ]
    },
    {
     "data": {
      "text/plain": [
       "'Tél : 04 42 53 82 80'"
      ]
     },
     "metadata": {},
     "output_type": "display_data"
    },
    {
     "data": {
      "text/plain": [
       "'contact[ @ ]pole-scs.org'"
      ]
     },
     "metadata": {},
     "output_type": "display_data"
    },
    {
     "name": "stdout",
     "output_type": "stream",
     "text": [
      "******************************************************************************************************************************************************\n"
     ]
    },
    {
     "data": {
      "text/plain": [
       "['Pôle SCS',\n",
       " 'Place Paul Borde 13790 Rousset',\n",
       " 'Tél : 04 42 53 82 80 / contact[ @ ]pole-scs.org',\n",
       " 'Site de Sophia-Antipolis',\n",
       " 'Business Pôle',\n",
       " '1047 route des Dolines, Allée Pierre Ziller',\n",
       " '06560 Valbonne']"
      ]
     },
     "metadata": {},
     "output_type": "display_data"
    },
    {
     "name": "stdout",
     "output_type": "stream",
     "text": [
      "^^^^^^^^^^^^^^^^^^^^^^^^^^^^^^^^^^^^^^^^^^^^^^^^^^^^^^^^^^^^^^^^^^^^^^^^^^^^^^^^^^^^^^^^^^^^^^^^^^^^\n"
     ]
    },
    {
     "data": {
      "text/plain": [
       "'Tél : 04 42 53 82 80'"
      ]
     },
     "metadata": {},
     "output_type": "display_data"
    },
    {
     "data": {
      "text/plain": [
       "'contact[ @ ]pole-scs.org'"
      ]
     },
     "metadata": {},
     "output_type": "display_data"
    },
    {
     "name": "stdout",
     "output_type": "stream",
     "text": [
      "******************************************************************************************************************************************************\n"
     ]
    },
    {
     "data": {
      "text/plain": [
       "['Pôle SCS',\n",
       " 'Place Paul Borde 13790 Rousset',\n",
       " 'Tél : 04 42 53 82 80 / contact[ @ ]pole-scs.org',\n",
       " 'Site de Sophia-Antipolis',\n",
       " 'Business Pôle',\n",
       " '1047 route des Dolines, Allée Pierre Ziller',\n",
       " '06560 Valbonne']"
      ]
     },
     "metadata": {},
     "output_type": "display_data"
    },
    {
     "name": "stdout",
     "output_type": "stream",
     "text": [
      "^^^^^^^^^^^^^^^^^^^^^^^^^^^^^^^^^^^^^^^^^^^^^^^^^^^^^^^^^^^^^^^^^^^^^^^^^^^^^^^^^^^^^^^^^^^^^^^^^^^^\n"
     ]
    },
    {
     "data": {
      "text/plain": [
       "'Tél : 04 42 53 82 80'"
      ]
     },
     "metadata": {},
     "output_type": "display_data"
    },
    {
     "data": {
      "text/plain": [
       "'contact[ @ ]pole-scs.org'"
      ]
     },
     "metadata": {},
     "output_type": "display_data"
    },
    {
     "name": "stdout",
     "output_type": "stream",
     "text": [
      "******************************************************************************************************************************************************\n"
     ]
    },
    {
     "data": {
      "text/plain": [
       "['Pôle SCS',\n",
       " 'Place Paul Borde 13790 Rousset',\n",
       " 'Tél : 04 42 53 82 80 / contact[ @ ]pole-scs.org',\n",
       " 'Site de Sophia-Antipolis',\n",
       " 'Business Pôle',\n",
       " '1047 route des Dolines, Allée Pierre Ziller',\n",
       " '06560 Valbonne']"
      ]
     },
     "metadata": {},
     "output_type": "display_data"
    },
    {
     "name": "stdout",
     "output_type": "stream",
     "text": [
      "^^^^^^^^^^^^^^^^^^^^^^^^^^^^^^^^^^^^^^^^^^^^^^^^^^^^^^^^^^^^^^^^^^^^^^^^^^^^^^^^^^^^^^^^^^^^^^^^^^^^\n"
     ]
    },
    {
     "data": {
      "text/plain": [
       "'Tél : 04 42 53 82 80'"
      ]
     },
     "metadata": {},
     "output_type": "display_data"
    },
    {
     "data": {
      "text/plain": [
       "'contact[ @ ]pole-scs.org'"
      ]
     },
     "metadata": {},
     "output_type": "display_data"
    },
    {
     "name": "stdout",
     "output_type": "stream",
     "text": [
      "******************************************************************************************************************************************************\n"
     ]
    },
    {
     "data": {
      "text/plain": [
       "['Le Pôle TES',\n",
       " 'Bâtiment Érable, Campus EffiScience',\n",
       " '8 Rue Léopold Sédar Senghor, 14460 COLOMBELLES',\n",
       " '02 31 53 63 30 / contact[ @ ]pole-tes.com']"
      ]
     },
     "metadata": {},
     "output_type": "display_data"
    },
    {
     "name": "stdout",
     "output_type": "stream",
     "text": [
      "^^^^^^^^^^^^^^^^^^^^^^^^^^^^^^^^^^^^^^^^^^^^^^^^^^^^^^^^^^^^^^^^^^^^^^^^^^^^^^^^^^^^^^^^^^^^^^^^^^^^\n"
     ]
    },
    {
     "data": {
      "text/plain": [
       "'02 31 53 63 30'"
      ]
     },
     "metadata": {},
     "output_type": "display_data"
    },
    {
     "data": {
      "text/plain": [
       "'contact[ @ ]pole-tes.com'"
      ]
     },
     "metadata": {},
     "output_type": "display_data"
    },
    {
     "name": "stdout",
     "output_type": "stream",
     "text": [
      "******************************************************************************************************************************************************\n"
     ]
    },
    {
     "data": {
      "text/plain": [
       "['Le Pôle TES',\n",
       " 'Bâtiment Érable, Campus EffiScience',\n",
       " '8 Rue Léopold Sédar Senghor, 14460 COLOMBELLES',\n",
       " '02 31 53 63 30 / contact[ @ ]pole-tes.com']"
      ]
     },
     "metadata": {},
     "output_type": "display_data"
    },
    {
     "name": "stdout",
     "output_type": "stream",
     "text": [
      "^^^^^^^^^^^^^^^^^^^^^^^^^^^^^^^^^^^^^^^^^^^^^^^^^^^^^^^^^^^^^^^^^^^^^^^^^^^^^^^^^^^^^^^^^^^^^^^^^^^^\n"
     ]
    },
    {
     "data": {
      "text/plain": [
       "'02 31 53 63 30'"
      ]
     },
     "metadata": {},
     "output_type": "display_data"
    },
    {
     "data": {
      "text/plain": [
       "'contact[ @ ]pole-tes.com'"
      ]
     },
     "metadata": {},
     "output_type": "display_data"
    },
    {
     "name": "stdout",
     "output_type": "stream",
     "text": [
      "******************************************************************************************************************************************************\n"
     ]
    },
    {
     "data": {
      "text/plain": [
       "['Le Pôle TES',\n",
       " 'Bâtiment Érable, Campus EffiScience',\n",
       " '8 Rue Léopold Sédar Senghor, 14460 COLOMBELLES',\n",
       " '02 31 53 63 30 / contact[ @ ]pole-tes.com']"
      ]
     },
     "metadata": {},
     "output_type": "display_data"
    },
    {
     "name": "stdout",
     "output_type": "stream",
     "text": [
      "^^^^^^^^^^^^^^^^^^^^^^^^^^^^^^^^^^^^^^^^^^^^^^^^^^^^^^^^^^^^^^^^^^^^^^^^^^^^^^^^^^^^^^^^^^^^^^^^^^^^\n"
     ]
    },
    {
     "data": {
      "text/plain": [
       "'02 31 53 63 30'"
      ]
     },
     "metadata": {},
     "output_type": "display_data"
    },
    {
     "data": {
      "text/plain": [
       "'contact[ @ ]pole-tes.com'"
      ]
     },
     "metadata": {},
     "output_type": "display_data"
    },
    {
     "name": "stdout",
     "output_type": "stream",
     "text": [
      "******************************************************************************************************************************************************\n"
     ]
    },
    {
     "data": {
      "text/plain": [
       "['Pôle Véhicule du Futur - Secrétariat',\n",
       " '40 rue Marc Seguin',\n",
       " '68200 Mulhouse',\n",
       " '03 89 32 76 44',\n",
       " 'info[ @ ]vehiculedufutur.com']"
      ]
     },
     "metadata": {},
     "output_type": "display_data"
    },
    {
     "name": "stdout",
     "output_type": "stream",
     "text": [
      "^^^^^^^^^^^^^^^^^^^^^^^^^^^^^^^^^^^^^^^^^^^^^^^^^^^^^^^^^^^^^^^^^^^^^^^^^^^^^^^^^^^^^^^^^^^^^^^^^^^^\n"
     ]
    },
    {
     "data": {
      "text/plain": [
       "'03 89 32 76 44'"
      ]
     },
     "metadata": {},
     "output_type": "display_data"
    },
    {
     "data": {
      "text/plain": [
       "'info[ @ ]vehiculedufutur.com'"
      ]
     },
     "metadata": {},
     "output_type": "display_data"
    },
    {
     "name": "stdout",
     "output_type": "stream",
     "text": [
      "******************************************************************************************************************************************************\n"
     ]
    },
    {
     "data": {
      "text/plain": [
       "['Pôle Véhicule du Futur - Secrétariat',\n",
       " '40 rue Marc Seguin',\n",
       " '68200 Mulhouse',\n",
       " '03 89 32 76 44',\n",
       " 'info[ @ ]vehiculedufutur.com']"
      ]
     },
     "metadata": {},
     "output_type": "display_data"
    },
    {
     "name": "stdout",
     "output_type": "stream",
     "text": [
      "^^^^^^^^^^^^^^^^^^^^^^^^^^^^^^^^^^^^^^^^^^^^^^^^^^^^^^^^^^^^^^^^^^^^^^^^^^^^^^^^^^^^^^^^^^^^^^^^^^^^\n"
     ]
    },
    {
     "data": {
      "text/plain": [
       "'03 89 32 76 44'"
      ]
     },
     "metadata": {},
     "output_type": "display_data"
    },
    {
     "data": {
      "text/plain": [
       "'info[ @ ]vehiculedufutur.com'"
      ]
     },
     "metadata": {},
     "output_type": "display_data"
    },
    {
     "name": "stdout",
     "output_type": "stream",
     "text": [
      "******************************************************************************************************************************************************\n"
     ]
    },
    {
     "data": {
      "text/plain": [
       "['Pôle Véhicule du Futur - Secrétariat',\n",
       " '40 rue Marc Seguin',\n",
       " '68200 Mulhouse',\n",
       " '03 89 32 76 44',\n",
       " 'info[ @ ]vehiculedufutur.com']"
      ]
     },
     "metadata": {},
     "output_type": "display_data"
    },
    {
     "name": "stdout",
     "output_type": "stream",
     "text": [
      "^^^^^^^^^^^^^^^^^^^^^^^^^^^^^^^^^^^^^^^^^^^^^^^^^^^^^^^^^^^^^^^^^^^^^^^^^^^^^^^^^^^^^^^^^^^^^^^^^^^^\n"
     ]
    },
    {
     "data": {
      "text/plain": [
       "'03 89 32 76 44'"
      ]
     },
     "metadata": {},
     "output_type": "display_data"
    },
    {
     "data": {
      "text/plain": [
       "'info[ @ ]vehiculedufutur.com'"
      ]
     },
     "metadata": {},
     "output_type": "display_data"
    },
    {
     "name": "stdout",
     "output_type": "stream",
     "text": [
      "******************************************************************************************************************************************************\n"
     ]
    },
    {
     "data": {
      "text/plain": [
       "['Pôle Véhicule du Futur - Secrétariat',\n",
       " '40 rue Marc Seguin',\n",
       " '68200 Mulhouse',\n",
       " '03 89 32 76 44',\n",
       " 'info[ @ ]vehiculedufutur.com']"
      ]
     },
     "metadata": {},
     "output_type": "display_data"
    },
    {
     "name": "stdout",
     "output_type": "stream",
     "text": [
      "^^^^^^^^^^^^^^^^^^^^^^^^^^^^^^^^^^^^^^^^^^^^^^^^^^^^^^^^^^^^^^^^^^^^^^^^^^^^^^^^^^^^^^^^^^^^^^^^^^^^\n"
     ]
    },
    {
     "data": {
      "text/plain": [
       "'03 89 32 76 44'"
      ]
     },
     "metadata": {},
     "output_type": "display_data"
    },
    {
     "data": {
      "text/plain": [
       "'info[ @ ]vehiculedufutur.com'"
      ]
     },
     "metadata": {},
     "output_type": "display_data"
    },
    {
     "name": "stdout",
     "output_type": "stream",
     "text": [
      "******************************************************************************************************************************************************\n"
     ]
    },
    {
     "data": {
      "text/plain": [
       "['Qualitropic',\n",
       " '5 rue André Lardy - Bâtiment B, La Turbine',\n",
       " '97438 SAINT MARIE',\n",
       " '0262 97 10 88 / secretariat[ @ ]qualitropic.fr']"
      ]
     },
     "metadata": {},
     "output_type": "display_data"
    },
    {
     "name": "stdout",
     "output_type": "stream",
     "text": [
      "^^^^^^^^^^^^^^^^^^^^^^^^^^^^^^^^^^^^^^^^^^^^^^^^^^^^^^^^^^^^^^^^^^^^^^^^^^^^^^^^^^^^^^^^^^^^^^^^^^^^\n"
     ]
    },
    {
     "data": {
      "text/plain": [
       "'0262 97 10 88'"
      ]
     },
     "metadata": {},
     "output_type": "display_data"
    },
    {
     "data": {
      "text/plain": [
       "'secretariat[ @ ]qualitropic.fr'"
      ]
     },
     "metadata": {},
     "output_type": "display_data"
    },
    {
     "name": "stdout",
     "output_type": "stream",
     "text": [
      "******************************************************************************************************************************************************\n"
     ]
    },
    {
     "data": {
      "text/plain": [
       "['Qualitropic',\n",
       " '5 rue André Lardy - Bâtiment B, La Turbine',\n",
       " '97438 SAINT MARIE',\n",
       " '0262 97 10 88 / secretariat[ @ ]qualitropic.fr']"
      ]
     },
     "metadata": {},
     "output_type": "display_data"
    },
    {
     "name": "stdout",
     "output_type": "stream",
     "text": [
      "^^^^^^^^^^^^^^^^^^^^^^^^^^^^^^^^^^^^^^^^^^^^^^^^^^^^^^^^^^^^^^^^^^^^^^^^^^^^^^^^^^^^^^^^^^^^^^^^^^^^\n"
     ]
    },
    {
     "data": {
      "text/plain": [
       "'0262 97 10 88'"
      ]
     },
     "metadata": {},
     "output_type": "display_data"
    },
    {
     "data": {
      "text/plain": [
       "'secretariat[ @ ]qualitropic.fr'"
      ]
     },
     "metadata": {},
     "output_type": "display_data"
    },
    {
     "name": "stdout",
     "output_type": "stream",
     "text": [
      "******************************************************************************************************************************************************\n"
     ]
    },
    {
     "data": {
      "text/plain": [
       "['Qualitropic',\n",
       " '5 rue André Lardy - Bâtiment B, La Turbine',\n",
       " '97438 SAINT MARIE',\n",
       " '0262 97 10 88 / secretariat[ @ ]qualitropic.fr']"
      ]
     },
     "metadata": {},
     "output_type": "display_data"
    },
    {
     "name": "stdout",
     "output_type": "stream",
     "text": [
      "^^^^^^^^^^^^^^^^^^^^^^^^^^^^^^^^^^^^^^^^^^^^^^^^^^^^^^^^^^^^^^^^^^^^^^^^^^^^^^^^^^^^^^^^^^^^^^^^^^^^\n"
     ]
    },
    {
     "data": {
      "text/plain": [
       "'0262 97 10 88'"
      ]
     },
     "metadata": {},
     "output_type": "display_data"
    },
    {
     "data": {
      "text/plain": [
       "'secretariat[ @ ]qualitropic.fr'"
      ]
     },
     "metadata": {},
     "output_type": "display_data"
    },
    {
     "name": "stdout",
     "output_type": "stream",
     "text": [
      "******************************************************************************************************************************************************\n"
     ]
    },
    {
     "data": {
      "text/plain": [
       "['Qualitropic',\n",
       " '5 rue André Lardy - Bâtiment B, La Turbine',\n",
       " '97438 SAINT MARIE',\n",
       " '0262 97 10 88 / secretariat[ @ ]qualitropic.fr']"
      ]
     },
     "metadata": {},
     "output_type": "display_data"
    },
    {
     "name": "stdout",
     "output_type": "stream",
     "text": [
      "^^^^^^^^^^^^^^^^^^^^^^^^^^^^^^^^^^^^^^^^^^^^^^^^^^^^^^^^^^^^^^^^^^^^^^^^^^^^^^^^^^^^^^^^^^^^^^^^^^^^\n"
     ]
    },
    {
     "data": {
      "text/plain": [
       "'0262 97 10 88'"
      ]
     },
     "metadata": {},
     "output_type": "display_data"
    },
    {
     "data": {
      "text/plain": [
       "'secretariat[ @ ]qualitropic.fr'"
      ]
     },
     "metadata": {},
     "output_type": "display_data"
    },
    {
     "name": "stdout",
     "output_type": "stream",
     "text": [
      "******************************************************************************************************************************************************\n"
     ]
    },
    {
     "data": {
      "text/plain": [
       "['Qualitropic',\n",
       " '5 rue André Lardy - Bâtiment B, La Turbine',\n",
       " '97438 SAINT MARIE',\n",
       " '0262 97 10 88 / secretariat[ @ ]qualitropic.fr']"
      ]
     },
     "metadata": {},
     "output_type": "display_data"
    },
    {
     "name": "stdout",
     "output_type": "stream",
     "text": [
      "^^^^^^^^^^^^^^^^^^^^^^^^^^^^^^^^^^^^^^^^^^^^^^^^^^^^^^^^^^^^^^^^^^^^^^^^^^^^^^^^^^^^^^^^^^^^^^^^^^^^\n"
     ]
    },
    {
     "data": {
      "text/plain": [
       "'0262 97 10 88'"
      ]
     },
     "metadata": {},
     "output_type": "display_data"
    },
    {
     "data": {
      "text/plain": [
       "'secretariat[ @ ]qualitropic.fr'"
      ]
     },
     "metadata": {},
     "output_type": "display_data"
    },
    {
     "name": "stdout",
     "output_type": "stream",
     "text": [
      "******************************************************************************************************************************************************\n"
     ]
    },
    {
     "data": {
      "text/plain": [
       "['Qualitropic',\n",
       " '5 rue André Lardy - Bâtiment B, La Turbine',\n",
       " '97438 SAINT MARIE',\n",
       " '0262 97 10 88 / secretariat[ @ ]qualitropic.fr']"
      ]
     },
     "metadata": {},
     "output_type": "display_data"
    },
    {
     "name": "stdout",
     "output_type": "stream",
     "text": [
      "^^^^^^^^^^^^^^^^^^^^^^^^^^^^^^^^^^^^^^^^^^^^^^^^^^^^^^^^^^^^^^^^^^^^^^^^^^^^^^^^^^^^^^^^^^^^^^^^^^^^\n"
     ]
    },
    {
     "data": {
      "text/plain": [
       "'0262 97 10 88'"
      ]
     },
     "metadata": {},
     "output_type": "display_data"
    },
    {
     "data": {
      "text/plain": [
       "'secretariat[ @ ]qualitropic.fr'"
      ]
     },
     "metadata": {},
     "output_type": "display_data"
    },
    {
     "name": "stdout",
     "output_type": "stream",
     "text": [
      "******************************************************************************************************************************************************\n"
     ]
    },
    {
     "data": {
      "text/plain": [
       "['Polymeris',\n",
       " 'Maison des entreprises',\n",
       " '180 rue Pierre et Marie Curie, Bellignat',\n",
       " '01117 OYONNAX Cedex',\n",
       " '+33 (0)4 74 12 19 23 / contact[ @ ]polymeris.fr']"
      ]
     },
     "metadata": {},
     "output_type": "display_data"
    },
    {
     "name": "stdout",
     "output_type": "stream",
     "text": [
      "^^^^^^^^^^^^^^^^^^^^^^^^^^^^^^^^^^^^^^^^^^^^^^^^^^^^^^^^^^^^^^^^^^^^^^^^^^^^^^^^^^^^^^^^^^^^^^^^^^^^\n"
     ]
    },
    {
     "data": {
      "text/plain": [
       "'+33 (0)4 74 12 19 23'"
      ]
     },
     "metadata": {},
     "output_type": "display_data"
    },
    {
     "data": {
      "text/plain": [
       "'contact[ @ ]polymeris.fr'"
      ]
     },
     "metadata": {},
     "output_type": "display_data"
    },
    {
     "name": "stdout",
     "output_type": "stream",
     "text": [
      "******************************************************************************************************************************************************\n"
     ]
    },
    {
     "data": {
      "text/plain": [
       "['Polymeris',\n",
       " 'Maison des entreprises',\n",
       " '180 rue Pierre et Marie Curie, Bellignat',\n",
       " '01117 OYONNAX Cedex',\n",
       " '+33 (0)4 74 12 19 23 / contact[ @ ]polymeris.fr']"
      ]
     },
     "metadata": {},
     "output_type": "display_data"
    },
    {
     "name": "stdout",
     "output_type": "stream",
     "text": [
      "^^^^^^^^^^^^^^^^^^^^^^^^^^^^^^^^^^^^^^^^^^^^^^^^^^^^^^^^^^^^^^^^^^^^^^^^^^^^^^^^^^^^^^^^^^^^^^^^^^^^\n"
     ]
    },
    {
     "data": {
      "text/plain": [
       "'+33 (0)4 74 12 19 23'"
      ]
     },
     "metadata": {},
     "output_type": "display_data"
    },
    {
     "data": {
      "text/plain": [
       "'contact[ @ ]polymeris.fr'"
      ]
     },
     "metadata": {},
     "output_type": "display_data"
    },
    {
     "name": "stdout",
     "output_type": "stream",
     "text": [
      "******************************************************************************************************************************************************\n"
     ]
    },
    {
     "data": {
      "text/plain": [
       "['Polymeris',\n",
       " 'Maison des entreprises',\n",
       " '180 rue Pierre et Marie Curie, Bellignat',\n",
       " '01117 OYONNAX Cedex',\n",
       " '+33 (0)4 74 12 19 23 / contact[ @ ]polymeris.fr']"
      ]
     },
     "metadata": {},
     "output_type": "display_data"
    },
    {
     "name": "stdout",
     "output_type": "stream",
     "text": [
      "^^^^^^^^^^^^^^^^^^^^^^^^^^^^^^^^^^^^^^^^^^^^^^^^^^^^^^^^^^^^^^^^^^^^^^^^^^^^^^^^^^^^^^^^^^^^^^^^^^^^\n"
     ]
    },
    {
     "data": {
      "text/plain": [
       "'+33 (0)4 74 12 19 23'"
      ]
     },
     "metadata": {},
     "output_type": "display_data"
    },
    {
     "data": {
      "text/plain": [
       "'contact[ @ ]polymeris.fr'"
      ]
     },
     "metadata": {},
     "output_type": "display_data"
    },
    {
     "name": "stdout",
     "output_type": "stream",
     "text": [
      "******************************************************************************************************************************************************\n"
     ]
    },
    {
     "data": {
      "text/plain": [
       "['Polymeris',\n",
       " 'Maison des entreprises',\n",
       " '180 rue Pierre et Marie Curie, Bellignat',\n",
       " '01117 OYONNAX Cedex',\n",
       " '+33 (0)4 74 12 19 23 / contact[ @ ]polymeris.fr']"
      ]
     },
     "metadata": {},
     "output_type": "display_data"
    },
    {
     "name": "stdout",
     "output_type": "stream",
     "text": [
      "^^^^^^^^^^^^^^^^^^^^^^^^^^^^^^^^^^^^^^^^^^^^^^^^^^^^^^^^^^^^^^^^^^^^^^^^^^^^^^^^^^^^^^^^^^^^^^^^^^^^\n"
     ]
    },
    {
     "data": {
      "text/plain": [
       "'+33 (0)4 74 12 19 23'"
      ]
     },
     "metadata": {},
     "output_type": "display_data"
    },
    {
     "data": {
      "text/plain": [
       "'contact[ @ ]polymeris.fr'"
      ]
     },
     "metadata": {},
     "output_type": "display_data"
    },
    {
     "name": "stdout",
     "output_type": "stream",
     "text": [
      "******************************************************************************************************************************************************\n"
     ]
    },
    {
     "data": {
      "text/plain": [
       "['Polymeris',\n",
       " 'Maison des entreprises',\n",
       " '180 rue Pierre et Marie Curie, Bellignat',\n",
       " '01117 OYONNAX Cedex',\n",
       " '+33 (0)4 74 12 19 23 / contact[ @ ]polymeris.fr']"
      ]
     },
     "metadata": {},
     "output_type": "display_data"
    },
    {
     "name": "stdout",
     "output_type": "stream",
     "text": [
      "^^^^^^^^^^^^^^^^^^^^^^^^^^^^^^^^^^^^^^^^^^^^^^^^^^^^^^^^^^^^^^^^^^^^^^^^^^^^^^^^^^^^^^^^^^^^^^^^^^^^\n"
     ]
    },
    {
     "data": {
      "text/plain": [
       "'+33 (0)4 74 12 19 23'"
      ]
     },
     "metadata": {},
     "output_type": "display_data"
    },
    {
     "data": {
      "text/plain": [
       "'contact[ @ ]polymeris.fr'"
      ]
     },
     "metadata": {},
     "output_type": "display_data"
    },
    {
     "name": "stdout",
     "output_type": "stream",
     "text": [
      "******************************************************************************************************************************************************\n"
     ]
    },
    {
     "data": {
      "text/plain": [
       "['Polymeris',\n",
       " 'Maison des entreprises',\n",
       " '180 rue Pierre et Marie Curie, Bellignat',\n",
       " '01117 OYONNAX Cedex',\n",
       " '+33 (0)4 74 12 19 23 / contact[ @ ]polymeris.fr']"
      ]
     },
     "metadata": {},
     "output_type": "display_data"
    },
    {
     "name": "stdout",
     "output_type": "stream",
     "text": [
      "^^^^^^^^^^^^^^^^^^^^^^^^^^^^^^^^^^^^^^^^^^^^^^^^^^^^^^^^^^^^^^^^^^^^^^^^^^^^^^^^^^^^^^^^^^^^^^^^^^^^\n"
     ]
    },
    {
     "data": {
      "text/plain": [
       "'+33 (0)4 74 12 19 23'"
      ]
     },
     "metadata": {},
     "output_type": "display_data"
    },
    {
     "data": {
      "text/plain": [
       "'contact[ @ ]polymeris.fr'"
      ]
     },
     "metadata": {},
     "output_type": "display_data"
    },
    {
     "name": "stdout",
     "output_type": "stream",
     "text": [
      "******************************************************************************************************************************************************\n"
     ]
    },
    {
     "data": {
      "text/plain": [
       "['SAFE',\n",
       " 'Domaine du petit Arbois - Bâtiment Henri Poincaré',\n",
       " 'Avenue Louis Philibert - BP 10028',\n",
       " '13545 Aix en Provence Cedex 4',\n",
       " '04 42 12 30 50 – contact[ @ ]safecluster.com']"
      ]
     },
     "metadata": {},
     "output_type": "display_data"
    },
    {
     "name": "stdout",
     "output_type": "stream",
     "text": [
      "^^^^^^^^^^^^^^^^^^^^^^^^^^^^^^^^^^^^^^^^^^^^^^^^^^^^^^^^^^^^^^^^^^^^^^^^^^^^^^^^^^^^^^^^^^^^^^^^^^^^\n"
     ]
    },
    {
     "data": {
      "text/plain": [
       "'04 42 12 30 50'"
      ]
     },
     "metadata": {},
     "output_type": "display_data"
    },
    {
     "data": {
      "text/plain": [
       "'contact[ @ ]safecluster.com'"
      ]
     },
     "metadata": {},
     "output_type": "display_data"
    },
    {
     "name": "stdout",
     "output_type": "stream",
     "text": [
      "******************************************************************************************************************************************************\n"
     ]
    },
    {
     "data": {
      "text/plain": [
       "['SAFE',\n",
       " 'Domaine du petit Arbois - Bâtiment Henri Poincaré',\n",
       " 'Avenue Louis Philibert - BP 10028',\n",
       " '13545 Aix en Provence Cedex 4',\n",
       " '04 42 12 30 50 – contact[ @ ]safecluster.com']"
      ]
     },
     "metadata": {},
     "output_type": "display_data"
    },
    {
     "name": "stdout",
     "output_type": "stream",
     "text": [
      "^^^^^^^^^^^^^^^^^^^^^^^^^^^^^^^^^^^^^^^^^^^^^^^^^^^^^^^^^^^^^^^^^^^^^^^^^^^^^^^^^^^^^^^^^^^^^^^^^^^^\n"
     ]
    },
    {
     "data": {
      "text/plain": [
       "'04 42 12 30 50'"
      ]
     },
     "metadata": {},
     "output_type": "display_data"
    },
    {
     "data": {
      "text/plain": [
       "'contact[ @ ]safecluster.com'"
      ]
     },
     "metadata": {},
     "output_type": "display_data"
    },
    {
     "name": "stdout",
     "output_type": "stream",
     "text": [
      "******************************************************************************************************************************************************\n"
     ]
    },
    {
     "data": {
      "text/plain": [
       "['SAFE',\n",
       " 'Domaine du petit Arbois - Bâtiment Henri Poincaré',\n",
       " 'Avenue Louis Philibert - BP 10028',\n",
       " '13545 Aix en Provence Cedex 4',\n",
       " '04 42 12 30 50 – contact[ @ ]safecluster.com']"
      ]
     },
     "metadata": {},
     "output_type": "display_data"
    },
    {
     "name": "stdout",
     "output_type": "stream",
     "text": [
      "^^^^^^^^^^^^^^^^^^^^^^^^^^^^^^^^^^^^^^^^^^^^^^^^^^^^^^^^^^^^^^^^^^^^^^^^^^^^^^^^^^^^^^^^^^^^^^^^^^^^\n"
     ]
    },
    {
     "data": {
      "text/plain": [
       "'04 42 12 30 50'"
      ]
     },
     "metadata": {},
     "output_type": "display_data"
    },
    {
     "data": {
      "text/plain": [
       "'contact[ @ ]safecluster.com'"
      ]
     },
     "metadata": {},
     "output_type": "display_data"
    },
    {
     "name": "stdout",
     "output_type": "stream",
     "text": [
      "******************************************************************************************************************************************************\n"
     ]
    },
    {
     "data": {
      "text/plain": [
       "['SAFE',\n",
       " 'Domaine du petit Arbois - Bâtiment Henri Poincaré',\n",
       " 'Avenue Louis Philibert - BP 10028',\n",
       " '13545 Aix en Provence Cedex 4',\n",
       " '04 42 12 30 50 – contact[ @ ]safecluster.com']"
      ]
     },
     "metadata": {},
     "output_type": "display_data"
    },
    {
     "name": "stdout",
     "output_type": "stream",
     "text": [
      "^^^^^^^^^^^^^^^^^^^^^^^^^^^^^^^^^^^^^^^^^^^^^^^^^^^^^^^^^^^^^^^^^^^^^^^^^^^^^^^^^^^^^^^^^^^^^^^^^^^^\n"
     ]
    },
    {
     "data": {
      "text/plain": [
       "'04 42 12 30 50'"
      ]
     },
     "metadata": {},
     "output_type": "display_data"
    },
    {
     "data": {
      "text/plain": [
       "'contact[ @ ]safecluster.com'"
      ]
     },
     "metadata": {},
     "output_type": "display_data"
    },
    {
     "name": "stdout",
     "output_type": "stream",
     "text": [
      "******************************************************************************************************************************************************\n"
     ]
    },
    {
     "data": {
      "text/plain": [
       "['SAFE',\n",
       " 'Domaine du petit Arbois - Bâtiment Henri Poincaré',\n",
       " 'Avenue Louis Philibert - BP 10028',\n",
       " '13545 Aix en Provence Cedex 4',\n",
       " '04 42 12 30 50 – contact[ @ ]safecluster.com']"
      ]
     },
     "metadata": {},
     "output_type": "display_data"
    },
    {
     "name": "stdout",
     "output_type": "stream",
     "text": [
      "^^^^^^^^^^^^^^^^^^^^^^^^^^^^^^^^^^^^^^^^^^^^^^^^^^^^^^^^^^^^^^^^^^^^^^^^^^^^^^^^^^^^^^^^^^^^^^^^^^^^\n"
     ]
    },
    {
     "data": {
      "text/plain": [
       "'04 42 12 30 50'"
      ]
     },
     "metadata": {},
     "output_type": "display_data"
    },
    {
     "data": {
      "text/plain": [
       "'contact[ @ ]safecluster.com'"
      ]
     },
     "metadata": {},
     "output_type": "display_data"
    },
    {
     "name": "stdout",
     "output_type": "stream",
     "text": [
      "******************************************************************************************************************************************************\n"
     ]
    },
    {
     "data": {
      "text/plain": [
       "['TEAM2', '84 bis rue Paul Bert', '62 300 Lens', 'info[ @ ]team2.fr']"
      ]
     },
     "metadata": {},
     "output_type": "display_data"
    },
    {
     "name": "stdout",
     "output_type": "stream",
     "text": [
      "^^^^^^^^^^^^^^^^^^^^^^^^^^^^^^^^^^^^^^^^^^^^^^^^^^^^^^^^^^^^^^^^^^^^^^^^^^^^^^^^^^^^^^^^^^^^^^^^^^^^\n"
     ]
    },
    {
     "data": {
      "text/plain": [
       "''"
      ]
     },
     "metadata": {},
     "output_type": "display_data"
    },
    {
     "data": {
      "text/plain": [
       "'info[ @ ]team2.fr'"
      ]
     },
     "metadata": {},
     "output_type": "display_data"
    },
    {
     "name": "stdout",
     "output_type": "stream",
     "text": [
      "******************************************************************************************************************************************************\n"
     ]
    },
    {
     "data": {
      "text/plain": [
       "['TEAM2', '84 bis rue Paul Bert', '62 300 Lens', 'info[ @ ]team2.fr']"
      ]
     },
     "metadata": {},
     "output_type": "display_data"
    },
    {
     "name": "stdout",
     "output_type": "stream",
     "text": [
      "^^^^^^^^^^^^^^^^^^^^^^^^^^^^^^^^^^^^^^^^^^^^^^^^^^^^^^^^^^^^^^^^^^^^^^^^^^^^^^^^^^^^^^^^^^^^^^^^^^^^\n"
     ]
    },
    {
     "data": {
      "text/plain": [
       "''"
      ]
     },
     "metadata": {},
     "output_type": "display_data"
    },
    {
     "data": {
      "text/plain": [
       "'info[ @ ]team2.fr'"
      ]
     },
     "metadata": {},
     "output_type": "display_data"
    },
    {
     "name": "stdout",
     "output_type": "stream",
     "text": [
      "******************************************************************************************************************************************************\n"
     ]
    },
    {
     "data": {
      "text/plain": [
       "['TEAM2', '84 bis rue Paul Bert', '62 300 Lens', 'info[ @ ]team2.fr']"
      ]
     },
     "metadata": {},
     "output_type": "display_data"
    },
    {
     "name": "stdout",
     "output_type": "stream",
     "text": [
      "^^^^^^^^^^^^^^^^^^^^^^^^^^^^^^^^^^^^^^^^^^^^^^^^^^^^^^^^^^^^^^^^^^^^^^^^^^^^^^^^^^^^^^^^^^^^^^^^^^^^\n"
     ]
    },
    {
     "data": {
      "text/plain": [
       "''"
      ]
     },
     "metadata": {},
     "output_type": "display_data"
    },
    {
     "data": {
      "text/plain": [
       "'info[ @ ]team2.fr'"
      ]
     },
     "metadata": {},
     "output_type": "display_data"
    },
    {
     "name": "stdout",
     "output_type": "stream",
     "text": [
      "******************************************************************************************************************************************************\n"
     ]
    },
    {
     "data": {
      "text/plain": [
       "['TEAM2', '84 bis rue Paul Bert', '62 300 Lens', 'info[ @ ]team2.fr']"
      ]
     },
     "metadata": {},
     "output_type": "display_data"
    },
    {
     "name": "stdout",
     "output_type": "stream",
     "text": [
      "^^^^^^^^^^^^^^^^^^^^^^^^^^^^^^^^^^^^^^^^^^^^^^^^^^^^^^^^^^^^^^^^^^^^^^^^^^^^^^^^^^^^^^^^^^^^^^^^^^^^\n"
     ]
    },
    {
     "data": {
      "text/plain": [
       "''"
      ]
     },
     "metadata": {},
     "output_type": "display_data"
    },
    {
     "data": {
      "text/plain": [
       "'info[ @ ]team2.fr'"
      ]
     },
     "metadata": {},
     "output_type": "display_data"
    },
    {
     "name": "stdout",
     "output_type": "stream",
     "text": [
      "******************************************************************************************************************************************************\n"
     ]
    },
    {
     "data": {
      "text/plain": [
       "['Systematic',\n",
       " 'Site Nano Innov – Bât 863',\n",
       " '2 boulevard Thomas Gobert – 91120 Palaiseau',\n",
       " 'contact[ @ ]systematic-paris-region.org']"
      ]
     },
     "metadata": {},
     "output_type": "display_data"
    },
    {
     "name": "stdout",
     "output_type": "stream",
     "text": [
      "^^^^^^^^^^^^^^^^^^^^^^^^^^^^^^^^^^^^^^^^^^^^^^^^^^^^^^^^^^^^^^^^^^^^^^^^^^^^^^^^^^^^^^^^^^^^^^^^^^^^\n"
     ]
    },
    {
     "data": {
      "text/plain": [
       "''"
      ]
     },
     "metadata": {},
     "output_type": "display_data"
    },
    {
     "data": {
      "text/plain": [
       "'contact[ @ ]systematic-paris-region.org'"
      ]
     },
     "metadata": {},
     "output_type": "display_data"
    },
    {
     "name": "stdout",
     "output_type": "stream",
     "text": [
      "******************************************************************************************************************************************************\n"
     ]
    },
    {
     "data": {
      "text/plain": [
       "['Systematic',\n",
       " 'Site Nano Innov – Bât 863',\n",
       " '2 boulevard Thomas Gobert – 91120 Palaiseau',\n",
       " 'contact[ @ ]systematic-paris-region.org']"
      ]
     },
     "metadata": {},
     "output_type": "display_data"
    },
    {
     "name": "stdout",
     "output_type": "stream",
     "text": [
      "^^^^^^^^^^^^^^^^^^^^^^^^^^^^^^^^^^^^^^^^^^^^^^^^^^^^^^^^^^^^^^^^^^^^^^^^^^^^^^^^^^^^^^^^^^^^^^^^^^^^\n"
     ]
    },
    {
     "data": {
      "text/plain": [
       "''"
      ]
     },
     "metadata": {},
     "output_type": "display_data"
    },
    {
     "data": {
      "text/plain": [
       "'contact[ @ ]systematic-paris-region.org'"
      ]
     },
     "metadata": {},
     "output_type": "display_data"
    },
    {
     "name": "stdout",
     "output_type": "stream",
     "text": [
      "******************************************************************************************************************************************************\n"
     ]
    },
    {
     "data": {
      "text/plain": [
       "['Systematic',\n",
       " 'Site Nano Innov – Bât 863',\n",
       " '2 boulevard Thomas Gobert – 91120 Palaiseau',\n",
       " 'contact[ @ ]systematic-paris-region.org']"
      ]
     },
     "metadata": {},
     "output_type": "display_data"
    },
    {
     "name": "stdout",
     "output_type": "stream",
     "text": [
      "^^^^^^^^^^^^^^^^^^^^^^^^^^^^^^^^^^^^^^^^^^^^^^^^^^^^^^^^^^^^^^^^^^^^^^^^^^^^^^^^^^^^^^^^^^^^^^^^^^^^\n"
     ]
    },
    {
     "data": {
      "text/plain": [
       "''"
      ]
     },
     "metadata": {},
     "output_type": "display_data"
    },
    {
     "data": {
      "text/plain": [
       "'contact[ @ ]systematic-paris-region.org'"
      ]
     },
     "metadata": {},
     "output_type": "display_data"
    },
    {
     "name": "stdout",
     "output_type": "stream",
     "text": [
      "******************************************************************************************************************************************************\n"
     ]
    },
    {
     "data": {
      "text/plain": [
       "['Systematic',\n",
       " 'Site Nano Innov – Bât 863',\n",
       " '2 boulevard Thomas Gobert – 91120 Palaiseau',\n",
       " 'contact[ @ ]systematic-paris-region.org']"
      ]
     },
     "metadata": {},
     "output_type": "display_data"
    },
    {
     "name": "stdout",
     "output_type": "stream",
     "text": [
      "^^^^^^^^^^^^^^^^^^^^^^^^^^^^^^^^^^^^^^^^^^^^^^^^^^^^^^^^^^^^^^^^^^^^^^^^^^^^^^^^^^^^^^^^^^^^^^^^^^^^\n"
     ]
    },
    {
     "data": {
      "text/plain": [
       "''"
      ]
     },
     "metadata": {},
     "output_type": "display_data"
    },
    {
     "data": {
      "text/plain": [
       "'contact[ @ ]systematic-paris-region.org'"
      ]
     },
     "metadata": {},
     "output_type": "display_data"
    },
    {
     "name": "stdout",
     "output_type": "stream",
     "text": [
      "******************************************************************************************************************************************************\n"
     ]
    },
    {
     "data": {
      "text/plain": [
       "['Systematic',\n",
       " 'Site Nano Innov – Bât 863',\n",
       " '2 boulevard Thomas Gobert – 91120 Palaiseau',\n",
       " 'contact[ @ ]systematic-paris-region.org']"
      ]
     },
     "metadata": {},
     "output_type": "display_data"
    },
    {
     "name": "stdout",
     "output_type": "stream",
     "text": [
      "^^^^^^^^^^^^^^^^^^^^^^^^^^^^^^^^^^^^^^^^^^^^^^^^^^^^^^^^^^^^^^^^^^^^^^^^^^^^^^^^^^^^^^^^^^^^^^^^^^^^\n"
     ]
    },
    {
     "data": {
      "text/plain": [
       "''"
      ]
     },
     "metadata": {},
     "output_type": "display_data"
    },
    {
     "data": {
      "text/plain": [
       "'contact[ @ ]systematic-paris-region.org'"
      ]
     },
     "metadata": {},
     "output_type": "display_data"
    },
    {
     "name": "stdout",
     "output_type": "stream",
     "text": [
      "******************************************************************************************************************************************************\n"
     ]
    },
    {
     "data": {
      "text/plain": [
       "['Systematic',\n",
       " 'Site Nano Innov – Bât 863',\n",
       " '2 boulevard Thomas Gobert – 91120 Palaiseau',\n",
       " 'contact[ @ ]systematic-paris-region.org']"
      ]
     },
     "metadata": {},
     "output_type": "display_data"
    },
    {
     "name": "stdout",
     "output_type": "stream",
     "text": [
      "^^^^^^^^^^^^^^^^^^^^^^^^^^^^^^^^^^^^^^^^^^^^^^^^^^^^^^^^^^^^^^^^^^^^^^^^^^^^^^^^^^^^^^^^^^^^^^^^^^^^\n"
     ]
    },
    {
     "data": {
      "text/plain": [
       "''"
      ]
     },
     "metadata": {},
     "output_type": "display_data"
    },
    {
     "data": {
      "text/plain": [
       "'contact[ @ ]systematic-paris-region.org'"
      ]
     },
     "metadata": {},
     "output_type": "display_data"
    },
    {
     "name": "stdout",
     "output_type": "stream",
     "text": [
      "******************************************************************************************************************************************************\n"
     ]
    },
    {
     "data": {
      "text/plain": [
       "['TECHTERA',\n",
       " '91 bis chemin des Mouilles',\n",
       " '69130 ECULLY',\n",
       " '04 20 30 28 80 / contact[ @ ]techtera.org']"
      ]
     },
     "metadata": {},
     "output_type": "display_data"
    },
    {
     "name": "stdout",
     "output_type": "stream",
     "text": [
      "^^^^^^^^^^^^^^^^^^^^^^^^^^^^^^^^^^^^^^^^^^^^^^^^^^^^^^^^^^^^^^^^^^^^^^^^^^^^^^^^^^^^^^^^^^^^^^^^^^^^\n"
     ]
    },
    {
     "data": {
      "text/plain": [
       "'04 20 30 28 80'"
      ]
     },
     "metadata": {},
     "output_type": "display_data"
    },
    {
     "data": {
      "text/plain": [
       "'contact[ @ ]techtera.org'"
      ]
     },
     "metadata": {},
     "output_type": "display_data"
    },
    {
     "name": "stdout",
     "output_type": "stream",
     "text": [
      "******************************************************************************************************************************************************\n"
     ]
    },
    {
     "data": {
      "text/plain": [
       "['TECHTERA',\n",
       " '91 bis chemin des Mouilles',\n",
       " '69130 ECULLY',\n",
       " '04 20 30 28 80 / contact[ @ ]techtera.org']"
      ]
     },
     "metadata": {},
     "output_type": "display_data"
    },
    {
     "name": "stdout",
     "output_type": "stream",
     "text": [
      "^^^^^^^^^^^^^^^^^^^^^^^^^^^^^^^^^^^^^^^^^^^^^^^^^^^^^^^^^^^^^^^^^^^^^^^^^^^^^^^^^^^^^^^^^^^^^^^^^^^^\n"
     ]
    },
    {
     "data": {
      "text/plain": [
       "'04 20 30 28 80'"
      ]
     },
     "metadata": {},
     "output_type": "display_data"
    },
    {
     "data": {
      "text/plain": [
       "'contact[ @ ]techtera.org'"
      ]
     },
     "metadata": {},
     "output_type": "display_data"
    },
    {
     "name": "stdout",
     "output_type": "stream",
     "text": [
      "******************************************************************************************************************************************************\n"
     ]
    },
    {
     "data": {
      "text/plain": [
       "['TECHTERA',\n",
       " '91 bis chemin des Mouilles',\n",
       " '69130 ECULLY',\n",
       " '04 20 30 28 80 / contact[ @ ]techtera.org']"
      ]
     },
     "metadata": {},
     "output_type": "display_data"
    },
    {
     "name": "stdout",
     "output_type": "stream",
     "text": [
      "^^^^^^^^^^^^^^^^^^^^^^^^^^^^^^^^^^^^^^^^^^^^^^^^^^^^^^^^^^^^^^^^^^^^^^^^^^^^^^^^^^^^^^^^^^^^^^^^^^^^\n"
     ]
    },
    {
     "data": {
      "text/plain": [
       "'04 20 30 28 80'"
      ]
     },
     "metadata": {},
     "output_type": "display_data"
    },
    {
     "data": {
      "text/plain": [
       "'contact[ @ ]techtera.org'"
      ]
     },
     "metadata": {},
     "output_type": "display_data"
    },
    {
     "name": "stdout",
     "output_type": "stream",
     "text": [
      "******************************************************************************************************************************************************\n"
     ]
    },
    {
     "data": {
      "text/plain": [
       "['TECHTERA',\n",
       " '91 bis chemin des Mouilles',\n",
       " '69130 ECULLY',\n",
       " '04 20 30 28 80 / contact[ @ ]techtera.org']"
      ]
     },
     "metadata": {},
     "output_type": "display_data"
    },
    {
     "name": "stdout",
     "output_type": "stream",
     "text": [
      "^^^^^^^^^^^^^^^^^^^^^^^^^^^^^^^^^^^^^^^^^^^^^^^^^^^^^^^^^^^^^^^^^^^^^^^^^^^^^^^^^^^^^^^^^^^^^^^^^^^^\n"
     ]
    },
    {
     "data": {
      "text/plain": [
       "'04 20 30 28 80'"
      ]
     },
     "metadata": {},
     "output_type": "display_data"
    },
    {
     "data": {
      "text/plain": [
       "'contact[ @ ]techtera.org'"
      ]
     },
     "metadata": {},
     "output_type": "display_data"
    },
    {
     "name": "stdout",
     "output_type": "stream",
     "text": [
      "******************************************************************************************************************************************************\n"
     ]
    },
    {
     "data": {
      "text/plain": [
       "['TECHTERA',\n",
       " '91 bis chemin des Mouilles',\n",
       " '69130 ECULLY',\n",
       " '04 20 30 28 80 / contact[ @ ]techtera.org']"
      ]
     },
     "metadata": {},
     "output_type": "display_data"
    },
    {
     "name": "stdout",
     "output_type": "stream",
     "text": [
      "^^^^^^^^^^^^^^^^^^^^^^^^^^^^^^^^^^^^^^^^^^^^^^^^^^^^^^^^^^^^^^^^^^^^^^^^^^^^^^^^^^^^^^^^^^^^^^^^^^^^\n"
     ]
    },
    {
     "data": {
      "text/plain": [
       "'04 20 30 28 80'"
      ]
     },
     "metadata": {},
     "output_type": "display_data"
    },
    {
     "data": {
      "text/plain": [
       "'contact[ @ ]techtera.org'"
      ]
     },
     "metadata": {},
     "output_type": "display_data"
    },
    {
     "name": "stdout",
     "output_type": "stream",
     "text": [
      "******************************************************************************************************************************************************\n"
     ]
    },
    {
     "data": {
      "text/plain": [
       "['VALORIAL',\n",
       " '8, rue Jules Maillard de la Gournerie',\n",
       " '35000 Rennes',\n",
       " '+33 (0)2 99 31 53 05 / valorial[ @ ]pole-valorial.fr']"
      ]
     },
     "metadata": {},
     "output_type": "display_data"
    },
    {
     "name": "stdout",
     "output_type": "stream",
     "text": [
      "^^^^^^^^^^^^^^^^^^^^^^^^^^^^^^^^^^^^^^^^^^^^^^^^^^^^^^^^^^^^^^^^^^^^^^^^^^^^^^^^^^^^^^^^^^^^^^^^^^^^\n"
     ]
    },
    {
     "data": {
      "text/plain": [
       "'+33 (0)2 99 31 53 05'"
      ]
     },
     "metadata": {},
     "output_type": "display_data"
    },
    {
     "data": {
      "text/plain": [
       "'valorial[ @ ]pole-valorial.fr'"
      ]
     },
     "metadata": {},
     "output_type": "display_data"
    },
    {
     "name": "stdout",
     "output_type": "stream",
     "text": [
      "******************************************************************************************************************************************************\n"
     ]
    },
    {
     "data": {
      "text/plain": [
       "['VALORIAL',\n",
       " '8, rue Jules Maillard de la Gournerie',\n",
       " '35000 Rennes',\n",
       " '+33 (0)2 99 31 53 05 / valorial[ @ ]pole-valorial.fr']"
      ]
     },
     "metadata": {},
     "output_type": "display_data"
    },
    {
     "name": "stdout",
     "output_type": "stream",
     "text": [
      "^^^^^^^^^^^^^^^^^^^^^^^^^^^^^^^^^^^^^^^^^^^^^^^^^^^^^^^^^^^^^^^^^^^^^^^^^^^^^^^^^^^^^^^^^^^^^^^^^^^^\n"
     ]
    },
    {
     "data": {
      "text/plain": [
       "'+33 (0)2 99 31 53 05'"
      ]
     },
     "metadata": {},
     "output_type": "display_data"
    },
    {
     "data": {
      "text/plain": [
       "'valorial[ @ ]pole-valorial.fr'"
      ]
     },
     "metadata": {},
     "output_type": "display_data"
    },
    {
     "name": "stdout",
     "output_type": "stream",
     "text": [
      "******************************************************************************************************************************************************\n"
     ]
    },
    {
     "data": {
      "text/plain": [
       "['VALORIAL',\n",
       " '8, rue Jules Maillard de la Gournerie',\n",
       " '35000 Rennes',\n",
       " '+33 (0)2 99 31 53 05 / valorial[ @ ]pole-valorial.fr']"
      ]
     },
     "metadata": {},
     "output_type": "display_data"
    },
    {
     "name": "stdout",
     "output_type": "stream",
     "text": [
      "^^^^^^^^^^^^^^^^^^^^^^^^^^^^^^^^^^^^^^^^^^^^^^^^^^^^^^^^^^^^^^^^^^^^^^^^^^^^^^^^^^^^^^^^^^^^^^^^^^^^\n"
     ]
    },
    {
     "data": {
      "text/plain": [
       "'+33 (0)2 99 31 53 05'"
      ]
     },
     "metadata": {},
     "output_type": "display_data"
    },
    {
     "data": {
      "text/plain": [
       "'valorial[ @ ]pole-valorial.fr'"
      ]
     },
     "metadata": {},
     "output_type": "display_data"
    },
    {
     "name": "stdout",
     "output_type": "stream",
     "text": [
      "******************************************************************************************************************************************************\n"
     ]
    },
    {
     "data": {
      "text/plain": [
       "['VALORIAL',\n",
       " '8, rue Jules Maillard de la Gournerie',\n",
       " '35000 Rennes',\n",
       " '+33 (0)2 99 31 53 05 / valorial[ @ ]pole-valorial.fr']"
      ]
     },
     "metadata": {},
     "output_type": "display_data"
    },
    {
     "name": "stdout",
     "output_type": "stream",
     "text": [
      "^^^^^^^^^^^^^^^^^^^^^^^^^^^^^^^^^^^^^^^^^^^^^^^^^^^^^^^^^^^^^^^^^^^^^^^^^^^^^^^^^^^^^^^^^^^^^^^^^^^^\n"
     ]
    },
    {
     "data": {
      "text/plain": [
       "'+33 (0)2 99 31 53 05'"
      ]
     },
     "metadata": {},
     "output_type": "display_data"
    },
    {
     "data": {
      "text/plain": [
       "'valorial[ @ ]pole-valorial.fr'"
      ]
     },
     "metadata": {},
     "output_type": "display_data"
    },
    {
     "name": "stdout",
     "output_type": "stream",
     "text": [
      "******************************************************************************************************************************************************\n"
     ]
    },
    {
     "data": {
      "text/plain": [
       "['Tenerrdis',\n",
       " 'Polytec',\n",
       " '19, rue des berges',\n",
       " '38024 Grenoble Cedex',\n",
       " '04 76 51 85 34 / contact[ @ ]tenerrdis.fr']"
      ]
     },
     "metadata": {},
     "output_type": "display_data"
    },
    {
     "name": "stdout",
     "output_type": "stream",
     "text": [
      "^^^^^^^^^^^^^^^^^^^^^^^^^^^^^^^^^^^^^^^^^^^^^^^^^^^^^^^^^^^^^^^^^^^^^^^^^^^^^^^^^^^^^^^^^^^^^^^^^^^^\n"
     ]
    },
    {
     "data": {
      "text/plain": [
       "'04 76 51 85 34'"
      ]
     },
     "metadata": {},
     "output_type": "display_data"
    },
    {
     "data": {
      "text/plain": [
       "'contact[ @ ]tenerrdis.fr'"
      ]
     },
     "metadata": {},
     "output_type": "display_data"
    },
    {
     "name": "stdout",
     "output_type": "stream",
     "text": [
      "******************************************************************************************************************************************************\n"
     ]
    },
    {
     "data": {
      "text/plain": [
       "['Tenerrdis',\n",
       " 'Polytec',\n",
       " '19, rue des berges',\n",
       " '38024 Grenoble Cedex',\n",
       " '04 76 51 85 34 / contact[ @ ]tenerrdis.fr']"
      ]
     },
     "metadata": {},
     "output_type": "display_data"
    },
    {
     "name": "stdout",
     "output_type": "stream",
     "text": [
      "^^^^^^^^^^^^^^^^^^^^^^^^^^^^^^^^^^^^^^^^^^^^^^^^^^^^^^^^^^^^^^^^^^^^^^^^^^^^^^^^^^^^^^^^^^^^^^^^^^^^\n"
     ]
    },
    {
     "data": {
      "text/plain": [
       "'04 76 51 85 34'"
      ]
     },
     "metadata": {},
     "output_type": "display_data"
    },
    {
     "data": {
      "text/plain": [
       "'contact[ @ ]tenerrdis.fr'"
      ]
     },
     "metadata": {},
     "output_type": "display_data"
    },
    {
     "name": "stdout",
     "output_type": "stream",
     "text": [
      "******************************************************************************************************************************************************\n"
     ]
    },
    {
     "data": {
      "text/plain": [
       "['Tenerrdis',\n",
       " 'Polytec',\n",
       " '19, rue des berges',\n",
       " '38024 Grenoble Cedex',\n",
       " '04 76 51 85 34 / contact[ @ ]tenerrdis.fr']"
      ]
     },
     "metadata": {},
     "output_type": "display_data"
    },
    {
     "name": "stdout",
     "output_type": "stream",
     "text": [
      "^^^^^^^^^^^^^^^^^^^^^^^^^^^^^^^^^^^^^^^^^^^^^^^^^^^^^^^^^^^^^^^^^^^^^^^^^^^^^^^^^^^^^^^^^^^^^^^^^^^^\n"
     ]
    },
    {
     "data": {
      "text/plain": [
       "'04 76 51 85 34'"
      ]
     },
     "metadata": {},
     "output_type": "display_data"
    },
    {
     "data": {
      "text/plain": [
       "'contact[ @ ]tenerrdis.fr'"
      ]
     },
     "metadata": {},
     "output_type": "display_data"
    },
    {
     "name": "stdout",
     "output_type": "stream",
     "text": [
      "******************************************************************************************************************************************************\n"
     ]
    },
    {
     "data": {
      "text/plain": [
       "['Tenerrdis',\n",
       " 'Polytec',\n",
       " '19, rue des berges',\n",
       " '38024 Grenoble Cedex',\n",
       " '04 76 51 85 34 / contact[ @ ]tenerrdis.fr']"
      ]
     },
     "metadata": {},
     "output_type": "display_data"
    },
    {
     "name": "stdout",
     "output_type": "stream",
     "text": [
      "^^^^^^^^^^^^^^^^^^^^^^^^^^^^^^^^^^^^^^^^^^^^^^^^^^^^^^^^^^^^^^^^^^^^^^^^^^^^^^^^^^^^^^^^^^^^^^^^^^^^\n"
     ]
    },
    {
     "data": {
      "text/plain": [
       "'04 76 51 85 34'"
      ]
     },
     "metadata": {},
     "output_type": "display_data"
    },
    {
     "data": {
      "text/plain": [
       "'contact[ @ ]tenerrdis.fr'"
      ]
     },
     "metadata": {},
     "output_type": "display_data"
    },
    {
     "name": "stdout",
     "output_type": "stream",
     "text": [
      "******************************************************************************************************************************************************\n"
     ]
    },
    {
     "data": {
      "text/plain": [
       "['Tenerrdis',\n",
       " 'Polytec',\n",
       " '19, rue des berges',\n",
       " '38024 Grenoble Cedex',\n",
       " '04 76 51 85 34 / contact[ @ ]tenerrdis.fr']"
      ]
     },
     "metadata": {},
     "output_type": "display_data"
    },
    {
     "name": "stdout",
     "output_type": "stream",
     "text": [
      "^^^^^^^^^^^^^^^^^^^^^^^^^^^^^^^^^^^^^^^^^^^^^^^^^^^^^^^^^^^^^^^^^^^^^^^^^^^^^^^^^^^^^^^^^^^^^^^^^^^^\n"
     ]
    },
    {
     "data": {
      "text/plain": [
       "'04 76 51 85 34'"
      ]
     },
     "metadata": {},
     "output_type": "display_data"
    },
    {
     "data": {
      "text/plain": [
       "'contact[ @ ]tenerrdis.fr'"
      ]
     },
     "metadata": {},
     "output_type": "display_data"
    },
    {
     "name": "stdout",
     "output_type": "stream",
     "text": [
      "******************************************************************************************************************************************************\n"
     ]
    },
    {
     "data": {
      "text/plain": [
       "['Tenerrdis',\n",
       " 'Polytec',\n",
       " '19, rue des berges',\n",
       " '38024 Grenoble Cedex',\n",
       " '04 76 51 85 34 / contact[ @ ]tenerrdis.fr']"
      ]
     },
     "metadata": {},
     "output_type": "display_data"
    },
    {
     "name": "stdout",
     "output_type": "stream",
     "text": [
      "^^^^^^^^^^^^^^^^^^^^^^^^^^^^^^^^^^^^^^^^^^^^^^^^^^^^^^^^^^^^^^^^^^^^^^^^^^^^^^^^^^^^^^^^^^^^^^^^^^^^\n"
     ]
    },
    {
     "data": {
      "text/plain": [
       "'04 76 51 85 34'"
      ]
     },
     "metadata": {},
     "output_type": "display_data"
    },
    {
     "data": {
      "text/plain": [
       "'contact[ @ ]tenerrdis.fr'"
      ]
     },
     "metadata": {},
     "output_type": "display_data"
    },
    {
     "name": "stdout",
     "output_type": "stream",
     "text": [
      "******************************************************************************************************************************************************\n"
     ]
    },
    {
     "data": {
      "text/plain": [
       "['Tenerrdis',\n",
       " 'Polytec',\n",
       " '19, rue des berges',\n",
       " '38024 Grenoble Cedex',\n",
       " '04 76 51 85 34 / contact[ @ ]tenerrdis.fr']"
      ]
     },
     "metadata": {},
     "output_type": "display_data"
    },
    {
     "name": "stdout",
     "output_type": "stream",
     "text": [
      "^^^^^^^^^^^^^^^^^^^^^^^^^^^^^^^^^^^^^^^^^^^^^^^^^^^^^^^^^^^^^^^^^^^^^^^^^^^^^^^^^^^^^^^^^^^^^^^^^^^^\n"
     ]
    },
    {
     "data": {
      "text/plain": [
       "'04 76 51 85 34'"
      ]
     },
     "metadata": {},
     "output_type": "display_data"
    },
    {
     "data": {
      "text/plain": [
       "'contact[ @ ]tenerrdis.fr'"
      ]
     },
     "metadata": {},
     "output_type": "display_data"
    },
    {
     "name": "stdout",
     "output_type": "stream",
     "text": [
      "******************************************************************************************************************************************************\n"
     ]
    },
    {
     "data": {
      "text/plain": [
       "['VEGEPOLYS VALLEY',\n",
       " 'MAISON DU VEGETAL',\n",
       " '26 rue Jean Dixméras',\n",
       " '49066 ANGERS Cedex01',\n",
       " '02.41.72.17.67']"
      ]
     },
     "metadata": {},
     "output_type": "display_data"
    },
    {
     "name": "stdout",
     "output_type": "stream",
     "text": [
      "^^^^^^^^^^^^^^^^^^^^^^^^^^^^^^^^^^^^^^^^^^^^^^^^^^^^^^^^^^^^^^^^^^^^^^^^^^^^^^^^^^^^^^^^^^^^^^^^^^^^\n"
     ]
    },
    {
     "data": {
      "text/plain": [
       "'02.41.72.17.67'"
      ]
     },
     "metadata": {},
     "output_type": "display_data"
    },
    {
     "data": {
      "text/plain": [
       "''"
      ]
     },
     "metadata": {},
     "output_type": "display_data"
    },
    {
     "name": "stdout",
     "output_type": "stream",
     "text": [
      "******************************************************************************************************************************************************\n"
     ]
    },
    {
     "data": {
      "text/plain": [
       "['VEGEPOLYS VALLEY',\n",
       " 'MAISON DU VEGETAL',\n",
       " '26 rue Jean Dixméras',\n",
       " '49066 ANGERS Cedex01',\n",
       " '02.41.72.17.67']"
      ]
     },
     "metadata": {},
     "output_type": "display_data"
    },
    {
     "name": "stdout",
     "output_type": "stream",
     "text": [
      "^^^^^^^^^^^^^^^^^^^^^^^^^^^^^^^^^^^^^^^^^^^^^^^^^^^^^^^^^^^^^^^^^^^^^^^^^^^^^^^^^^^^^^^^^^^^^^^^^^^^\n"
     ]
    },
    {
     "data": {
      "text/plain": [
       "'02.41.72.17.67'"
      ]
     },
     "metadata": {},
     "output_type": "display_data"
    },
    {
     "data": {
      "text/plain": [
       "''"
      ]
     },
     "metadata": {},
     "output_type": "display_data"
    },
    {
     "name": "stdout",
     "output_type": "stream",
     "text": [
      "******************************************************************************************************************************************************\n"
     ]
    },
    {
     "data": {
      "text/plain": [
       "['VEGEPOLYS VALLEY',\n",
       " 'MAISON DU VEGETAL',\n",
       " '26 rue Jean Dixméras',\n",
       " '49066 ANGERS Cedex01',\n",
       " '02.41.72.17.67']"
      ]
     },
     "metadata": {},
     "output_type": "display_data"
    },
    {
     "name": "stdout",
     "output_type": "stream",
     "text": [
      "^^^^^^^^^^^^^^^^^^^^^^^^^^^^^^^^^^^^^^^^^^^^^^^^^^^^^^^^^^^^^^^^^^^^^^^^^^^^^^^^^^^^^^^^^^^^^^^^^^^^\n"
     ]
    },
    {
     "data": {
      "text/plain": [
       "'02.41.72.17.67'"
      ]
     },
     "metadata": {},
     "output_type": "display_data"
    },
    {
     "data": {
      "text/plain": [
       "''"
      ]
     },
     "metadata": {},
     "output_type": "display_data"
    },
    {
     "name": "stdout",
     "output_type": "stream",
     "text": [
      "******************************************************************************************************************************************************\n"
     ]
    },
    {
     "data": {
      "text/plain": [
       "['VEGEPOLYS VALLEY',\n",
       " 'MAISON DU VEGETAL',\n",
       " '26 rue Jean Dixméras',\n",
       " '49066 ANGERS Cedex01',\n",
       " '02.41.72.17.67']"
      ]
     },
     "metadata": {},
     "output_type": "display_data"
    },
    {
     "name": "stdout",
     "output_type": "stream",
     "text": [
      "^^^^^^^^^^^^^^^^^^^^^^^^^^^^^^^^^^^^^^^^^^^^^^^^^^^^^^^^^^^^^^^^^^^^^^^^^^^^^^^^^^^^^^^^^^^^^^^^^^^^\n"
     ]
    },
    {
     "data": {
      "text/plain": [
       "'02.41.72.17.67'"
      ]
     },
     "metadata": {},
     "output_type": "display_data"
    },
    {
     "data": {
      "text/plain": [
       "''"
      ]
     },
     "metadata": {},
     "output_type": "display_data"
    },
    {
     "name": "stdout",
     "output_type": "stream",
     "text": [
      "******************************************************************************************************************************************************\n"
     ]
    },
    {
     "data": {
      "text/plain": [
       "['VEGEPOLYS VALLEY',\n",
       " 'MAISON DU VEGETAL',\n",
       " '26 rue Jean Dixméras',\n",
       " '49066 ANGERS Cedex01',\n",
       " '02.41.72.17.67']"
      ]
     },
     "metadata": {},
     "output_type": "display_data"
    },
    {
     "name": "stdout",
     "output_type": "stream",
     "text": [
      "^^^^^^^^^^^^^^^^^^^^^^^^^^^^^^^^^^^^^^^^^^^^^^^^^^^^^^^^^^^^^^^^^^^^^^^^^^^^^^^^^^^^^^^^^^^^^^^^^^^^\n"
     ]
    },
    {
     "data": {
      "text/plain": [
       "'02.41.72.17.67'"
      ]
     },
     "metadata": {},
     "output_type": "display_data"
    },
    {
     "data": {
      "text/plain": [
       "''"
      ]
     },
     "metadata": {},
     "output_type": "display_data"
    },
    {
     "name": "stdout",
     "output_type": "stream",
     "text": [
      "******************************************************************************************************************************************************\n"
     ]
    },
    {
     "data": {
      "text/plain": [
       "['VEGEPOLYS VALLEY',\n",
       " 'MAISON DU VEGETAL',\n",
       " '26 rue Jean Dixméras',\n",
       " '49066 ANGERS Cedex01',\n",
       " '02.41.72.17.67']"
      ]
     },
     "metadata": {},
     "output_type": "display_data"
    },
    {
     "name": "stdout",
     "output_type": "stream",
     "text": [
      "^^^^^^^^^^^^^^^^^^^^^^^^^^^^^^^^^^^^^^^^^^^^^^^^^^^^^^^^^^^^^^^^^^^^^^^^^^^^^^^^^^^^^^^^^^^^^^^^^^^^\n"
     ]
    },
    {
     "data": {
      "text/plain": [
       "'02.41.72.17.67'"
      ]
     },
     "metadata": {},
     "output_type": "display_data"
    },
    {
     "data": {
      "text/plain": [
       "''"
      ]
     },
     "metadata": {},
     "output_type": "display_data"
    },
    {
     "name": "stdout",
     "output_type": "stream",
     "text": [
      "******************************************************************************************************************************************************\n"
     ]
    },
    {
     "data": {
      "text/plain": [
       "['Xylofutur',\n",
       " 'Campus Bordeaux Sciences Agro',\n",
       " '1, cours du général de gaulle – CS 40201',\n",
       " '33175 Gradignan cedex',\n",
       " '05 56 81 54 87 / contact[ @ ]xylofutur.fr']"
      ]
     },
     "metadata": {},
     "output_type": "display_data"
    },
    {
     "name": "stdout",
     "output_type": "stream",
     "text": [
      "^^^^^^^^^^^^^^^^^^^^^^^^^^^^^^^^^^^^^^^^^^^^^^^^^^^^^^^^^^^^^^^^^^^^^^^^^^^^^^^^^^^^^^^^^^^^^^^^^^^^\n"
     ]
    },
    {
     "data": {
      "text/plain": [
       "'05 56 81 54 87'"
      ]
     },
     "metadata": {},
     "output_type": "display_data"
    },
    {
     "data": {
      "text/plain": [
       "'contact[ @ ]xylofutur.fr'"
      ]
     },
     "metadata": {},
     "output_type": "display_data"
    },
    {
     "name": "stdout",
     "output_type": "stream",
     "text": [
      "******************************************************************************************************************************************************\n"
     ]
    },
    {
     "data": {
      "text/plain": [
       "['Xylofutur',\n",
       " 'Campus Bordeaux Sciences Agro',\n",
       " '1, cours du général de gaulle – CS 40201',\n",
       " '33175 Gradignan cedex',\n",
       " '05 56 81 54 87 / contact[ @ ]xylofutur.fr']"
      ]
     },
     "metadata": {},
     "output_type": "display_data"
    },
    {
     "name": "stdout",
     "output_type": "stream",
     "text": [
      "^^^^^^^^^^^^^^^^^^^^^^^^^^^^^^^^^^^^^^^^^^^^^^^^^^^^^^^^^^^^^^^^^^^^^^^^^^^^^^^^^^^^^^^^^^^^^^^^^^^^\n"
     ]
    },
    {
     "data": {
      "text/plain": [
       "'05 56 81 54 87'"
      ]
     },
     "metadata": {},
     "output_type": "display_data"
    },
    {
     "data": {
      "text/plain": [
       "'contact[ @ ]xylofutur.fr'"
      ]
     },
     "metadata": {},
     "output_type": "display_data"
    },
    {
     "name": "stdout",
     "output_type": "stream",
     "text": [
      "******************************************************************************************************************************************************\n"
     ]
    },
    {
     "data": {
      "text/plain": [
       "['Xylofutur',\n",
       " 'Campus Bordeaux Sciences Agro',\n",
       " '1, cours du général de gaulle – CS 40201',\n",
       " '33175 Gradignan cedex',\n",
       " '05 56 81 54 87 / contact[ @ ]xylofutur.fr']"
      ]
     },
     "metadata": {},
     "output_type": "display_data"
    },
    {
     "name": "stdout",
     "output_type": "stream",
     "text": [
      "^^^^^^^^^^^^^^^^^^^^^^^^^^^^^^^^^^^^^^^^^^^^^^^^^^^^^^^^^^^^^^^^^^^^^^^^^^^^^^^^^^^^^^^^^^^^^^^^^^^^\n"
     ]
    },
    {
     "data": {
      "text/plain": [
       "'05 56 81 54 87'"
      ]
     },
     "metadata": {},
     "output_type": "display_data"
    },
    {
     "data": {
      "text/plain": [
       "'contact[ @ ]xylofutur.fr'"
      ]
     },
     "metadata": {},
     "output_type": "display_data"
    },
    {
     "name": "stdout",
     "output_type": "stream",
     "text": [
      "******************************************************************************************************************************************************\n"
     ]
    },
    {
     "data": {
      "text/plain": [
       "['Xylofutur',\n",
       " 'Campus Bordeaux Sciences Agro',\n",
       " '1, cours du général de gaulle – CS 40201',\n",
       " '33175 Gradignan cedex',\n",
       " '05 56 81 54 87 / contact[ @ ]xylofutur.fr']"
      ]
     },
     "metadata": {},
     "output_type": "display_data"
    },
    {
     "name": "stdout",
     "output_type": "stream",
     "text": [
      "^^^^^^^^^^^^^^^^^^^^^^^^^^^^^^^^^^^^^^^^^^^^^^^^^^^^^^^^^^^^^^^^^^^^^^^^^^^^^^^^^^^^^^^^^^^^^^^^^^^^\n"
     ]
    },
    {
     "data": {
      "text/plain": [
       "'05 56 81 54 87'"
      ]
     },
     "metadata": {},
     "output_type": "display_data"
    },
    {
     "data": {
      "text/plain": [
       "'contact[ @ ]xylofutur.fr'"
      ]
     },
     "metadata": {},
     "output_type": "display_data"
    },
    {
     "name": "stdout",
     "output_type": "stream",
     "text": [
      "******************************************************************************************************************************************************\n"
     ]
    },
    {
     "data": {
      "text/plain": [
       "['VITAGORA',\n",
       " '16 rue de l’Hôpital',\n",
       " '21000 Dijon',\n",
       " '03 80 78 97 91 / christophe.breuillet[ @ ]vitagora.com']"
      ]
     },
     "metadata": {},
     "output_type": "display_data"
    },
    {
     "name": "stdout",
     "output_type": "stream",
     "text": [
      "^^^^^^^^^^^^^^^^^^^^^^^^^^^^^^^^^^^^^^^^^^^^^^^^^^^^^^^^^^^^^^^^^^^^^^^^^^^^^^^^^^^^^^^^^^^^^^^^^^^^\n"
     ]
    },
    {
     "data": {
      "text/plain": [
       "'03 80 78 97 91'"
      ]
     },
     "metadata": {},
     "output_type": "display_data"
    },
    {
     "data": {
      "text/plain": [
       "'christophe.breuillet[ @ ]vitagora.com'"
      ]
     },
     "metadata": {},
     "output_type": "display_data"
    },
    {
     "name": "stdout",
     "output_type": "stream",
     "text": [
      "******************************************************************************************************************************************************\n"
     ]
    },
    {
     "data": {
      "text/plain": [
       "['VITAGORA',\n",
       " '16 rue de l’Hôpital',\n",
       " '21000 Dijon',\n",
       " '03 80 78 97 91 / christophe.breuillet[ @ ]vitagora.com']"
      ]
     },
     "metadata": {},
     "output_type": "display_data"
    },
    {
     "name": "stdout",
     "output_type": "stream",
     "text": [
      "^^^^^^^^^^^^^^^^^^^^^^^^^^^^^^^^^^^^^^^^^^^^^^^^^^^^^^^^^^^^^^^^^^^^^^^^^^^^^^^^^^^^^^^^^^^^^^^^^^^^\n"
     ]
    },
    {
     "data": {
      "text/plain": [
       "'03 80 78 97 91'"
      ]
     },
     "metadata": {},
     "output_type": "display_data"
    },
    {
     "data": {
      "text/plain": [
       "'christophe.breuillet[ @ ]vitagora.com'"
      ]
     },
     "metadata": {},
     "output_type": "display_data"
    },
    {
     "name": "stdout",
     "output_type": "stream",
     "text": [
      "******************************************************************************************************************************************************\n"
     ]
    },
    {
     "data": {
      "text/plain": [
       "['VITAGORA',\n",
       " '16 rue de l’Hôpital',\n",
       " '21000 Dijon',\n",
       " '03 80 78 97 91 / christophe.breuillet[ @ ]vitagora.com']"
      ]
     },
     "metadata": {},
     "output_type": "display_data"
    },
    {
     "name": "stdout",
     "output_type": "stream",
     "text": [
      "^^^^^^^^^^^^^^^^^^^^^^^^^^^^^^^^^^^^^^^^^^^^^^^^^^^^^^^^^^^^^^^^^^^^^^^^^^^^^^^^^^^^^^^^^^^^^^^^^^^^\n"
     ]
    },
    {
     "data": {
      "text/plain": [
       "'03 80 78 97 91'"
      ]
     },
     "metadata": {},
     "output_type": "display_data"
    },
    {
     "data": {
      "text/plain": [
       "'christophe.breuillet[ @ ]vitagora.com'"
      ]
     },
     "metadata": {},
     "output_type": "display_data"
    },
    {
     "name": "stdout",
     "output_type": "stream",
     "text": [
      "******************************************************************************************************************************************************\n"
     ]
    },
    {
     "data": {
      "text/plain": [
       "['VITAGORA',\n",
       " '16 rue de l’Hôpital',\n",
       " '21000 Dijon',\n",
       " '03 80 78 97 91 / christophe.breuillet[ @ ]vitagora.com']"
      ]
     },
     "metadata": {},
     "output_type": "display_data"
    },
    {
     "name": "stdout",
     "output_type": "stream",
     "text": [
      "^^^^^^^^^^^^^^^^^^^^^^^^^^^^^^^^^^^^^^^^^^^^^^^^^^^^^^^^^^^^^^^^^^^^^^^^^^^^^^^^^^^^^^^^^^^^^^^^^^^^\n"
     ]
    },
    {
     "data": {
      "text/plain": [
       "'03 80 78 97 91'"
      ]
     },
     "metadata": {},
     "output_type": "display_data"
    },
    {
     "data": {
      "text/plain": [
       "'christophe.breuillet[ @ ]vitagora.com'"
      ]
     },
     "metadata": {},
     "output_type": "display_data"
    },
    {
     "name": "stdout",
     "output_type": "stream",
     "text": [
      "******************************************************************************************************************************************************\n"
     ]
    },
    {
     "data": {
      "text/plain": [
       "['VITAGORA',\n",
       " '16 rue de l’Hôpital',\n",
       " '21000 Dijon',\n",
       " '03 80 78 97 91 / christophe.breuillet[ @ ]vitagora.com']"
      ]
     },
     "metadata": {},
     "output_type": "display_data"
    },
    {
     "name": "stdout",
     "output_type": "stream",
     "text": [
      "^^^^^^^^^^^^^^^^^^^^^^^^^^^^^^^^^^^^^^^^^^^^^^^^^^^^^^^^^^^^^^^^^^^^^^^^^^^^^^^^^^^^^^^^^^^^^^^^^^^^\n"
     ]
    },
    {
     "data": {
      "text/plain": [
       "'03 80 78 97 91'"
      ]
     },
     "metadata": {},
     "output_type": "display_data"
    },
    {
     "data": {
      "text/plain": [
       "'christophe.breuillet[ @ ]vitagora.com'"
      ]
     },
     "metadata": {},
     "output_type": "display_data"
    },
    {
     "name": "stdout",
     "output_type": "stream",
     "text": [
      "******************************************************************************************************************************************************\n"
     ]
    }
   ],
   "source": [
    "def extract_phone(str_contact):\n",
    "    list_contact = [c.strip() for c in str(str_contact).split('\\n') if c.strip() != '']\n",
    "    \n",
    "    cle_phones = ['Tele :', '+33', 'Tél :', 'Tel :', 'Tél.', 'Téléphone :', '01', '02', '03', '04', '05']\n",
    "    def count_digits(string):\n",
    "        count = sum(c.isdigit() for c in string)\n",
    "        return count\n",
    "\n",
    "    phones = list(set([c for c in list_contact for cle in cle_phones if cle in c and count_digits(c)>=10]))\n",
    "    phones_1 = []\n",
    "    for ph in phones:\n",
    "        if '@' in ph:\n",
    "            list_ph = ph.split(' / ')\n",
    "            if  len(list_ph) >= 2 :\n",
    "                for p in list_ph:\n",
    "                    if count_digits(p) >= 10 and '@' not in p:\n",
    "                        phones_1.append(p)\n",
    "                        \n",
    "            if len(list_ph) < 2 or not phones_1:\n",
    "                list_ph = ph.split(' | ')\n",
    "                if  len(list_ph) >= 2 :\n",
    "                    for p in list_ph:\n",
    "                        if count_digits(p) >= 10 and '@' not in p:\n",
    "                            phones_1.append(p)\n",
    "                if len(list_ph) < 2 or not phones_1:\n",
    "                    list_ph = ph.split(' – ')\n",
    "                    if  len(list_ph) >= 2 :\n",
    "                        for p in list_ph:\n",
    "                            if count_digits(p) >= 10 and '@' not in p:\n",
    "                                phones_1.append(p)\n",
    "        else:\n",
    "            phones_1.append(ph)\n",
    "                        \n",
    "    return ' / '.join(list(set(phones_1))).strip()\n",
    "\n",
    "\n",
    "def extract_email(str_contact):\n",
    "    list_contact = [c.strip() for c in str(str_contact).split('\\n') if c.strip() != '']\n",
    "    \n",
    "    def count_digits(string):\n",
    "        count = sum(c.isdigit() for c in string)\n",
    "        return count\n",
    "\n",
    "    emails = list(set([c for c in list_contact if '@' in c and '.' in c]))\n",
    "    emails_1 = []\n",
    "    for e in emails:\n",
    "        if count_digits(e) >= 10  :\n",
    "            list_e = e.split(' / ')\n",
    "            if  len(list_e) >= 2 :\n",
    "                for em in list_e:\n",
    "                    if count_digits(em) < 10 and '@' in em and '.' in em:\n",
    "                        emails_1.append(em)\n",
    "                        \n",
    "            if len(list_e) < 2 or not list_e:\n",
    "                list_e = e.split(' | ')\n",
    "                if  len(list_e) >= 2 :\n",
    "                    for em in list_e:\n",
    "                        if count_digits(em) < 10 and '@' in em and '.' in em:\n",
    "                            emails_1.append(em)\n",
    "                        \n",
    "                if len(list_e) < 2 or not list_e:\n",
    "                    list_e = e.split(' – ')\n",
    "                    if  len(list_e) >= 2 :\n",
    "                        for em in list_e:\n",
    "                            if count_digits(em) < 10 and '@' in em and '.' in em:\n",
    "                                emails_1.append(em)\n",
    "        else:\n",
    "            emails_1.append(e)\n",
    "                        \n",
    "    return ' / '.join(list(set(emails_1))).strip()\n",
    "\n",
    "df_exploded['Phone'] = df_exploded['Contact'].apply(extract_phone)\n",
    "df_exploded['Email'] = df_exploded['Contact'].apply(extract_email)\n",
    "\n",
    "for i in range(244):\n",
    "    list_contact = [c.strip() for c in str(df_exploded['Contact'][i:i+1][i]).split('\\n') if c.strip() != '']\n",
    "    display(list_contact)\n",
    "    print(f'^'*100)\n",
    "    display(df_exploded['Phone'][i])\n",
    "    display(df_exploded['Email'][i])\n",
    "    print(f'*'*150)"
   ]
  },
  {
   "cell_type": "code",
   "execution_count": 264,
   "id": "1bb6910b-05d0-420b-b5a1-4bf8985308a8",
   "metadata": {},
   "outputs": [],
   "source": [
    "df_exploded = df_exploded[['Rang', 'profile_name', 'profile_role', 'poles', 'Phone', 'Email', 'Domaines d’activité',\n",
    "       'Membres actifs', 'Informations générales', 'Contact']]\n",
    "\n",
    "df_exploded.to_excel('54 poles de compétitivité 12_11_2024 14h00min avec profile_name, profile_role, Phone et Email.xlsx', index=False)"
   ]
  },
  {
   "cell_type": "code",
   "execution_count": null,
   "id": "c4a771cb-eb63-4895-b9b2-b8f2fbb7f0b7",
   "metadata": {},
   "outputs": [],
   "source": []
  }
 ],
 "metadata": {
  "kernelspec": {
   "display_name": "Python 3 (ipykernel)",
   "language": "python",
   "name": "python3"
  },
  "language_info": {
   "codemirror_mode": {
    "name": "ipython",
    "version": 3
   },
   "file_extension": ".py",
   "mimetype": "text/x-python",
   "name": "python",
   "nbconvert_exporter": "python",
   "pygments_lexer": "ipython3",
   "version": "3.12.4"
  }
 },
 "nbformat": 4,
 "nbformat_minor": 5
}
